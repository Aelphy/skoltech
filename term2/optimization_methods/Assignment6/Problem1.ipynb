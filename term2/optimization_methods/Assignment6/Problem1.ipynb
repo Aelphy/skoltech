{
 "cells": [
  {
   "cell_type": "markdown",
   "metadata": {},
   "source": [
    "# Problem 1"
   ]
  },
  {
   "cell_type": "markdown",
   "metadata": {},
   "source": [
    "$$\\min_{x} c^T x$$\n",
    "S.T. $$F(x)\\leq 0$$\n",
    "\n",
    "We are going to use barier method.\n",
    "Thus we want to find:\n",
    "\n",
    "$$\\min_{t, x} tc^Tx - \\sum_{i} log(-F_i(x))$$"
   ]
  },
  {
   "cell_type": "code",
   "execution_count": 59,
   "metadata": {
    "collapsed": false
   },
   "outputs": [],
   "source": [
    "import numpy as np\n",
    "import scipy as sp\n",
    "import scipy.optimize\n",
    "\n",
    "class NewtonSolver():\n",
    "    def __init__(self):\n",
    "        self.epsilon = 1e-3\n",
    "        self.gamma = 0.5\n",
    "        \n",
    "    def solve(self, f, x0, hessian, jacobian):\n",
    "        def regularization_vector():\n",
    "            return self.epsilon * np.ones(x0.shape[0])\n",
    "\n",
    "        x_old = x0\n",
    "        \n",
    "        while True:\n",
    "            x_new = x_old - self.gamma * np.linalg.inv(hessian(x_old) + regularization_vector()).dot(jacobian(x_old))\n",
    "\n",
    "            i = 2\n",
    "            while f(x_new) == np.inf:\n",
    "                x_new = x_old - (self.gamma ** i) * np.linalg.inv(hessian(x_old) + regularization_vector()).dot(jacobian(x_old))\n",
    "                i += 1\n",
    "\n",
    "            if np.linalg.norm(x_new - x_old) < self.epsilon:\n",
    "                break\n",
    "                \n",
    "            x_old = x_new\n",
    "        return x_new\n",
    "        \n",
    "\n",
    "class IPSolver():\n",
    "    def __init__(self):\n",
    "        self.mu = 2\n",
    "        self.epsilon = 1e-3\n",
    "        self.x0 = np.array([0, 0]).T\n",
    "        self.newton = NewtonSolver()\n",
    "    \n",
    "    # It is assumed that Ax <= b is the form of inequality constraints for the problem\n",
    "    # A is 2x2 matrix x is (x1, x2)\n",
    "    # the problem was given in the form of min c^T x\n",
    "    def solve(self, c, A, b, callback = None):\n",
    "        t = 1\n",
    "        \n",
    "        def jacobian(t):\n",
    "            def function(x):\n",
    "                J = np.zeros(A.shape[1])\n",
    "\n",
    "                for j in range(A.shape[1]):\n",
    "                    J[j] = t * c[j] \n",
    "                    \n",
    "                    for i in range(A.shape[0]):\n",
    "                        J[j] += A[i, j] / (b[i] - A[i].dot(x.T))\n",
    "\n",
    "                return J\n",
    "\n",
    "            return function\n",
    "        \n",
    "        def hessian():\n",
    "            def function(x):\n",
    "                H = np.zeros((A.shape[1], A.shape[1]))\n",
    "                \n",
    "                for i in range(A.shape[0]):\n",
    "                    H[0, 0] += (A[i, 0] / (A[i].dot(x.T) - b[i])) ** 2\n",
    "                    \n",
    "                for i in range(A.shape[0]):\n",
    "                    H[1, 1] += (A[i, 1] / (A[i].dot(x.T) - b[i])) ** 2\n",
    "                    \n",
    "                for i in range(A.shape[0]):\n",
    "                    H[0, 1] += A[i, 0] * A[i, 1] / (A[i].dot(x.T) - b[i]) ** 2\n",
    "                    H[1, 0] += A[i, 0] * A[i, 1] / (A[i].dot(x.T) - b[i]) ** 2\n",
    "\n",
    "                return H\n",
    "\n",
    "            return function\n",
    "        \n",
    "        def fi(x):\n",
    "            return A.dot(x) - b\n",
    "        \n",
    "        def f(x):\n",
    "            return c.T.dot(x)\n",
    "        \n",
    "        def barrier_function(t):\n",
    "            def function(x):\n",
    "                f_val = t * f(x)\n",
    "                \n",
    "                if (fi(x) > 0).any():\n",
    "                    f_val = np.inf\n",
    "                else:\n",
    "                    f_val -= np.sum(np.log(-fi(x)))\n",
    "                \n",
    "                return f_val\n",
    "            \n",
    "            return function\n",
    "        \n",
    "        x_old = self.x0\n",
    "        \n",
    "        if callback:\n",
    "            callback(x_old)\n",
    "            \n",
    "        while True:\n",
    "            x_new = self.newton.solve(barrier_function(t), x_old, hessian(), jacobian(t))\n",
    "            \n",
    "            if np.linalg.norm(x_new - x_old) < self.epsilon:\n",
    "                break\n",
    "\n",
    "            if callback:\n",
    "                callback(x_new)\n",
    "                \n",
    "            t *= self.mu\n",
    "            x_old = x_new\n",
    "                \n",
    "        return x_new"
   ]
  },
  {
   "cell_type": "code",
   "execution_count": 60,
   "metadata": {
    "collapsed": false
   },
   "outputs": [
    {
     "data": {
      "text/plain": [
       "<matplotlib.collections.PathCollection at 0x10a88e940>"
      ]
     },
     "execution_count": 60,
     "metadata": {},
     "output_type": "execute_result"
    },
    {
     "name": "stderr",
     "output_type": "stream",
     "text": [
      "/usr/local/lib/python3.5/site-packages/matplotlib/collections.py:590: FutureWarning: elementwise comparison failed; returning scalar instead, but in the future will perform elementwise comparison\n",
      "  if self._edgecolors == str('face'):\n"
     ]
    },
    {
     "data": {
      "image/png": "[encoded data removed]",
      "text/plain": [
       "<matplotlib.figure.Figure at 0x10abdaba8>"
      ]
     },
     "metadata": {},
     "output_type": "display_data"
    }
   ],
   "source": [
    "import matplotlib.pyplot as plt\n",
    "\n",
    "%matplotlib inline\n",
    "\n",
    "np.random.seed(1)\n",
    "c = np.random.random(2)\n",
    "A = np.random.random((4, 2))\n",
    "b = np.random.random(4)\n",
    "\n",
    "A = np.vstack((A, np.array([1, 0])))\n",
    "A = np.vstack((A, np.array([-1, 0])))\n",
    "A = np.vstack((A, np.array([0, -1])))\n",
    "A = np.vstack((A, np.array([0, 1])))\n",
    "\n",
    "b = np.hstack((b, np.array([1])))\n",
    "b = np.hstack((b, np.array([1])))\n",
    "b = np.hstack((b, np.array([1])))\n",
    "b = np.hstack((b, np.array([1])))\n",
    "\n",
    "traj_x1 = []\n",
    "traj_x2 = []\n",
    "\n",
    "def track(x):\n",
    "    traj_x1.append(x[0])\n",
    "    traj_x2.append(x[1])\n",
    "\n",
    "solver = IPSolver()\n",
    "X = solver.solve(c, A, b, track)\n",
    "\n",
    "plt.plot(traj_x1, traj_x2, 'ro')\n",
    "\n",
    "x1, x2 = np.mgrid[-1:1:0.05, -1:1:0.05]\n",
    "x1 = x1.reshape(-1)\n",
    "x2 = x2.reshape(-1)\n",
    "\n",
    "X1 = []\n",
    "X2 = []\n",
    "\n",
    "for i in range(x1.shape[0]):\n",
    "    constr = A.dot(np.array([x1[i], x2[i]])) - b\n",
    "    if constr[constr > 0].any():\n",
    "        continue\n",
    "    else:\n",
    "        X1.append(x1[i])\n",
    "        X2.append(x2[i])\n",
    "\n",
    "plt.scatter(X1, X2)"
   ]
  },
  {
   "cell_type": "code",
   "execution_count": 61,
   "metadata": {
    "collapsed": false
   },
   "outputs": [
    {
     "data": {
      "text/plain": [
       "<matplotlib.collections.PathCollection at 0x10aea6080>"
      ]
     },
     "execution_count": 61,
     "metadata": {},
     "output_type": "execute_result"
    },
    {
     "name": "stderr",
     "output_type": "stream",
     "text": [
      "/usr/local/lib/python3.5/site-packages/matplotlib/collections.py:590: FutureWarning: elementwise comparison failed; returning scalar instead, but in the future will perform elementwise comparison\n",
      "  if self._edgecolors == str('face'):\n"
     ]
    },
    {
     "data": {
      "image/png": "[encoded data removed]",
      "text/plain": [
       "<matplotlib.figure.Figure at 0x10ad4d9e8>"
      ]
     },
     "metadata": {},
     "output_type": "display_data"
    }
   ],
   "source": [
    "import matplotlib.pyplot as plt\n",
    "\n",
    "%matplotlib inline\n",
    "\n",
    "np.random.seed(2)\n",
    "c = np.random.random(2)\n",
    "A = np.random.random((4, 2))\n",
    "b = np.random.random(4)\n",
    "\n",
    "A = np.vstack((A, np.array([1, 0])))\n",
    "A = np.vstack((A, np.array([-1, 0])))\n",
    "A = np.vstack((A, np.array([0, -1])))\n",
    "A = np.vstack((A, np.array([0, 1])))\n",
    "\n",
    "b = np.hstack((b, np.array([1])))\n",
    "b = np.hstack((b, np.array([1])))\n",
    "b = np.hstack((b, np.array([1])))\n",
    "b = np.hstack((b, np.array([1])))\n",
    "\n",
    "traj_x1 = []\n",
    "traj_x2 = []\n",
    "\n",
    "def track(x):\n",
    "    traj_x1.append(x[0])\n",
    "    traj_x2.append(x[1])\n",
    "\n",
    "solver = IPSolver()\n",
    "X = solver.solve(c, A, b, track)\n",
    "\n",
    "plt.plot(traj_x1, traj_x2, 'ro')\n",
    "\n",
    "x1, x2 = np.mgrid[-1:1:0.05, -1:1:0.05]\n",
    "x1 = x1.reshape(-1)\n",
    "x2 = x2.reshape(-1)\n",
    "\n",
    "X1 = []\n",
    "X2 = []\n",
    "\n",
    "for i in range(x1.shape[0]):\n",
    "    constr = A.dot(np.array([x1[i], x2[i]])) - b\n",
    "    if constr[constr > 0].any():\n",
    "        continue\n",
    "    else:\n",
    "        X1.append(x1[i])\n",
    "        X2.append(x2[i])\n",
    "\n",
    "plt.scatter(X1, X2)"
   ]
  },
  {
   "cell_type": "code",
   "execution_count": 70,
   "metadata": {
    "collapsed": false
   },
   "outputs": [
    {
     "data": {
      "text/plain": [
       "<matplotlib.collections.PathCollection at 0x10b074128>"
      ]
     },
     "execution_count": 70,
     "metadata": {},
     "output_type": "execute_result"
    },
    {
     "name": "stderr",
     "output_type": "stream",
     "text": [
      "/usr/local/lib/python3.5/site-packages/matplotlib/collections.py:590: FutureWarning: elementwise comparison failed; returning scalar instead, but in the future will perform elementwise comparison\n",
      "  if self._edgecolors == str('face'):\n"
     ]
    },
    {
     "data": {
      "image/png": "[encoded data removed]",
      "text/plain": [
       "<matplotlib.figure.Figure at 0x10b126908>"
      ]
     },
     "metadata": {},
     "output_type": "display_data"
    }
   ],
   "source": [
    "import matplotlib.pyplot as plt\n",
    "\n",
    "%matplotlib inline\n",
    "\n",
    "np.random.seed(42)\n",
    "c = np.random.random(2)\n",
    "A = np.random.random((8, 2)) - 0.5\n",
    "b = np.random.random(8)\n",
    "\n",
    "A = np.vstack((A, np.array([1, 0])))\n",
    "A = np.vstack((A, np.array([-1, 0])))\n",
    "A = np.vstack((A, np.array([0, -1])))\n",
    "A = np.vstack((A, np.array([0, 1])))\n",
    "\n",
    "b = np.hstack((b, np.array([1])))\n",
    "b = np.hstack((b, np.array([1])))\n",
    "b = np.hstack((b, np.array([1])))\n",
    "b = np.hstack((b, np.array([1])))\n",
    "\n",
    "traj_x1 = []\n",
    "traj_x2 = []\n",
    "\n",
    "def track(x):\n",
    "    traj_x1.append(x[0])\n",
    "    traj_x2.append(x[1])\n",
    "\n",
    "# solver = IPSolver()\n",
    "# X = solver.solve(c, A, b, track)\n",
    "\n",
    "# plt.plot(traj_x1, traj_x2, 'ro')\n",
    "\n",
    "x1, x2 = np.mgrid[-1:1:0.05, -1:1:0.05]\n",
    "x1 = x1.reshape(-1)\n",
    "x2 = x2.reshape(-1)\n",
    "\n",
    "X1 = []\n",
    "X2 = []\n",
    "\n",
    "for i in range(x1.shape[0]):\n",
    "    constr = A.dot(np.array([x1[i], x2[i]])) - b\n",
    "    if constr[constr > 0].any():\n",
    "        continue\n",
    "    else:\n",
    "        X1.append(x1[i])\n",
    "        X2.append(x2[i])\n",
    "\n",
    "plt.scatter(X1, X2)"
   ]
  },
  {
   "cell_type": "code",
   "execution_count": 69,
   "metadata": {
    "collapsed": false
   },
   "outputs": [
    {
     "data": {
      "text/plain": [
       "array([[ 0.23199394,  0.09865848],\n",
       "       [-0.34398136, -0.34400548],\n",
       "       [-0.44191639,  0.36617615],\n",
       "       [ 0.10111501,  0.20807258],\n",
       "       [-0.47941551,  0.46990985],\n",
       "       [ 0.33244264, -0.28766089],\n",
       "       [-0.31817503, -0.31659549],\n",
       "       [-0.19575776,  0.02475643],\n",
       "       [ 1.        ,  0.        ],\n",
       "       [-1.        ,  0.        ],\n",
       "       [ 0.        , -1.        ],\n",
       "       [ 0.        ,  1.        ]])"
      ]
     },
     "execution_count": 69,
     "metadata": {},
     "output_type": "execute_result"
    }
   ],
   "source": [
    "A"
   ]
  },
  {
   "cell_type": "code",
   "execution_count": null,
   "metadata": {
    "collapsed": true
   },
   "outputs": [],
   "source": []
  },
  {
   "cell_type": "code",
   "execution_count": null,
   "metadata": {
    "collapsed": true
   },
   "outputs": [],
   "source": []
  }
 ],
 "metadata": {
  "kernelspec": {
   "display_name": "Python 3",
   "language": "python",
   "name": "python3"
  },
  "language_info": {
   "codemirror_mode": {
    "name": "ipython",
    "version": 3
   },
   "file_extension": ".py",
   "mimetype": "text/x-python",
   "name": "python",
   "nbconvert_exporter": "python",
   "pygments_lexer": "ipython3",
   "version": "3.5.0"
  }
 },
 "nbformat": 4,
 "nbformat_minor": 0
}
