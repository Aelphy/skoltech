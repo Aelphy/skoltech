{
 "cells": [
  {
   "cell_type": "markdown",
   "metadata": {},
   "source": [
    "**Problem 1:** *Capacitated facility location.* \n",
    "\n",
    "You need to solve a *capacitated facility location* problem. There are a number of clients that can be served by a number of potential facilities. As in the case of a common (uncapacitated) facility location problem, you need to decide which facilities to open (paying the opening cost for each) and which clients to serve at each facility (paying the assignment cost). Each client must be assigned to one opened facility. In addition, you have a cap on how many clients each facility can serve. As usual, you want to minimize the costs.\n",
    "\n",
    "Implement the following algorithms and investigate them. Use the attached script to generate the data, and to visualize the results. You are supposed to play with different configurations and sizes of the problem. Please make your report detailed (otherwise lower amount of points then indicated may be assigned).\n",
    "\n",
    "* (2 points). Implement a **greedy algorithm** for the problem.\n",
    "* (3 points). Implement **some local optimization algorithm**. Try to design powerful moves that are at the same time easy to search through. **Important:** your move should connect the whole domain, i.e. for any pair of feasible solutions, there should exist a sequence of moves from the family you design that transform one solution to the other.\n",
    "* (3 points). Implement the **simulated annealing algorithm** based on the best of your local optimization algorithms. Play with the schedule and see how it affects the results. Compare with the local optimization algorithm that you base upon. Note, that if implemented correctly, simulated annealing should improve over the local optimization algorithm.\n",
    "\n",
    "Below is the solution that uses a mixed-integer solver (we will come to that in week 3). You can use it as a reference for small instances (for which it will give you a global optimum), and also reuse the visualization code. "
   ]
  },
  {
   "cell_type": "code",
   "execution_count": 7,
   "metadata": {
    "collapsed": false
   },
   "outputs": [
    {
     "name": "stdout",
     "output_type": "stream",
     "text": [
      "Optimize a model with 50 rows, 315 columns and 645 nonzeros\n",
      "Coefficient statistics:\n",
      "  Matrix range    [1e+00, 4e+00]\n",
      "  Objective range [2e-04, 5e+00]\n",
      "  Bounds range    [1e+00, 1e+00]\n",
      "  RHS range       [1e+00, 1e+00]\n",
      "Found heuristic solution: objective 33.3461\n",
      "Presolve time: 0.01s\n",
      "Presolved: 50 rows, 315 columns, 645 nonzeros\n",
      "Variable types: 0 continuous, 315 integer (315 binary)\n",
      "\n",
      "Root relaxation: objective 6.503730e+00, 59 iterations, 0.00 seconds\n",
      "\n",
      "    Nodes    |    Current Node    |     Objective Bounds      |     Work\n",
      " Expl Unexpl |  Obj  Depth IntInf | Incumbent    BestBd   Gap | It/Node Time\n",
      "\n",
      "     0     0    6.50373    0   12   33.34610    6.50373  80.5%     -    0s\n",
      "H    0     0                      11.5023502    6.50373  43.5%     -    0s\n",
      "H    0     0                       8.1447511    6.50373  20.1%     -    0s\n",
      "     0     0    6.86502    0   26    8.14475    6.86502  15.7%     -    0s\n",
      "H    0     0                       7.9698679    6.86502  13.9%     -    0s\n",
      "     0     0    7.01939    0   27    7.96987    7.01939  11.9%     -    0s\n",
      "     0     0    7.17619    0    2    7.96987    7.17619  10.0%     -    0s\n",
      "     0     0    7.17619    0   12    7.96987    7.17619  10.0%     -    0s\n",
      "     0     0    7.17619    0   26    7.96987    7.17619  10.0%     -    0s\n",
      "     0     0    7.17619    0    7    7.96987    7.17619  10.0%     -    0s\n",
      "     0     0    7.19878    0   23    7.96987    7.19878  9.68%     -    0s\n",
      "H    0     0                       7.9084726    7.19878  8.97%     -    0s\n",
      "     0     0    7.25223    0   11    7.90847    7.25223  8.30%     -    0s\n",
      "     0     0    7.28325    0   47    7.90847    7.28325  7.91%     -    0s\n",
      "     0     0    7.28993    0   14    7.90847    7.28993  7.82%     -    0s\n",
      "     0     0    7.30088    0   22    7.90847    7.30088  7.68%     -    0s\n",
      "     0     0    7.32622    0   54    7.90847    7.32622  7.36%     -    0s\n",
      "     0     0    7.32642    0   55    7.90847    7.32642  7.36%     -    0s\n",
      "     0     0    7.36717    0   50    7.90847    7.36717  6.84%     -    0s\n",
      "     0     0    7.37560    0   46    7.90847    7.37560  6.74%     -    0s\n",
      "     0     0    7.39175    0   51    7.90847    7.39175  6.53%     -    0s\n",
      "     0     0    7.39175    0   11    7.90847    7.39175  6.53%     -    0s\n",
      "     0     0    7.39175    0   24    7.90847    7.39175  6.53%     -    0s\n",
      "     0     0    7.39175    0   50    7.90847    7.39175  6.53%     -    0s\n",
      "     0     0    7.39175    0   25    7.90847    7.39175  6.53%     -    0s\n",
      "     0     0    7.39175    0   57    7.90847    7.39175  6.53%     -    0s\n",
      "     0     0    7.39175    0   49    7.90847    7.39175  6.53%     -    0s\n",
      "H    0     0                       7.5711129    7.39175  2.37%     -    0s\n",
      "     0     0    7.39352    0   49    7.57111    7.39352  2.35%     -    0s\n",
      "     0     0    7.40077    0   53    7.57111    7.40077  2.25%     -    0s\n",
      "     0     0    7.40077    0   11    7.57111    7.40077  2.25%     -    0s\n",
      "     0     0    7.40077    0   21    7.57111    7.40077  2.25%     -    0s\n",
      "     0     0    7.40077    0   14    7.57111    7.40077  2.25%     -    0s\n",
      "     0     0    7.40077    0   35    7.57111    7.40077  2.25%     -    0s\n",
      "     0     0    7.40077    0   34    7.57111    7.40077  2.25%     -    0s\n",
      "     0     0    7.41938    0    7    7.57111    7.41938  2.00%     -    0s\n",
      "     0     0    7.42222    0   43    7.57111    7.42222  1.97%     -    0s\n",
      "     0     0    7.42906    0   38    7.57111    7.42906  1.88%     -    0s\n",
      "     0     0    7.42985    0   38    7.57111    7.42985  1.87%     -    0s\n",
      "     0     0    7.42992    0   36    7.57111    7.42992  1.86%     -    0s\n",
      "     0     0    7.42992    0   11    7.57111    7.42992  1.86%     -    0s\n",
      "     0     0    7.42992    0   22    7.57111    7.42992  1.86%     -    0s\n",
      "     0     0    7.42992    0   14    7.57111    7.42992  1.86%     -    0s\n",
      "     0     0    7.42992    0   21    7.57111    7.42992  1.86%     -    0s\n",
      "     0     0    7.42992    0   29    7.57111    7.42992  1.86%     -    0s\n",
      "     0     0    7.42992    0   42    7.57111    7.42992  1.86%     -    0s\n",
      "     0     0    7.42992    0    7    7.57111    7.42992  1.86%     -    0s\n",
      "     0     0    7.42992    0   32    7.57111    7.42992  1.86%     -    0s\n",
      "     0     0    7.43002    0   37    7.57111    7.43002  1.86%     -    0s\n",
      "     0     0    7.43043    0   37    7.57111    7.43043  1.86%     -    0s\n",
      "     0     2    7.43043    0   37    7.57111    7.43043  1.86%     -    0s\n",
      "\n",
      "Cutting planes:\n",
      "  Gomory: 6\n",
      "  Cover: 21\n",
      "  Clique: 5\n",
      "  MIR: 2\n",
      "\n",
      "Explored 51 nodes (854 simplex iterations) in 0.25 seconds\n",
      "Thread count was 4 (of 4 available processors)\n",
      "\n",
      "Optimal solution found (tolerance 1.00e-04)\n",
      "Best objective 7.571112923135e+00, best bound 7.571112923135e+00, gap 0.0%\n"
     ]
    },
    {
     "data": {
      "image/png": "[encoded data removed]",
      "text/plain": [
       "<matplotlib.figure.Figure at 0x106bac590>"
      ]
     },
     "metadata": {},
     "output_type": "display_data"
    }
   ],
   "source": [
    "from gurobipy import *\n",
    "\n",
    "import numpy as np\n",
    "import scipy as sp\n",
    "from numpy import random\n",
    "from numpy import matlib\n",
    "import matplotlib.pyplot as plt\n",
    "\n",
    "%matplotlib inline\n",
    "\n",
    "np.random.seed(1)\n",
    "\n",
    "C = 20; # number of clients\n",
    "clients = np.random.rand(2,C); #client positions\n",
    "F = 15; #number of facilities\n",
    "facilities = np.random.rand(2,F);\n",
    "\n",
    "capacities = np.ones((F,))*4; #maximum number of clients per facility\n",
    "\n",
    "dx = np.matlib.repmat(clients[0,:],F,1) - np.matlib.repmat(facilities[0,:],C,1).transpose();\n",
    "dy = np.matlib.repmat(clients[1,:],F,1) - np.matlib.repmat(facilities[1,:],C,1).transpose();\n",
    "\n",
    "assignment_costs = 3*(dx*dx + dy*dy); #the assignment cost is the distance squared\n",
    "\n",
    "opening_costs = np.ones((F,));\n",
    "\n",
    "# create the model\n",
    "m = Model(\"facility\")\n",
    "\n",
    "y = []\n",
    "for i_f in range(F):\n",
    "    y.append(m.addVar(vtype=GRB.BINARY))\n",
    "\n",
    "x = []    \n",
    "for i_f in range(F):\n",
    "    x.append([])\n",
    "    for i_c in range(C):\n",
    "        x[i_f].append(m.addVar(vtype=GRB.BINARY))\n",
    "\n",
    "# the objective is to minimize the total fixed and variable costs\n",
    "m.modelSense = GRB.MINIMIZE\n",
    "\n",
    "# update model to integrate new variables\n",
    "m.update()\n",
    "\n",
    "# set optimization objective - minimize sum of fixed costs\n",
    "obj_summands = []\n",
    "for i_f in range(F):\n",
    "    obj_summands.append(opening_costs[i_f]*y[i_f])\n",
    "    \n",
    "for i_f in range(F):\n",
    "    for i_c in range(C):\n",
    "        obj_summands.append(assignment_costs[i_f][i_c]*x[i_f][i_c])\n",
    "\n",
    "m.setObjective(quicksum(obj_summands))  \n",
    "\n",
    "# set constraints\n",
    "for i_c in range(C):\n",
    "    client_constr_summands = [x[i_f][i_c] for i_f in range(F)]\n",
    "    m.addConstr(sum(client_constr_summands), GRB.EQUAL, 1.0)\n",
    "        \n",
    "for i_f in range(F):        \n",
    "    facility_constr_summands = [x[i_f][i_c] for i_c in range(C)]\n",
    "    m.addConstr(sum(facility_constr_summands), GRB.LESS_EQUAL, capacities[i_f]*y[i_f])       \n",
    "\n",
    "for i_f in range(F):        \n",
    "    facility_constr_summands = [x[i_f][i_c] for i_c in range(C)]\n",
    "    m.addConstr(max(facility_constr_summands), GRB.LESS_EQUAL, y[i_f])     \n",
    "\n",
    "# optimize\n",
    "  \n",
    "m.optimize()\n",
    "\n",
    "# plot the solution\n",
    "facilities_opened = [y[i_f].X for i_f in range(F)]    \n",
    "clients_assignment = [i_f for i_f in range(F) for i_c in range(C) if x[i_f][i_c].X != 0]\n",
    "    \n",
    "plt.scatter(clients[0,:], clients[1,:], s=50.0, c=clients_assignment)\n",
    "plt.scatter(facilities[0,:], facilities[1,:], s=200.0, c=range(F), linewidth = [5*el for el in facilities_opened])\n",
    "plt.show()"
   ]
  },
  {
   "cell_type": "code",
   "execution_count": 33,
   "metadata": {
    "collapsed": false
   },
   "outputs": [],
   "source": [
    "np.random.seed(1)\n",
    "\n",
    "C = 20; # number of clients\n",
    "clients = np.random.rand(2,C); #client positions\n",
    "F = 15; #number of facilities\n",
    "facilities = np.random.rand(2,F);\n",
    "\n",
    "capacities = np.ones((F,))*4; #maximum number of clients per facility\n",
    "\n",
    "dx = np.matlib.repmat(clients[0,:],F,1) - np.matlib.repmat(facilities[0,:],C,1).transpose();\n",
    "dy = np.matlib.repmat(clients[1,:],F,1) - np.matlib.repmat(facilities[1,:],C,1).transpose();\n",
    "\n",
    "assignment_costs = 3*(dx*dx + dy*dy); #the assignment cost is the distance squared\n",
    "\n",
    "opening_costs = np.ones((F,));"
   ]
  },
  {
   "cell_type": "code",
   "execution_count": 34,
   "metadata": {
    "collapsed": false
   },
   "outputs": [
    {
     "name": "stdout",
     "output_type": "stream",
     "text": [
      "0\n",
      "1\n"
     ]
    }
   ],
   "source": [
    "total_costs = assignment_costs\n",
    "\n",
    "for i in range(len(clients)):\n",
    "    total_costs[i] += opening_costs[i]\n",
    "\n",
    "for i in range(len(clients)):\n",
    "    minimum_cost_facility = 0\n",
    "    \n",
    "    for j in range(len(facilities)):\n",
    "        if total_costs[i, j] < total_costs[i, minimum_cost_facility]:\n",
    "            minimum_cost_facility = j\n",
    "            \n",
    "    capacities[minimum_cost_facility] -= 1\n",
    "\n",
    "    if capacities[minimum_cost_facility] == 0:\n",
    "        total_costs[minimum_cost_facility, :] = np.inf(total_costs.shape[1])\n",
    "        \n",
    "    print(minimum_cost_facility)"
   ]
  },
  {
   "cell_type": "code",
   "execution_count": 36,
   "metadata": {
    "collapsed": false
   },
   "outputs": [
    {
     "data": {
      "text/plain": [
       "array([ 3.,  3.,  4.,  4.,  4.,  4.,  4.,  4.,  4.,  4.,  4.,  4.,  4.,\n",
       "        4.,  4.])"
      ]
     },
     "execution_count": 36,
     "metadata": {},
     "output_type": "execute_result"
    }
   ],
   "source": [
    "capacities"
   ]
  },
  {
   "cell_type": "code",
   "execution_count": 23,
   "metadata": {
    "collapsed": false
   },
   "outputs": [
    {
     "data": {
      "text/plain": [
       "(15, 20)"
      ]
     },
     "execution_count": 23,
     "metadata": {},
     "output_type": "execute_result"
    }
   ],
   "source": [
    "total_costs[]"
   ]
  },
  {
   "cell_type": "markdown",
   "metadata": {
    "collapsed": true
   },
   "source": [
    "** Problem 2 **: *Optimal vehicle speed scheduling (6 points) *-- (based on an additional exercise A3.20 to Boyd and Vandenberghe). \n",
    "\n",
    "A vehicle (say, an airplane) travels along a fixed path of *n* segments, between *n + 1* waypoints labeled *0, . . . , n*. Segment *i* starts at waypoint *i − 1* and terminates at waypoint *i*. The vehicle starts at time *t = 0* at waypoint *0*. It travels over each segment at a constant (nonnegative) speed; *si* is the speed on segment *i*. We have lower and upper limits on the speeds: *smin ≤ s ≤ smax*. The vehicle does not stop at the waypoints; it simply proceeds to the next segment. The travel distance of segment *i* is *di* (which is positive), so the travel time over segment *i* is *di/si*. We let *τi*, *i = 1, . . . , n,* denote the time at which the vehicle arrives at waypoint *i*. The vehicle is required to arrive at waypoint *i*, *for i = 1, . . . , n*, between times *τmin,i* and *τmax,i* , which are given. The vehicle consumes fuel over segment *i* at a rate that depends on its speed *Φ(s_i )=a s_i^2+b s_i+c kg/s*.\n",
    "\n",
    "You are given the data *d* (segment travel distances), *smin* and *smax* (speed bounds), *τmin* and *τmax* (waypoint arrival time bounds), and the the parameters *a*, *b*, and *c* (all parameters are in *veh_speed_sched_data.m*). Use the dynamic programming approach to find the schedule that allows spending the minimal amount of fuel. Use matplotlib command *step* to plot speed vs time for the optimal schedule. You will need to discretize some continuous variables, make sure you do it densely enough. **NB**: later in the course we will get back to this problem and attack it with a different method.\n"
   ]
  },
  {
   "cell_type": "code",
   "execution_count": 6,
   "metadata": {
    "collapsed": false
   },
   "outputs": [],
   "source": [
    "import scipy.io as sio\n",
    "\n",
    "mat_contents = sio.loadmat('veh_sched_data.mat')\n",
    "\n",
    "a = mat_contents['a']\n",
    "b = mat_contents['b']\n",
    "c = mat_contents['c']\n",
    "d = mat_contents['d']\n",
    "n = mat_contents['n']\n",
    "smin = mat_contents['smin']\n",
    "smax = mat_contents['smax']\n",
    "tau_min = mat_contents['tau_min']\n",
    "tau_max = mat_contents['tau_max']\n"
   ]
  },
  {
   "cell_type": "code",
   "execution_count": null,
   "metadata": {
    "collapsed": true
   },
   "outputs": [],
   "source": []
  }
 ],
 "metadata": {
  "kernelspec": {
   "display_name": "Python 2",
   "language": "python",
   "name": "python2"
  },
  "language_info": {
   "codemirror_mode": {
    "name": "ipython",
    "version": 2
   },
   "file_extension": ".py",
   "mimetype": "text/x-python",
   "name": "python",
   "nbconvert_exporter": "python",
   "pygments_lexer": "ipython2",
   "version": "2.7.10"
  }
 },
 "nbformat": 4,
 "nbformat_minor": 0
}
