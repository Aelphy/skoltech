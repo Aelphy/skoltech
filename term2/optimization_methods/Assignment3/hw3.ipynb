{
 "cells": [
  {
   "cell_type": "markdown",
   "metadata": {},
   "source": [
    "# Problem 1"
   ]
  },
  {
   "cell_type": "markdown",
   "metadata": {},
   "source": [
    "Let us define M = mean($\\sum_{ij} level_{ij}$)\n",
    "\n",
    "We can define set A such that $level_{ij} - M > 0$ and set B such that $level_{ij} - M \\leq 0$\n",
    "k, q are the number of elements in A and И respectively.\n",
    "Than we can write our objective $$ min \\sum_{kq} f_{kq} c_{kq} $$\n",
    "S.T.\n",
    "$$ \\sum_{k} c_{kq} = a_k $$ for every q.\n",
    "$$ \\sum_{q} c_{kq} = b_q $$ for every k.\n",
    "$$ c_{kq} \\geq 0 $$\n",
    "$$ c_{kq} \\leq d $$"
   ]
  },
  {
   "cell_type": "code",
   "execution_count": 200,
   "metadata": {
    "collapsed": false
   },
   "outputs": [
    {
     "name": "stdout",
     "output_type": "stream",
     "text": [
      "Optimal value is: 95.4910638367\n",
      "c = [[ 1.  1.  1.  1.  0.  0.  0.  0.  0.  0.  0.  0.  0.]\n",
      " [ 0.  0.  0.  0.  4.  0.  0.  0.  0.  0.  0.  0.  0.]\n",
      " [ 0.  0.  0.  0.  0.  0.  0.  0.  0.  0.  0.  1.  3.]\n",
      " [ 0.  0.  0.  0.  2.  1.  0.  0.  1.  0.  0.  0.  0.]\n",
      " [ 0.  0.  0.  0.  0.  0.  1.  0.  5.  6.  2.  0.  0.]\n",
      " [ 0.  0.  0.  0.  0.  0.  0.  1.  0.  0.  0.  0.  3.]\n",
      " [ 0.  0.  0.  0.  0.  0.  0.  0.  0.  0.  4.  0.  0.]]\n"
     ]
    }
   ],
   "source": [
    "import numpy as np\n",
    "import cvxpy\n",
    "    \n",
    "def euclidean_distance(x0, y0, x1, y1):\n",
    "    return np.sqrt((x0 - x1) ** 2 + (y0 - y1) ** 2)\n",
    "\n",
    "\n",
    "heights = np.array([[5, 5, 10, 10, 10],\n",
    "                    [5, 5, 10, 20, 10],\n",
    "                    [0, 5, 5, 10, 5],\n",
    "                    [0, 0, 0, 5, 0]],dtype = np.int)\n",
    "mean = np.mean(heights, dtype = np.int)\n",
    "donors = []\n",
    "recipients = []\n",
    "\n",
    "for i in range(heights.shape[0]):\n",
    "    for j in range(heights.shape[1]):\n",
    "        if heights[i, j] > mean:\n",
    "            donors.append((heights[i, j] - mean, i, j))\n",
    "        else:\n",
    "            recipients.append((mean - heights[i, j], i, j))\n",
    "\n",
    "f = np.zeros((len(donors), len(recipients)))\n",
    "d = np.zeros(len(donors))\n",
    "b = np.zeros(len(recipients))\n",
    "\n",
    "for i in range(len(recipients)):\n",
    "    b[i] = recipients[i][0]\n",
    "\n",
    "for i in range(len(donors)):\n",
    "    d[i] = donors[i][0]\n",
    "    \n",
    "    for j in range(len(recipients)):\n",
    "        f[i, j] = euclidean_distance(donors[i][1], donors[i][2], recipients[j][1], recipients[j][2])\n",
    "\n",
    "c = cvxpy.Variable(len(donors), len(recipients))\n",
    "\n",
    "constraints = []\n",
    "\n",
    "for i in range(len(donors)):\n",
    "    constraints.append(cvxpy.sum_entries(c[i:(i + 1), :]) == d[i])\n",
    "    \n",
    "for i in range(len(recipients)):\n",
    "    constraints.append(cvxpy.sum_entries(c[:, i:(i + 1)]) == b[i])\n",
    "    \n",
    "for i in range(len(donors)):\n",
    "    for j in range(len(recipients)):\n",
    "        constraints.append(c[i, j] >= 0)\n",
    "        constraints.append(c[i, j] <= d[i])\n",
    "\n",
    "# Form objective.\n",
    "objective = cvxpy.Minimize(cvxpy.trace(c * f.T))\n",
    "\n",
    "# Form and solve problem.\n",
    "solution = Problem(objective, constraints)\n",
    "solution.solve(solver = 'GUROBI')\n",
    "\n",
    "print('Optimal value is: {0}'.format(solution.value))\n",
    "print('c = {0}'.format(c.value))"
   ]
  },
  {
   "cell_type": "markdown",
   "metadata": {},
   "source": [
    "# Problem 2"
   ]
  },
  {
   "cell_type": "code",
   "execution_count": null,
   "metadata": {
    "collapsed": false
   },
   "outputs": [],
   "source": []
  },
  {
   "cell_type": "markdown",
   "metadata": {},
   "source": [
    "# Problem 3"
   ]
  },
  {
   "cell_type": "markdown",
   "metadata": {},
   "source": [
    "We can formulate the problem as:\n",
    "\n",
    "$$\\max \\sum_{ij} c_{ij} f_{ij} $$\n",
    "S.T.\n",
    "for every i $$\\sum_{j} c_{ij} = 1$$\n",
    "for every j $$\\sum_{j} c_{ij} = 1$$\n",
    "for every i,j $$c_{ij} \\leq \\sum_{j} c_{ij}$$\n",
    "for every i,j $$c_{ij} \\leq \\sum_{i} c_{ij}$$\n",
    "$$c_{ij} = {0, 1}$$\n",
    "\n",
    "Where $f_{ij}$ student i preference to live with j neighbour, that is symmetric ($f_{ij} = f_{ji}$)."
   ]
  },
  {
   "cell_type": "code",
   "execution_count": 21,
   "metadata": {
    "collapsed": false
   },
   "outputs": [
    {
     "name": "stdout",
     "output_type": "stream",
     "text": [
      "Optimal value is: 17.182424876\n",
      "c = \n",
      "[[ 0.  0.  0.  0.  0.  0.  0.  0.  0.  0.  0.  0.  0.  1.  0.  0.  0.  0.\n",
      "   0.  0.]\n",
      " [ 0.  0.  0.  0.  0.  0.  0.  0.  0.  0.  0.  0.  1.  0.  0.  0.  0.  0.\n",
      "   0.  0.]\n",
      " [ 0.  0.  0.  0.  0.  0.  0.  0.  0.  0.  0.  0.  0.  0.  0.  0.  0.  0.\n",
      "   0.  1.]\n",
      " [ 0.  0.  0.  0.  0.  0.  0.  0.  1.  0.  0.  0.  0.  0.  0.  0.  0.  0.\n",
      "   0.  0.]\n",
      " [ 0.  0.  0.  0.  0.  1.  0.  0.  0.  0.  0.  0.  0.  0.  0.  0.  0.  0.\n",
      "   0.  0.]\n",
      " [ 0.  0.  0.  0.  1.  0.  0.  0.  0.  0.  0.  0.  0.  0.  0.  0.  0.  0.\n",
      "   0.  0.]\n",
      " [ 0.  0.  0.  0.  0.  0.  0.  0.  0.  0.  0.  0.  0.  0.  0.  0.  0.  0.\n",
      "   1.  0.]\n",
      " [ 0.  0.  0.  0.  0.  0.  0.  0.  0.  0.  0.  1.  0.  0.  0.  0.  0.  0.\n",
      "   0.  0.]\n",
      " [ 0.  0.  0.  1.  0.  0.  0.  0.  0.  0.  0.  0.  0.  0.  0.  0.  0.  0.\n",
      "   0.  0.]\n",
      " [ 0.  0.  0.  0.  0.  0.  0.  0.  0.  0.  0.  0.  0.  0.  1.  0.  0.  0.\n",
      "   0.  0.]\n",
      " [ 0.  0.  0.  0.  0.  0.  0.  0.  0.  0.  0.  0.  0.  0.  0.  1.  0.  0.\n",
      "   0.  0.]\n",
      " [ 0.  0.  0.  0.  0.  0.  0.  1.  0.  0.  0.  0.  0.  0.  0.  0.  0.  0.\n",
      "   0.  0.]\n",
      " [ 0.  1.  0.  0.  0.  0.  0.  0.  0.  0.  0.  0.  0.  0.  0.  0.  0.  0.\n",
      "   0.  0.]\n",
      " [ 1.  0.  0.  0.  0.  0.  0.  0.  0.  0.  0.  0.  0.  0.  0.  0.  0.  0.\n",
      "   0.  0.]\n",
      " [ 0.  0.  0.  0.  0.  0.  0.  0.  0.  1.  0.  0.  0.  0.  0.  0.  0.  0.\n",
      "   0.  0.]\n",
      " [ 0.  0.  0.  0.  0.  0.  0.  0.  0.  0.  1.  0.  0.  0.  0.  0.  0.  0.\n",
      "   0.  0.]\n",
      " [ 0.  0.  0.  0.  0.  0.  0.  0.  0.  0.  0.  0.  0.  0.  0.  0.  0.  1.\n",
      "   0.  0.]\n",
      " [ 0.  0.  0.  0.  0.  0.  0.  0.  0.  0.  0.  0.  0.  0.  0.  0.  1.  0.\n",
      "   0.  0.]\n",
      " [ 0.  0.  0.  0.  0.  0.  1.  0.  0.  0.  0.  0.  0.  0.  0.  0.  0.  0.\n",
      "   0.  0.]\n",
      " [ 0.  0.  1.  0.  0.  0.  0.  0.  0.  0.  0.  0.  0.  0.  0.  0.  0.  0.\n",
      "   0.  0.]]\n"
     ]
    }
   ],
   "source": [
    "import numpy as np\n",
    "import cvxpy\n",
    "\n",
    "n = 20\n",
    "m = 10\n",
    "\n",
    "np.random.seed(1)\n",
    "\n",
    "preferences = np.random.random((n, n))\n",
    "preferences = (preferences + preferences.T) / 2\n",
    "\n",
    "C = cvxpy.Variable(n, n)\n",
    "\n",
    "constraints = []\n",
    "\n",
    "for i in range(n):\n",
    "    constraints.append(cvxpy.sum_entries(C[i:i + 1, :]) == 1)\n",
    "    constraints.append(cvxpy.sum_entries(C[:, i:i + 1]) == 1)\n",
    "    \n",
    "    for j in range(n):\n",
    "        constraints.append(C[i, j] >= 0)\n",
    "        constraints.append(C[i, j] <= 1)\n",
    "        constraints.append(C[i, j] <= cvxpy.sum_entries(C[:, j:j+1]))\n",
    "        constraints.append(C[i, j] <= cvxpy.sum_entries(C[i:i+1, :]))\n",
    "\n",
    "objective = cvxpy.Maximize(cvxpy.trace(C * preferences.T))\n",
    "\n",
    "# Form and solve problem.\n",
    "solution = cvxpy.Problem(objective, constraints)\n",
    "solution.solve(solver = 'GUROBI')\n",
    "\n",
    "print('Optimal value is: {0}'.format(solution.value))\n",
    "print('c = \\n{0}'.format(C.value))"
   ]
  },
  {
   "cell_type": "code",
   "execution_count": null,
   "metadata": {
    "collapsed": false
   },
   "outputs": [],
   "source": []
  },
  {
   "cell_type": "code",
   "execution_count": null,
   "metadata": {
    "collapsed": true
   },
   "outputs": [],
   "source": []
  },
  {
   "cell_type": "code",
   "execution_count": null,
   "metadata": {
    "collapsed": false
   },
   "outputs": [],
   "source": []
  },
  {
   "cell_type": "code",
   "execution_count": null,
   "metadata": {
    "collapsed": true
   },
   "outputs": [],
   "source": []
  }
 ],
 "metadata": {
  "kernelspec": {
   "display_name": "Python 2",
   "language": "python",
   "name": "python2"
  },
  "language_info": {
   "codemirror_mode": {
    "name": "ipython",
    "version": 2
   },
   "file_extension": ".py",
   "mimetype": "text/x-python",
   "name": "python",
   "nbconvert_exporter": "python",
   "pygments_lexer": "ipython2",
   "version": "2.7.10"
  }
 },
 "nbformat": 4,
 "nbformat_minor": 0
}
