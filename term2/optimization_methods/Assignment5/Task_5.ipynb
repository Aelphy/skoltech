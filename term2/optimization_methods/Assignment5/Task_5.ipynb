{
 "cells": [
  {
   "cell_type": "markdown",
   "metadata": {},
   "source": [
    "** Problem 1 **: *Censored data fitting* (2 points). "
   ]
  },
  {
   "cell_type": "code",
   "execution_count": 32,
   "metadata": {
    "collapsed": false
   },
   "outputs": [],
   "source": [
    "# data for censored fitting problem\n",
    "import numpy as np\n",
    "from numpy.random import randn\n",
    "\n",
    "n = 2;  # dimension of x's\n",
    "M = 3;  # number of non-censored data points\n",
    "K = 5; # total number of points\n",
    "\n",
    "c_true = randn(n)\n",
    "X = randn(n, K)\n",
    "y = np.dot(X.T, c_true) + 0.1 * np.sqrt(n) * randn(K)\n",
    "\n",
    "# Reorder measurements, then censor\n",
    "sort_ind = np.argsort(y)\n",
    "X = X[:, sort_ind];\n",
    "y = y[sort_ind[:M + 1]]\n",
    "D = (y[M - 1]+y[M]) / 2\n",
    "y = y[:M]"
   ]
  },
  {
   "cell_type": "markdown",
   "metadata": {},
   "source": [
    "** Problem 2 **: *Optimal vehicle speed scheduling (3 points) *-- (additional exercise A3.20 to Boyd and Vandenberghe). \n",
    "\n",
    "A vehicle (say, an airplane) travels along a fixed path of *n* segments, between *n + 1* waypoints labeled *0, . . . , n*. Segment *i* starts at waypoint *i − 1* and terminates at waypoint *i*. The vehicle starts at time *t = 0* at waypoint *0*. It travels over each segment at a constant (nonnegative) speed; *si* is the speed on segment *i*. We have lower and upper limits on the speeds: *smin ≤ s ≤ smax*. The vehicle does not stop at the waypoints; it simply proceeds to the next segment. The travel distance of segment *i* is *di* (which is positive), so the travel time over segment *i* is *di/si*. We let *τi*, *i = 1, . . . , n,* denote the time at which the vehicle arrives at waypoint *i*. The vehicle is required to arrive at waypoint *i*, *for i = 1, . . . , n*, between times *τmin,i* and *τmax,i* , which are given. The vehicle consumes fuel over segment *i* at a rate that depends on its speed *Φ(s_i )=a s_i^2+b s_i+c kg/s*.\n",
    "\n",
    "You are given the data *d* (segment travel distances), *smin* and *smax* (speed bounds), *τmin* and *τmax* (waypoint arrival time bounds), and the the parameters *a*, *b*, and *c* (all parameters are in *veh_speed_sched_data.m*). For the given form of the potentials, find the way to reduce the problem to a convex optimization problem and solve it using CVX (NB: you need not necessarily use one of the “canonical” convex optimization formulations we saw in the course). Use MATLAB command stairs to plot speed vs time for the optimal schedule.  What are relative pros and cons for using convex optimization vs. dynamic programming for such task?"
   ]
  },
  {
   "cell_type": "code",
   "execution_count": 33,
   "metadata": {
    "collapsed": true
   },
   "outputs": [],
   "source": [
    "import scipy.io as sio\n",
    "\n",
    "mat_contents = sio.loadmat('veh_sched_data.mat')\n",
    "\n",
    "a = mat_contents['a']\n",
    "b = mat_contents['b']\n",
    "c = mat_contents['c']\n",
    "d = mat_contents['d']\n",
    "n = mat_contents['n']\n",
    "smin = mat_contents['smin']\n",
    "smax = mat_contents['smax']\n",
    "tau_min = mat_contents['tau_min']\n",
    "tau_max = mat_contents['tau_max']"
   ]
  },
  {
   "cell_type": "code",
   "execution_count": null,
   "metadata": {
    "collapsed": true
   },
   "outputs": [],
   "source": []
  }
 ],
 "metadata": {
  "kernelspec": {
   "display_name": "Python 2",
   "language": "python",
   "name": "python2"
  },
  "language_info": {
   "codemirror_mode": {
    "name": "ipython",
    "version": 2
   },
   "file_extension": ".py",
   "mimetype": "text/x-python",
   "name": "python",
   "nbconvert_exporter": "python",
   "pygments_lexer": "ipython2",
   "version": "2.7.10"
  }
 },
 "nbformat": 4,
 "nbformat_minor": 0
}
