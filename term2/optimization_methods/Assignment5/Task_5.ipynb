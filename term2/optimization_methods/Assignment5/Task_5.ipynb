{
 "cells": [
  {
   "cell_type": "markdown",
   "metadata": {},
   "source": [
    "** Problem 1 **: *Censored data fitting* (2 points). "
   ]
  },
  {
   "cell_type": "markdown",
   "metadata": {},
   "source": [
    "$J =  \\sum_{k = 1} (y_k - c^Tx_k)^2$\n",
    "\n",
    "We want to minimize J. We can reformulate this as:\n",
    "\n",
    "\\begin{cases}\n",
    "    \\min \\sum_{k = 1} (y_k - c^Tx_k)^2\\\\\n",
    "    S.T. y_{M+1}..y_{K} \\geq D\n",
    "\\end{cases}"
   ]
  },
  {
   "cell_type": "code",
   "execution_count": 138,
   "metadata": {
    "collapsed": false
   },
   "outputs": [
    {
     "name": "stdout",
     "output_type": "stream",
     "text": [
      "c = \n",
      "[[ 1.69239629]\n",
      " [-0.60648354]]\n",
      "Error is 0.0393235518061\n"
     ]
    }
   ],
   "source": [
    "import numpy as np\n",
    "import scipy.io as sio\n",
    "import cvxpy\n",
    "\n",
    "n = 2 # dimension of x's\n",
    "M = 3 # number of non-censored data points\n",
    "K = 5 # total number of points\n",
    "\n",
    "r = np.random.RandomState(1)\n",
    "c_true = r.randn(n)\n",
    "X = r.randn(n, K)\n",
    "y = np.dot(X.T, c_true) + 0.1 * np.sqrt(n) * r.randn(K)\n",
    "\n",
    "sort_ind = np.argsort(y)\n",
    "X = X[:, sort_ind];\n",
    "y = y[sort_ind[:M + 1]]\n",
    "D = (y[M - 1] + y[M]) / 2\n",
    "y = y[:M]\n",
    "\n",
    "Y = cvxpy.Variable(K)\n",
    "C = cvxpy.Variable(n)\n",
    "\n",
    "constraints = []\n",
    "\n",
    "for i in range(M):\n",
    "    constraints.append(Y[i] == y[i])\n",
    "    \n",
    "for i in range(M, K):\n",
    "    constraints.append(Y[i] >= D)\n",
    "\n",
    "objective = cvxpy.Minimize(cvxpy.sum_squares(Y.T - C.T * X))\n",
    "\n",
    "solution = cvxpy.Problem(objective, constraints)\n",
    "solution.solve()\n",
    "\n",
    "# print('Optimal value is: {0}'.format(solution.value))\n",
    "print('c = \\n{0}'.format(C.value))\n",
    "\n",
    "def evaluate_solution(c_t, c):\n",
    "    return np.linalg.norm(c_t  - c) / np.linalg.norm(c_t)\n",
    "\n",
    "print('Error is {0}'.format(evaluate_solution(c_true, C.value.T)))"
   ]
  },
  {
   "cell_type": "code",
   "execution_count": 139,
   "metadata": {
    "collapsed": false
   },
   "outputs": [
    {
     "name": "stdout",
     "output_type": "stream",
     "text": [
      "c = \n",
      "[[ 1.69240123]\n",
      " [-0.60647011]]\n",
      "Error is 0.0393269890227\n"
     ]
    }
   ],
   "source": [
    "C = cvxpy.Variable(n)\n",
    "\n",
    "objective = cvxpy.Minimize(cvxpy.sum_squares(y - (C.T * X[:, :M]).T))\n",
    "\n",
    "solution = cvxpy.Problem(objective, [])\n",
    "solution.solve()\n",
    "\n",
    "# print('Optimal value is: {0}'.format(solution.value))\n",
    "print('c = \\n{0}'.format(C.value))\n",
    "\n",
    "print('Error is {0}'.format(evaluate_solution(c_true, C.value.T)))"
   ]
  },
  {
   "cell_type": "markdown",
   "metadata": {},
   "source": [
    "** Problem 2 **: *Optimal vehicle speed scheduling (3 points) *-- (additional exercise A3.20 to Boyd and Vandenberghe). \n",
    "\n",
    "A vehicle (say, an airplane) travels along a fixed path of *n* segments, between *n + 1* waypoints labeled *0, . . . , n*. Segment *i* starts at waypoint *i − 1* and terminates at waypoint *i*. The vehicle starts at time *t = 0* at waypoint *0*. It travels over each segment at a constant (nonnegative) speed; *si* is the speed on segment *i*. We have lower and upper limits on the speeds: *smin ≤ s ≤ smax*. The vehicle does not stop at the waypoints; it simply proceeds to the next segment. The travel distance of segment *i* is *di* (which is positive), so the travel time over segment *i* is *di/si*. We let *τi*, *i = 1, . . . , n,* denote the time at which the vehicle arrives at waypoint *i*. The vehicle is required to arrive at waypoint *i*, *for i = 1, . . . , n*, between times *τmin,i* and *τmax,i* , which are given. The vehicle consumes fuel over segment *i* at a rate that depends on its speed *Φ(s_i )=a s_i^2+b s_i+c kg/s*.\n",
    "\n",
    "You are given the data *d* (segment travel distances), *smin* and *smax* (speed bounds), *τmin* and *τmax* (waypoint arrival time bounds), and the the parameters *a*, *b*, and *c* (all parameters are in *veh_speed_sched_data.m*). For the given form of the potentials, find the way to reduce the problem to a convex optimization problem and solve it using CVX (NB: you need not necessarily use one of the “canonical” convex optimization formulations we saw in the course). Use MATLAB command stairs to plot speed vs time for the optimal schedule.  What are relative pros and cons for using convex optimization vs. dynamic programming for such task?"
   ]
  },
  {
   "cell_type": "markdown",
   "metadata": {},
   "source": [
    "$$min \\sum_{i = 1}^{n} (a s_i^2+b s_i+c) \\dfrac{d_i}{s_i}  $$\n",
    "$$s\\_min_i\\leq s_i \\leq s\\_max_i$$\n",
    "$$\\tau\\_min_i\\leq \\sum_{k=1}^{i} \\dfrac{d_k}{s_k} \\leq \\tau\\_max_i$$"
   ]
  },
  {
   "cell_type": "code",
   "execution_count": 82,
   "metadata": {
    "collapsed": true
   },
   "outputs": [],
   "source": [
    "import scipy.io as sio\n",
    "\n",
    "mat_contents = sio.loadmat('veh_sched_data.mat')\n",
    "\n",
    "a = mat_contents['a'][0, 0]\n",
    "b = mat_contents['b'][0, 0]\n",
    "c = mat_contents['c'][0, 0]\n",
    "d = mat_contents['d'][:, 0]\n",
    "n = mat_contents['n'][0, 0]\n",
    "smin = mat_contents['smin'][:, 0]\n",
    "smax = mat_contents['smax'][:, 0]\n",
    "tau_min = mat_contents['tau_min'][:, 0]\n",
    "tau_max = mat_contents['tau_max'][:, 0]"
   ]
  },
  {
   "cell_type": "code",
   "execution_count": 116,
   "metadata": {
    "collapsed": false
   },
   "outputs": [
    {
     "name": "stdout",
     "output_type": "stream",
     "text": [
      "Optimal value is: 2617.82519352\n"
     ]
    },
    {
     "data": {
      "text/plain": [
       "<matplotlib.text.Text at 0x113e09dd0>"
      ]
     },
     "execution_count": 116,
     "metadata": {},
     "output_type": "execute_result"
    },
    {
     "data": {
      "image/png": "[encoded data removed]",
      "text/plain": [
       "<matplotlib.figure.Figure at 0x112854690>"
      ]
     },
     "metadata": {},
     "output_type": "display_data"
    }
   ],
   "source": [
    "import cvxpy\n",
    "import matplotlib.pyplot as plt\n",
    "%matplotlib inline\n",
    "\n",
    "T = cvxpy.Variable(n)\n",
    "\n",
    "objective = a * d[0] ** 2 * cvxpy.inv_pos(T[0]) + b * d[0] + c * T[0]\n",
    "\n",
    "constraints = []\n",
    "\n",
    "for i in range(1, n):\n",
    "    time_i = T[i] - T[i - 1]\n",
    "    objective += a * d[i] ** 2 * cvxpy.inv_pos(time_i) + b * d[i] + c * time_i\n",
    "\n",
    "    constraints.append(smin[i] * time_i <= d[i])\n",
    "    constraints.append(smax[i] * time_i >= d[i])\n",
    "\n",
    "for i in range(n):\n",
    "    constraints.append(T[i] <= tau_max[i])\n",
    "    constraints.append(T[i] >= tau_min[i])\n",
    "    \n",
    "solution = cvxpy.Problem(cvxpy.Minimize(objective), constraints)\n",
    "solution.solve()\n",
    "\n",
    "print('Optimal value is: {0}'.format(solution.value))\n",
    "\n",
    "times = np.array(T.value)[:, 0]\n",
    "speeds = [d[0] / times[0]]\n",
    "\n",
    "for i in range(1, n):\n",
    "    speeds.append(d[i] / (times[i] - times[i - 1]))\n",
    "\n",
    "plt.figure(figsize=(10, 10))\n",
    "plt.step(times, speeds)\n",
    "plt.xlabel('Time')\n",
    "plt.ylabel('Speed')"
   ]
  },
  {
   "cell_type": "markdown",
   "metadata": {
    "collapsed": true
   },
   "source": [
    "Pros and Cons:\n",
    "\n",
    "Dynamic programming allows us to define the step. It gives us the opportunity to affect the time of optimisation.\n",
    "\n",
    "Convex optimization gives more exact solution but does it in larger time."
   ]
  },
  {
   "cell_type": "markdown",
   "metadata": {},
   "source": [
    "# Problem 3"
   ]
  },
  {
   "cell_type": "markdown",
   "metadata": {},
   "source": [
    "$min\\ p^T x$\n",
    "\n",
    "S.T. $$Ax \\leq b$$\n",
    "$$Cx = d$$\n",
    "\n",
    "Lagrangian is: \n",
    "\n",
    "$$L(x, \\lambda, \\nu) = p^T x + \\alpha^T (Ax - b) + \\nu^T (d - Cx)$$\n",
    "\n",
    "$$g(\\lambda, \\nu) = \\min_{x} L(x, \\lambda, \\nu) = \\min_{x} (p^T + \\alpha^T A - \\nu^T C)x - \\alpha^T b + \\nu^T d$$\n",
    "\n",
    "Thus the dual problem fomulation is:\n",
    "\n",
    "$$max_{\\lambda, \\nu} - \\alpha^T b + \\nu^Td$$\n",
    "\n",
    "S.T.\n",
    "\n",
    "$$p^T + \\alpha^T A - \\nu^T C = 0$$\n",
    "$$\\lambda \\geq 0$$"
   ]
  },
  {
   "cell_type": "markdown",
   "metadata": {},
   "source": [
    "# Problem 4"
   ]
  },
  {
   "cell_type": "markdown",
   "metadata": {},
   "source": [
    "$$min\\ x_1^2 + x_2^2 - x_1x_2$$\n",
    "S.T. $$x_1 + 2x_2 \\geq 1$$\n",
    "$$3x_1 + x_2 \\geq 1$$\n",
    "\n",
    "The Lagrangian is:\n",
    "\n",
    "$$L(x_1, x_2, \\alpha, \\nu) = x_1^2 + x_2^2 - x_1x_2 + \\alpha (1 - x_1 - 2x_2) + \\nu(1 - 3x_1 - x_2)$$\n",
    "\n",
    "$$g(\\alpha, \\nu) = min_{x_1, x_2} L(x_1, x_2, \\alpha, \\nu)$$\n",
    "\n",
    "$$\\alpha, \\nu \\geq 0$$\n",
    "\n",
    "$$\\frac{dL(x_1, x_2, \\alpha, \\nu)}{\\partial x_1} = 2x_1 - x_2 - \\alpha - 3\\nu$$\n",
    "\n",
    "$$\\frac{dL(x_1, x_2, \\alpha, \\nu)}{\\partial x_2} = 2x_2 - x_1 - 2\\alpha - \\nu$$\n",
    "\n",
    "We want to optimize L, it is convex and thus the following system of equation should hold.\n",
    "\n",
    "\\begin{cases}\n",
    "    2x_1 - x_2 - \\alpha - 3\\nu = 0\\\\\n",
    "    2x_2 - x_1 - 2\\alpha - \\nu = 0\n",
    "\\end{cases}\n",
    "\n",
    "From this system we can find that:\n",
    "\n",
    "$x_2 = \\frac{5\\alpha + 5\\nu}{3}$\n",
    "\n",
    "$x_1 = \\frac{4\\alpha}{3} + \\frac{7\\nu}{3}$\n",
    "\n",
    "Now we can put this to our Lagrangian.\n",
    "\n",
    "$$L(\\alpha, \\nu) = \\left( \\frac{4\\alpha}{3} + \\frac{7\\nu}{3} \\right)^2 + \\left(\\frac{5\\alpha + 5\\nu}{3}\\right)^2 - \\left(\\frac{4\\alpha}{3} + \\frac{7\\nu}{3}\\right)\\left(\\frac{5\\alpha + 5\\nu}{3}\\right) + \\alpha \\left(1 - \\frac{4\\alpha}{3} - \\frac{7\\nu}{3} - 2\\left(\\frac{5\\alpha + 5\\nu}{3}\\right)\\right) + \\nu\\left(1 - 3\\left(\\frac{4\\alpha}{3} + \\frac{7\\nu}{3}\\right) - \\left(\\frac{5\\alpha + 5\\nu}{3}\\right)\\right) = $$\n",
    "\n",
    "$$\\frac{16 \\alpha^2}{9} + \\frac{49 \\nu^2}{9} + \\frac{56 \\nu \\alpha}{9} + \\frac{25 \\alpha^2}{9} + \\frac{25 \\nu^2}{9} + \\frac{50 \\nu \\alpha}{9} - \\frac{20 \\alpha^2}{9} - \\frac{55 \\alpha \\nu}{9} -\\frac{35 \\nu^2}{9} + \\alpha - \\frac{4\\alpha^2}{3} - \\frac{7\\alpha\\nu}{3} - \\frac{10 \\alpha^2}{3} - \\frac{10\\alpha \\nu}{3} + \\nu - 4\\alpha\\nu - 7 \\nu^2 -\\frac{5\\alpha \\nu}{3} - \\frac{5\\nu^2}{3} =$$\n",
    "\n",
    "$$-\\frac{21 \\alpha^2}{9} - \\frac{39 \\nu^2}{9} + \\alpha + \\nu - \\frac{51 \\alpha \\nu}{9} = $$\n",
    "\n",
    "$$-\\frac{1}{3}\\left(7 \\alpha^2 + 13 \\nu^2 + 17 \\alpha \\nu\\right) + \\alpha + \\nu$$"
   ]
  },
  {
   "cell_type": "code",
   "execution_count": 2,
   "metadata": {
    "collapsed": false
   },
   "outputs": [
    {
     "name": "stdout",
     "output_type": "stream",
     "text": [
      "Optimal value of initial problem is: 0.107142857081\n",
      "c = \n",
      "[[ 0.2857141 ]\n",
      " [ 0.35714295]]\n"
     ]
    }
   ],
   "source": [
    "import cvxpy\n",
    "import numpy as np\n",
    "\n",
    "X = cvxpy.Variable(2)\n",
    "Q = np.array([[1, -0.5],\n",
    "              [-0.5, 1]])\n",
    "\n",
    "objective = cvxpy.Minimize(cvxpy.quad_form(X, Q))\n",
    "\n",
    "constraints = [X[0] + 2 * X[1] >= 1, 3 * X[0] + X[1] >= 1]\n",
    "\n",
    "solution = cvxpy.Problem(objective, constraints)\n",
    "solution.solve()\n",
    "\n",
    "print('Optimal value of initial problem is: {0}'.format(solution.value))\n",
    "print('X = \\n{0}'.format(X.value))"
   ]
  },
  {
   "cell_type": "code",
   "execution_count": 4,
   "metadata": {
    "collapsed": false
   },
   "outputs": [
    {
     "name": "stdout",
     "output_type": "stream",
     "text": [
      "Optimal value of dual problem is: 0.107142857825\n",
      "lambda, nu = \n",
      "[[  2.14287111e-01]\n",
      " [  1.17650407e-09]]\n"
     ]
    }
   ],
   "source": [
    "import cvxpy\n",
    "import numpy as np\n",
    "\n",
    "L = cvxpy.Variable(2)\n",
    "Q = np.array([[7, 8.5],\n",
    "              [8.5, 13]])\n",
    "\n",
    "objective = cvxpy.Maximize(-1 / 3.0 * cvxpy.quad_form(L, Q) + L[0] + L[1])\n",
    "\n",
    "constraints = [L >= 0]\n",
    "\n",
    "solution = cvxpy.Problem(objective, constraints)\n",
    "solution.solve()\n",
    "\n",
    "print('Optimal value of dual problem is: {0}'.format(solution.value))\n",
    "print('lambda, nu = \\n{0}'.format(L.value))"
   ]
  },
  {
   "cell_type": "markdown",
   "metadata": {},
   "source": [
    "We can see that strong duality holds.\n",
    "\n",
    "KKT conditions:\n",
    "\n",
    "\\begin{cases}\n",
    "    x_1^* + 2x_2^* ≥ 1\\\\\n",
    "    3x_1^* + x_2^* ≥ 1\\\\\n",
    "    \\lambda^*, \\nu^* \\geq 0\\\\\n",
    "    \\frac{d L(x^*, \\alpha^*, nu^*)}{\\partial x} = 0\n",
    "\\end{cases}\n",
    "\n",
    "Using derivateves that were already computed it is easy to see that all the KKT conditions hold."
   ]
  },
  {
   "cell_type": "markdown",
   "metadata": {},
   "source": [
    "# Problem 5"
   ]
  },
  {
   "cell_type": "markdown",
   "metadata": {},
   "source": [
    "$$\\min \\ c^T x$$\n",
    "\n",
    "S.T. $$Ax \\leq b$$\n",
    "$$x \\in \\{0, 1\\}$$\n",
    "\n",
    "Thus\n",
    "$$L(x, \\alpha) = c^Tx + \\alpha^T(Ax - b) = (c^T + \\alpha^T A)x - \\alpha^T b$$\n",
    "\n",
    "$$g(\\alpha) = \\min_{x \\in \\{0, 1\\}} \\ L(x, \\alpha) = \\sum_{i} \\min((c^T_i + \\alpha^T a_i), 0) - \\alpha^T b$$\n",
    "\n",
    "Where $a_i$ is a i-row of matrix A. \n",
    "\n",
    "We want to find:\n",
    "\n",
    "$$\\max_{\\alpha} \\ g(\\alpha)$$\n",
    "\n",
    "S.T.\n",
    "\n",
    "$$\\alpha \\geq 0$$"
   ]
  },
  {
   "cell_type": "code",
   "execution_count": 53,
   "metadata": {
    "collapsed": false
   },
   "outputs": [
    {
     "name": "stdout",
     "output_type": "stream",
     "text": [
      "Optimal value is: -7.09999999583\n",
      "alpha = \n",
      "[[ 0.1]\n",
      " [ 0.2]]\n"
     ]
    }
   ],
   "source": [
    "import numpy as np\n",
    "import cvxpy\n",
    "\n",
    "C = np.array([-1, -2, -4, -3])\n",
    "A = np.array([[10, 0, 10, 10], [10, 10, 0, 10]])\n",
    "b = np.array([15, 13])\n",
    "\n",
    "n = C.shape[0]\n",
    "m = b.shape[0]\n",
    "\n",
    "alpha = cvxpy.Variable(m)\n",
    "\n",
    "f = 0\n",
    "\n",
    "for i in range(n):\n",
    "    f = f - cvxpy.neg(C[i] + alpha.T * A[:, i])\n",
    "\n",
    "f = f - alpha.T * b\n",
    "objective = cvxpy.Maximize(f)\n",
    "\n",
    "constraints = [alpha >= 0]\n",
    "\n",
    "problem = cvxpy.Problem(objective, constraints)\n",
    "problem.solve()\n",
    "\n",
    "print('Optimal value is: {0}'.format(problem.value))\n",
    "print('alpha = \\n{0}'.format(alpha.value))"
   ]
  },
  {
   "cell_type": "code",
   "execution_count": 70,
   "metadata": {
    "collapsed": false
   },
   "outputs": [],
   "source": [
    "def evaluate_f(alpha):\n",
    "    f = 0\n",
    "    \n",
    "    for i in range(n):\n",
    "        f += np.min([C[i] + alpha.T.dot(A[:, i]), 0])\n",
    "        \n",
    "    f -= alpha.T.dot(b)\n",
    "    \n",
    "    return f"
   ]
  },
  {
   "cell_type": "code",
   "execution_count": 98,
   "metadata": {
    "collapsed": false
   },
   "outputs": [
    {
     "data": {
      "image/png": "[encoded data removed]",
      "text/plain": [
       "<matplotlib.figure.Figure at 0x114b525d0>"
      ]
     },
     "metadata": {},
     "output_type": "display_data"
    }
   ],
   "source": [
    "import matplotlib.pyplot as plt\n",
    "from mpl_toolkits.mplot3d import Axes3D\n",
    "import numpy as np\n",
    "\n",
    "%matplotlib inline\n",
    "\n",
    "fig = plt.figure()\n",
    "ax = fig.add_subplot(111, projection='3d')\n",
    "\n",
    "alpha1, alpha2 = np.meshgrid(np.arange(0, 10, 0.05), np.arange(0, 10, 0.05))\n",
    "\n",
    "X = []\n",
    "Y = []\n",
    "Z = []\n",
    "\n",
    "for i in range(alpha1.shape[0]):\n",
    "    for j in range(alpha1.shape[1]):\n",
    "        alpha = np.array([alpha1[i, j], alpha2[i, j]])\n",
    "        f = evaluate_f(alpha)\n",
    "        X.append(alpha1[i, j])\n",
    "        Z.append(alpha2[i, j])\n",
    "        Y.append(f)\n",
    "\n",
    "ax.plot(X,Y,Z, ls=\"None\", marker=\"o\")\n",
    "\n",
    "plt.show()"
   ]
  }
 ],
 "metadata": {
  "kernelspec": {
   "display_name": "Python 2",
   "language": "python",
   "name": "python2"
  },
  "language_info": {
   "codemirror_mode": {
    "name": "ipython",
    "version": 2
   },
   "file_extension": ".py",
   "mimetype": "text/x-python",
   "name": "python",
   "nbconvert_exporter": "python",
   "pygments_lexer": "ipython2",
   "version": "2.7.10"
  }
 },
 "nbformat": 4,
 "nbformat_minor": 0
}
