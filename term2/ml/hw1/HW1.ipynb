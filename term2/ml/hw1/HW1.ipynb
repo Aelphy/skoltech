{
 "cells": [
  {
   "cell_type": "code",
   "execution_count": 2,
   "metadata": {
    "collapsed": false
   },
   "outputs": [],
   "source": [
    "import pandas as pd"
   ]
  },
  {
   "cell_type": "code",
   "execution_count": 162,
   "metadata": {
    "collapsed": false
   },
   "outputs": [],
   "source": [
    "names = ['age',\n",
    "         'workclass',\n",
    "         'fnlwgt',\n",
    "         'education',\n",
    "         'education_num',\n",
    "         'marital_status',\n",
    "         'occupation',\n",
    "         'relationship',\n",
    "         'race',\n",
    "         'sex',\n",
    "         'capital_gain',\n",
    "         'capital_loss',\n",
    "         'hours_per_week',\n",
    "         'native_country',\n",
    "         'salary']\n",
    "\n",
    "data = pd.read_csv('adult.data', header=len(names), names = names, skipinitialspace = True)"
   ]
  },
  {
   "cell_type": "code",
   "execution_count": 105,
   "metadata": {
    "collapsed": false
   },
   "outputs": [
    {
     "data": {
      "text/plain": [
       "21779"
      ]
     },
     "execution_count": 105,
     "metadata": {},
     "output_type": "execute_result"
    }
   ],
   "source": [
    "data[data.sex == 'Male'].shape[0]"
   ]
  },
  {
   "cell_type": "markdown",
   "metadata": {},
   "source": [
    "There are 21779 Males in the dataset"
   ]
  },
  {
   "cell_type": "code",
   "execution_count": 108,
   "metadata": {
    "collapsed": false
   },
   "outputs": [
    {
     "data": {
      "text/plain": [
       "True"
      ]
     },
     "execution_count": 108,
     "metadata": {},
     "output_type": "execute_result"
    }
   ],
   "source": [
    "data[data.sex == 'Female'].shape[0] + data[data.sex == 'Male'].shape[0] == data.shape[0]"
   ]
  },
  {
   "cell_type": "code",
   "execution_count": 109,
   "metadata": {
    "collapsed": false
   },
   "outputs": [
    {
     "data": {
      "text/plain": [
       "10766"
      ]
     },
     "execution_count": 109,
     "metadata": {},
     "output_type": "execute_result"
    }
   ],
   "source": [
    "data[data.sex == 'Female'].shape[0]"
   ]
  },
  {
   "cell_type": "markdown",
   "metadata": {},
   "source": [
    "There are 10766 Females in the dataset"
   ]
  },
  {
   "cell_type": "code",
   "execution_count": 117,
   "metadata": {
    "collapsed": false
   },
   "outputs": [
    {
     "name": "stdout",
     "output_type": "stream",
     "text": [
      "['United-States' 'South' 'Puerto-Rico' '?' 'Honduras' 'Mexico' 'Cuba'\n",
      " 'England' 'Canada' 'Germany' 'Iran' 'Philippines' 'Italy' 'Poland'\n",
      " 'Columbia' 'Cambodia' 'Thailand' 'Ecuador' 'Laos' 'Taiwan' 'Haiti'\n",
      " 'Portugal' 'Dominican-Republic' 'El-Salvador' 'France' 'Jamaica'\n",
      " 'Guatemala' 'China' 'India' 'Japan' 'Yugoslavia' 'Peru'\n",
      " 'Outlying-US(Guam-USVI-etc)' 'Scotland' 'Trinadad&Tobago' 'Greece'\n",
      " 'Nicaragua' 'Vietnam' 'Hong' 'Ireland' 'Hungary' 'Holand-Netherlands']\n"
     ]
    },
    {
     "data": {
      "text/plain": [
       "0.8959594407743124"
      ]
     },
     "execution_count": 117,
     "metadata": {},
     "output_type": "execute_result"
    }
   ],
   "source": [
    "print(data.native_country.unique())\n",
    "\n",
    "data[data.native_country == 'United-States'].shape[0] / data.shape[0]"
   ]
  },
  {
   "cell_type": "markdown",
   "metadata": {},
   "source": [
    "The proportion of US citizens is 89.5 %"
   ]
  },
  {
   "cell_type": "code",
   "execution_count": 153,
   "metadata": {
    "collapsed": false
   },
   "outputs": [
    {
     "data": {
      "text/plain": [
       "<matplotlib.axes._subplots.AxesSubplot at 0x112865160>"
      ]
     },
     "execution_count": 153,
     "metadata": {},
     "output_type": "execute_result"
    },
    {
     "data": {
      "image/png": "[encoded data removed]",
      "text/plain": [
       "<matplotlib.figure.Figure at 0x112846208>"
      ]
     },
     "metadata": {},
     "output_type": "display_data"
    }
   ],
   "source": [
    "import matplotlib.pyplot as plt\n",
    "%matplotlib inline\n",
    "\n",
    "data.education.value_counts().plot(kind='bar')"
   ]
  },
  {
   "cell_type": "code",
   "execution_count": 167,
   "metadata": {
    "collapsed": false
   },
   "outputs": [
    {
     "data": {
      "text/plain": [
       "105657.73403454776"
      ]
     },
     "execution_count": 167,
     "metadata": {},
     "output_type": "execute_result"
    }
   ],
   "source": [
    "data[data.marital_status == 'Divorced'].fnlwgt.std()"
   ]
  },
  {
   "cell_type": "markdown",
   "metadata": {},
   "source": [
    "Standard diviation of final weight of divorced people is 105657.73403454776"
   ]
  },
  {
   "cell_type": "code",
   "execution_count": 172,
   "metadata": {
    "collapsed": false
   },
   "outputs": [
    {
     "data": {
      "text/plain": [
       "<matplotlib.axes._subplots.AxesSubplot at 0x111da1860>"
      ]
     },
     "execution_count": 172,
     "metadata": {},
     "output_type": "execute_result"
    },
    {
     "data": {
      "image/png": "[encoded data removed]",
      "text/plain": [
       "<matplotlib.figure.Figure at 0x111fbc0b8>"
      ]
     },
     "metadata": {},
     "output_type": "display_data"
    }
   ],
   "source": [
    "data[data.salary == '>50K'].education.value_counts().plot(kind = 'bar')"
   ]
  },
  {
   "cell_type": "markdown",
   "metadata": {},
   "source": [
    "That is true, that people with the salary over 50k mostly have education higher that high-school."
   ]
  },
  {
   "cell_type": "code",
   "execution_count": 182,
   "metadata": {
    "collapsed": false
   },
   "outputs": [
    {
     "name": "stdout",
     "output_type": "stream",
     "text": [
      "The maximum female age of White is 90\n",
      "The maximum male age of White is 90\n",
      "The maximum female age of Black is 90\n",
      "The maximum male age of Black is 90\n",
      "The maximum female age of Asian-Pac-Islander is 75\n",
      "The maximum male age of Asian-Pac-Islander is 90\n",
      "The maximum female age of Other is 74\n",
      "The maximum male age of Other is 77\n",
      "The maximum female age of Amer-Indian-Eskimo is 80\n",
      "The maximum male age of Amer-Indian-Eskimo is 82\n"
     ]
    }
   ],
   "source": [
    "for race in data.race.unique():\n",
    "    print('The maximum female age of {0} is {1}'.format(race, data[(data.race == race) & (data.sex == 'Female')].age.max()))\n",
    "    print('The maximum male age of {0} is {1}'.format(race, data[(data.race == race) & (data.sex == 'Male')].age.max()))"
   ]
  },
  {
   "cell_type": "markdown",
   "metadata": {},
   "source": [
    "People of the following countries work in Farming-fishing"
   ]
  },
  {
   "cell_type": "code",
   "execution_count": 189,
   "metadata": {
    "collapsed": false
   },
   "outputs": [
    {
     "data": {
      "text/plain": [
       "United-States    879\n",
       "Mexico            77\n",
       "?                  5\n",
       "Puerto-Rico        5\n",
       "Philippines        4\n",
       "Guatemala          4\n",
       "Vietnam            2\n",
       "Canada             2\n",
       "Cuba               2\n",
       "El-Salvador        2\n",
       "Italy              2\n",
       "England            1\n",
       "Poland             1\n",
       "Hong               1\n",
       "Japan              1\n",
       "Cambodia           1\n",
       "France             1\n",
       "Ireland            1\n",
       "Germany            1\n",
       "Portugal           1\n",
       "Yugoslavia         1\n",
       "Name: native_country, dtype: int64"
      ]
     },
     "execution_count": 189,
     "metadata": {},
     "output_type": "execute_result"
    }
   ],
   "source": [
    "data[data.occupation == 'Farming-fishing'].native_country.value_counts()"
   ]
  },
  {
   "cell_type": "code",
   "execution_count": 202,
   "metadata": {
    "collapsed": false
   },
   "outputs": [
    {
     "name": "stdout",
     "output_type": "stream",
     "text": [
      "male ratio is 3.144060657118787\n",
      "female ratio is 3.0280898876404496\n"
     ]
    }
   ],
   "source": [
    "male_bac = data[(data.education == 'Bachelors') & (data.sex == 'Male')].shape[0]\n",
    "female_bac = data[(data.education == 'Bachelors') & (data.sex == 'Female')].shape[0]\n",
    "master_male = data[(data.education == 'Masters') & (data.sex == 'Male')].shape[0]\n",
    "master_female = data[(data.education == 'Masters') & (data.sex == 'Female')].shape[0]\n",
    "\n",
    "print('male ratio is {0}'.format(male_bac / master_male))\n",
    "print('female ratio is {0}'.format(female_bac / master_female))"
   ]
  },
  {
   "cell_type": "markdown",
   "metadata": {},
   "source": [
    "The ration of males is hiher"
   ]
  },
  {
   "cell_type": "code",
   "execution_count": 204,
   "metadata": {
    "collapsed": false
   },
   "outputs": [
    {
     "data": {
      "text/plain": [
       "99"
      ]
     },
     "execution_count": 204,
     "metadata": {},
     "output_type": "execute_result"
    }
   ],
   "source": [
    "data.hours_per_week.max()"
   ]
  },
  {
   "cell_type": "markdown",
   "metadata": {},
   "source": [
    "The maximum number of hours per week for work is 99"
   ]
  },
  {
   "cell_type": "code",
   "execution_count": 206,
   "metadata": {
    "collapsed": false
   },
   "outputs": [
    {
     "data": {
      "text/plain": [
       "85"
      ]
     },
     "execution_count": 206,
     "metadata": {},
     "output_type": "execute_result"
    }
   ],
   "source": [
    "data[data.hours_per_week == 99].shape[0]"
   ]
  },
  {
   "cell_type": "markdown",
   "metadata": {},
   "source": [
    "Thera are 85 people who work 99 hours per week."
   ]
  },
  {
   "cell_type": "code",
   "execution_count": 209,
   "metadata": {
    "collapsed": false
   },
   "outputs": [
    {
     "data": {
      "text/plain": [
       "<=50K    60\n",
       ">50K     25\n",
       "Name: salary, dtype: int64"
      ]
     },
     "execution_count": 209,
     "metadata": {},
     "output_type": "execute_result"
    }
   ],
   "source": [
    "data[data.hours_per_week == 99].salary.value_counts()"
   ]
  },
  {
   "cell_type": "markdown",
   "metadata": {},
   "source": [
    "Only 25 people who works 99 hours per week have salary higher that 50 k."
   ]
  }
 ],
 "metadata": {
  "kernelspec": {
   "display_name": "Python 3",
   "language": "python",
   "name": "python3"
  },
  "language_info": {
   "codemirror_mode": {
    "name": "ipython",
    "version": 3
   },
   "file_extension": ".py",
   "mimetype": "text/x-python",
   "name": "python",
   "nbconvert_exporter": "python",
   "pygments_lexer": "ipython3",
   "version": "3.5.0"
  }
 },
 "nbformat": 4,
 "nbformat_minor": 0
}
