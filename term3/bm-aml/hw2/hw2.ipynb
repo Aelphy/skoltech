{
 "cells": [
  {
   "cell_type": "markdown",
   "metadata": {},
   "source": [
    "# Problem 1\n",
    "\n",
    "$$ p(x|\\lambda) = \\lambda exp(-\\lambda x), x \\geq 0, \\lambda > 0 $$\n",
    "\n",
    "$$ p(x_1, x_2, \\dots, x_N|\\lambda) = p(x_1|\\lambda) \\cdot p(x_2|\\lambda) \\cdot \\dots \\cdot p(x_N|\\lambda) $$\n",
    "\n",
    "$$ ln L(\\lambda ; x_1, x_2, \\dots, x_N) = \\sum_{i = 1}^{N} log(p(x_i | \\lambda)) = \\sum_{x = 1}^{N} log(\\lambda) -\\lambda x_i $$\n",
    "\n",
    "$$ \\frac{d ln(L(\\lambda ; x_1, x_2, \\dots, x_N))}{d\\lambda} = 0 $$\n",
    "\n",
    "$$ \\sum_{i = 1}^{N} \\frac{1}{\\lambda} - x_i = 0 $$\n",
    "\n",
    "$$ \\hat{\\lambda}_{ML} = \\frac{N}{\\sum_{i = 1}^{N} x_i} $$"
   ]
  },
  {
   "cell_type": "markdown",
   "metadata": {},
   "source": [
    "$ p(\\lambda) $ and $ p(\\lambda | x) $ should be in the same family of distributions. Now let's find such functions, that would follow this rule.\n",
    "\n",
    "$$ p(\\lambda | X) = \\frac{p(X | \\lambda) p(\\lambda)}{p(X)} = \\frac{\\lambda^N exp(-\\lambda\\sum_{i = 1}^{N} x_i) p(\\lambda)}{p(X)} $$\n",
    "\n",
    "Let us consider family of gamma distributions :\n",
    "\n",
    "$$ p(\\lambda) = \\mathcal{G}(\\lambda | \\alpha, \\beta) = \\frac{\\lambda^{\\alpha - 1} e^{\\lambda \\beta} \\beta^{\\alpha}}{\\Gamma(\\alpha)} \\propto \\lambda^{\\alpha - 1} e^{\\lambda \\beta} $$\n",
    "\n",
    "Then \n",
    "\n",
    "$$ p(\\lambda | X) \\propto \\lambda^N exp(-\\lambda\\sum_{i = 1}^{N} x_i) p(\\lambda) \\propto \\lambda^N \\exp(-\\lambda\\sum_{i = 1}^{N} x_i) \\lambda^{\\alpha - 1} \\exp^{\\lambda \\beta} = \\lambda^{N + \\alpha - 1} e^{\\lambda \\left( \\beta -  \\sum_{i = 1}^{N} x_i \\right)} \\propto \\mathcal{G} \\left(\\lambda ~ \\Big | ~ N + \\alpha, \\beta -  \\sum_{i = 1}^{N} x_i \\right). $$\n",
    "\n",
    "Hence $$ p(\\lambda | X) = \\mathcal{G} \\left(\\lambda ~ \\Big | ~ N + \\alpha, \\beta -  \\sum_{i = 1}^{N} x_i \\right) $$"
   ]
  },
  {
   "cell_type": "markdown",
   "metadata": {
    "collapsed": true
   },
   "source": [
    "Due to the fact that $p(\\lambda|X)$ is $ \\mathcal{G} \\left(\\lambda ~ \\Big | ~ N + \\alpha, \\beta -  \\sum_{i = 1}^{N} x_i \\right) $\n",
    "\n",
    "$$ E[\\lambda|X] = \\frac{N + \\alpha}{N + \\alpha + \\beta - \\sum_{i = 1}^{N} x_i} $$"
   ]
  },
  {
   "cell_type": "markdown",
   "metadata": {},
   "source": [
    "# Problem 2\n",
    "\n",
    "$$ \\mathcal{G} \\left(x ~ | ~ a, b \\right ) = \\frac{b^a}{\\Gamma(a)} x^{a - 1} e^{-bx} = \\frac{b^a}{\\Gamma(a)} \\exp \\left(-bx + (a - 1)\\log(x) \\right)$$"
   ]
  },
  {
   "cell_type": "markdown",
   "metadata": {},
   "source": [
    "Exponential distribution is s distribution that can be represented in the form  $f_X(x\\mid\\theta) = h(x) g(\\theta) \\exp \\left ( \\eta(\\theta)^\\mathsf{T} T(x) \\right )$\n",
    "\n",
    "$$ \\theta = \\{a, b\\} $$\n",
    "\n",
    "$$ h(x) = 1 $$\n",
    "\n",
    "$$ g(\\theta) = \\frac{b^a}{\\Gamma(a)} $$\n",
    "\n",
    "$$ \\eta(\\theta) = (-b \\quad a - 1) ^T $$\n",
    "\n",
    "$$ T(x) = (x \\quad \\log(x)) $$"
   ]
  },
  {
   "cell_type": "markdown",
   "metadata": {},
   "source": [
    "$$ \\int_{x}g(\\theta)h(x)e^{\\eta^T T(x)} dx = 1 $$\n",
    "\n",
    "$$ \\frac{d \\int_{x}g(\\theta)h(x)e^{\\eta^T T(x)} dx}{d \\eta} = (0 \\quad 0) $$\n",
    "$$ \\frac{d \\int_{x}g(\\theta)h(x)e^{\\eta^T T(x)} dx}{d \\eta} = \\frac{d g(\\theta) \\int_{x}h(x)e^{\\eta^T T(x)} dx}{d \\eta} = \\frac{d g(\\theta)}{d \\eta} \\int_{x}h(x)e^{\\eta^T T(x)}dx + \\frac{g(\\theta) d \\int_{x}h(x)e^{\\eta^T T(x)} dx}{d \\eta} $$\n",
    "$$ (0 \\quad 0) = \\frac{d g(\\theta)}{d \\eta} \\int_{x}h(x)e^{\\eta^T T(x)} dx + g(\\theta) \\int_{x}h(x) T(x) e^{\\eta^T T(x)} dx $$\n",
    "$$ (E[x] \\quad E[logx]) = - \\frac{d g(\\theta)}{d \\eta} \\int_{x}h(x)e^{\\eta^T T(x)} dx =  - \\frac{d g(\\theta)}{d \\eta} \\frac{1}{g(\\theta)} = - \\frac{d \\log g(\\theta)}{d \\eta} $$\n",
    "\n",
    "$$ \\frac{d \\log g(\\theta)}{d \\eta} = \\frac{d (a\\log(b) - log(\\Gamma(a)))}{d (-b \\quad a - 1)} = \\left( \\frac{-a}{b} \\quad \\log(b) - \\psi(a) \\right) $$\n",
    "\n",
    "Hence \n",
    "\n",
    "$$ E[x] = \\frac{a}{b} $$\n",
    "$$ E[\\log(x)] = \\psi(a) - \\log(b)  $$"
   ]
  }
 ],
 "metadata": {
  "kernelspec": {
   "display_name": "Python 3",
   "language": "python",
   "name": "python3"
  },
  "language_info": {
   "codemirror_mode": {
    "name": "ipython",
    "version": 3
   },
   "file_extension": ".py",
   "mimetype": "text/x-python",
   "name": "python",
   "nbconvert_exporter": "python",
   "pygments_lexer": "ipython3",
   "version": "3.5.1"
  }
 },
 "nbformat": 4,
 "nbformat_minor": 0
}
