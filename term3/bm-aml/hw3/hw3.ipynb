{
 "cells": [
  {
   "cell_type": "markdown",
   "metadata": {},
   "source": [
    "# Problem 1"
   ]
  },
  {
   "cell_type": "markdown",
   "metadata": {},
   "source": [
    "$$ (A + UCV)^{-1} = A^{-1} - A^{-1}U(C^{-1} + VA^{-1}U)^{-1}VA^{-1} \\big | \\cdot (A + UCV) $$\n",
    "$$ I = A^{-1}(A + UCV) - A^{-1}U(C^{-1} + VA^{-1}U)^{-1}VA^{-1}(A + UCV) $$\n",
    "$$ I = I + A^{-1}UCV - A^{-1}U(C^{-1} + VA^{-1}U)^{-1}VA^{-1}A - A^{-1}U(C^{-1} + VA^{-1}U)^{-1}VA^{-1}UCV $$\n",
    "$$ A^{-1}U(C^{-1} + VA^{-1}U)^{-1}VA^{-1}A + A^{-1}U(C^{-1} + VA^{-1}U)^{-1}VA^{-1}UCV = A^{-1}UCV \\big | \\cdot AU^{-1} $$\n",
    "$$ (C^{-1} + VA^{-1}U)^{-1}V + (C^{-1} + VA^{-1}U)^{-1}VA^{-1}UCV = CV \\big | \\cdot V^{-1} $$\n",
    "$$ (C^{-1} + VA^{-1}U)^{-1} + (C^{-1} + VA^{-1}U)^{-1}VA^{-1}UC = C \\big | \\cdot V^{-1} $$\n",
    "$$ (C^{-1} + VA^{-1}U)^{-1}(I + VA^{-1}UC) = C \\big | \\cdot C^{-1} $$\n",
    "$$ (C^{-1} + VA^{-1}U)^{-1}(C^{-1} + VA^{-1}U) = I $$\n",
    "$$ I = I $$\n",
    "\n",
    "QED"
   ]
  },
  {
   "cell_type": "markdown",
   "metadata": {},
   "source": [
    "# Problem 2"
   ]
  },
  {
   "cell_type": "markdown",
   "metadata": {},
   "source": [
    "$$ \\frac{\\partial Tr(AX^{-1}B)}{\\partial X} = \\frac{\\partial Tr(X^{-1}BA)}{\\partial X} = \\frac{Tr(\\partial X^{-1}BA)}{\\partial X} = -(X^{-1} BA X^{-1})^T $$"
   ]
  },
  {
   "cell_type": "markdown",
   "metadata": {},
   "source": [
    "# Problem 3"
   ]
  },
  {
   "cell_type": "markdown",
   "metadata": {},
   "source": [
    "$$ p(x) = N(x|\\mu, \\Sigma), x \\in [x_a \\quad x_b] $$\n",
    "\n",
    "$$ p(x_a) = N(x_a|\\mu_a, \\Sigma_{aa}) $$"
   ]
  },
  {
   "cell_type": "markdown",
   "metadata": {},
   "source": [
    "# Problem 4"
   ]
  },
  {
   "cell_type": "markdown",
   "metadata": {},
   "source": [
    "$$ p(x) = N(x|\\mu, \\Sigma), x \\in [x_a \\quad x_b] $$\n",
    "\n",
    "$$ E[(x - a)^TB(x - a)] = E[(xB^T - aB^T)^T(x - a)] = E[(x^TB - a^TB)(x - a)] = E[x^TBx - x^TBa - a^TBx +  a^TBa] = $$\n",
    "\n",
    "$$ = E[x^TBx] - E[x^TBa] - E[a^TBx] +  E[a^TBa] = E[xx^T]B - E[x^T]Ba - a^TBE[X] + a^TBAa $$\n",
    "\n",
    "It is important to mention that:\n",
    "\n",
    "$$ \\Sigma = E[(x - \\mu)^T(x - \\mu)] = E[(x^T - \\mu^T)(x - \\mu)] = E[x^Tx - x^T\\mu - \\mu^Tx + \\mu^t\\mu] = E[x^Tx] - E[x^T\\mu] - E[\\mu^Tx] + E[\\mu^t\\mu] = E[x^Tx - x^T\\mu - \\mu^Tx + \\mu^t\\mu] = E[x^Tx] - E[x^T]\\mu - \\mu^TE[x] + E[\\mu^t\\mu] = E[x^Tx] - \\mu^T\\mu $$\n",
    "\n",
    "Hence\n",
    "\n",
    "$$ E[x^Tx] = \\Sigma + \\mu^T\\mu $$\n",
    "\n",
    "And finaly\n",
    "\n",
    "$$ E[(x - a)^TB(x - a)]= E[xx^T]B - E[x^T]Ba - a^TBE[X] + a^TBAa = (\\Sigma + \\mu^T\\mu)B - \\mu^TBa - a^TB\\mu + a^TBAa = $$\n",
    "\n",
    "$$ = \\Sigma B + \\mu^T\\mu B - \\mu^TBa - a^TB\\mu + a^TBAa $$"
   ]
  },
  {
   "cell_type": "markdown",
   "metadata": {},
   "source": [
    "# Problem 5"
   ]
  },
  {
   "cell_type": "markdown",
   "metadata": {},
   "source": [
    "$$ p(x) = N(x|\\mu, \\Sigma) $$\n",
    "\n",
    "$$ p(y|x) = N(y|Ax, \\Gamma) $$\n",
    "\n",
    "We have to prove:\n",
    "\n",
    "$$ p(y) = N(y|A\\mu, \\Gamma + A \\Sigma A^T) $$"
   ]
  },
  {
   "cell_type": "markdown",
   "metadata": {},
   "source": [
    "$$ p(y|x)p(x) = p(x|y)p(y) $$\n",
    "$$ p(y|x)p(x) = \\frac{\\exp(\\frac{-1}{2}(x - \\mu)^T\\Sigma^{-1}(x - \\mu))\\exp(\\frac{-1}{2}(y - Ax)^T\\Gamma^{-1}(y - Ax))}{(2\\pi)^d \\sqrt{\\det{\\Gamma}\\det{\\Sigma}}} = $$\n",
    "$$ \\frac{\\exp(\\frac{-1}{2} ( (x - \\mu)^T\\Sigma^{-1}(x - \\mu)) + (y - Ax)^T\\Gamma^{-1}(y - Ax))}{(2\\pi)^d \\sqrt{\\det{\\Gamma}\\det{\\Sigma}}} \\propto \\exp(\\frac{-1}{2} ( (x - \\mu)^T\\Sigma^{-1}(x - \\mu)) + (y - Ax)^T\\Gamma^{-1}(y - Ax)) $$"
   ]
  },
  {
   "cell_type": "markdown",
   "metadata": {},
   "source": [
    "$$ \\exp(\\frac{-1}{2} ( (x - \\mu)^T\\Sigma^{-1}(x - \\mu)) + (y - Ax)^T\\Gamma^{-1}(y - Ax)) = \\exp \\left( \\frac{-1}{2}  \\left( x^T \\Sigma^{-1} x  - 2 \\mu^T \\Sigma^{-1} x + \\mu^T \\Sigma^{-1} \\mu + y^T \\Gamma^{-1} y - 2 y^T \\Gamma^{-1} Ax + x^T A^T \\Gamma^{-1} Ax \\right) \\right) \\propto $$"
   ]
  },
  {
   "cell_type": "markdown",
   "metadata": {},
   "source": [
    "$$ \\propto \\exp \\left( \\frac{-1}{2}  \\left( x^T \\left( \\Sigma^{-1} + A^T \\Gamma^{-1} A \\right) x  - 2 \\left (\\mu^T \\Sigma^{-1} + y^T \\Gamma^{-1} A \\right) x + y^T \\Gamma^{-1} y \\right) \\right) = \\exp \\left( \\frac{-1}{2}  \\left( x^T \\left( \\Sigma^{-1} + A^T \\Gamma^{-1} A \\right) x  - 2 \\left (\\mu^T \\Sigma^{-1} + y^T \\Gamma^{-1} A \\right) x \\right) \\right) \\exp \\left( \\frac{-1}{2} y^T \\Gamma^{-1} y \\right). $$"
   ]
  },
  {
   "cell_type": "markdown",
   "metadata": {},
   "source": [
    "$$ \\int  p(x|y)p(y) dx = p(y) $$\n",
    "\n",
    "Now lets see that:\n",
    "\n",
    "$$ (x - m)^T S^{-1} (x - m) = x^T S^{-1} x - 2 m^T S^{-1} x + m^T S^{-1} m $$\n",
    "\n",
    "then:"
   ]
  },
  {
   "cell_type": "markdown",
   "metadata": {},
   "source": [
    "$$ p(y|x)p(x) \\propto \\exp \\left( \\frac{-1}{2}  \\left( x^T  \\underbrace{ \\left( \\Sigma^{-1} + A^T \\Gamma^{-1} A \\right)}_{ S^{-1}} x  - 2 \\underbrace{ \\left (\\mu^T \\Sigma^{-1} + y^T \\Gamma^{-1} A \\right) }_{m^T S^{-1}} x \\right) \\right) \\exp \\left( \\frac{-1}{2} y^T \\Gamma^{-1} y \\right) = \\exp \\left( \\frac{-1}{2}  \\left( (x - m)^T S^{-1} (x - m)- m^T S^{-1} m \\right) \\right) \\exp \\left( \\frac{-1}{2} y^T \\Gamma^{-1} y \\right) \\propto p(x|y)p(y). $$"
   ]
  },
  {
   "cell_type": "markdown",
   "metadata": {},
   "source": [
    "Hence:\n",
    "\n",
    "$$ p(y) \\propto \\exp \\left( \\frac{-1}{2}  \\left(y^T \\Gamma^{-1} y  - m^T S^{-1} m \\right) \\right) = $$"
   ]
  },
  {
   "cell_type": "markdown",
   "metadata": {},
   "source": [
    "$$ = \\exp \\left( \\frac{-1}{2}  \\left(y^T \\Gamma^{-1} y  - \\left (\\mu^T \\Sigma^{-1} + y^T \\Gamma^{-1} A \\right) S \\left (\\mu^T \\Sigma^{-1} + y^T \\Gamma^{-1} A \\right)^T \\right) \\right) = $$"
   ]
  },
  {
   "cell_type": "markdown",
   "metadata": {},
   "source": [
    "$$ = \\exp \\left( \\frac{-1}{2} \\left(y^T \\Gamma^{-1} y  - \\mu^T \\Sigma^{-1}S \\Sigma^{-1}\\mu - 2y^T \\Gamma^{-1} A S \\Sigma^{-1} \\mu - y^T \\Gamma^{-1} A S A^T \\Gamma^{-1} y \\right) \\right) = $$"
   ]
  },
  {
   "cell_type": "markdown",
   "metadata": {},
   "source": [
    "$$ = \\exp \\left( \\frac{-1}{2} \\left(y^T  \\left( \\Gamma^{-1} - \\Gamma^{-1} A S A^T \\Gamma^{-1}\\right) y - 2 \\mu^T \\Sigma^{-1} \\left( \\Sigma^{-1} + A^T \\Gamma^{-1} A \\right)^{-1}  A^T \\Gamma^{-1} y - \\mu^T \\Sigma^{-1} \\left( \\Sigma^{-1} + A^T \\Gamma^{-1} A \\right)^{-1} \\Sigma^{-1}\\mu \\right) \\right) \\propto $$"
   ]
  },
  {
   "cell_type": "markdown",
   "metadata": {},
   "source": [
    "$$ \\propto \\exp \\left( \\frac{-1}{2} \\left(y^T  \\underbrace{ \\left( \\Gamma^{-1} - \\Gamma^{-1} A \\left( \\Sigma^{-1} + A^T \\Gamma^{-1} A \\right)^{-1} A^T \\Gamma^{-1}\\right) }_{G^{-1}} y - 2 \\underbrace{\\mu^T \\Sigma^{-1} \\left( \\Sigma^{-1} + A^T \\Gamma^{-1} A \\right)^{-1}  A^T \\Gamma^{-1}}_{d^TG^-1} y \\right) \\right) \\propto $$"
   ]
  },
  {
   "cell_type": "markdown",
   "metadata": {},
   "source": [
    "$$ \\propto \\exp \\left( \\frac{-1}{2} \\left( (y - d)^T G^{-1} (y - d) \\right) \\right) $$"
   ]
  },
  {
   "cell_type": "markdown",
   "metadata": {},
   "source": [
    "Now we just got that p(y) is a normal distribution and we have only to find its expectation d and covariance matrix G."
   ]
  },
  {
   "cell_type": "markdown",
   "metadata": {},
   "source": [
    "$$ G^{-1} = \\Gamma^{-1} - \\Gamma^{-1} A \\left( \\Sigma^{-1} + A^T \\Gamma^{-1} A \\right)^{-1} A^T \\Gamma^{-1} = \\left( \\Gamma + A \\Sigma A^T \\right)^{-1} $$\n",
    "\n",
    "That means, that:\n",
    "\n",
    "$$ G = \\Gamma + A \\Sigma A^T $$"
   ]
  },
  {
   "cell_type": "markdown",
   "metadata": {},
   "source": [
    "$$ d^T G^{-1} = \\mu^T \\Sigma^{-1} \\left( \\Sigma^{-1} + A^T \\Gamma^{-1} A \\right)^{-1}  A^T \\Gamma^{-1} $$"
   ]
  },
  {
   "cell_type": "markdown",
   "metadata": {},
   "source": [
    "Lets mention, that:\n",
    "\n",
    "$$ \\left( \\Sigma^{-1} + A^T \\Gamma^{-1} A \\right)^{-1} = \\Sigma - \\Sigma A^T (\\Gamma + A \\Sigma A^T)^{-1}A \\Sigma $$"
   ]
  },
  {
   "cell_type": "markdown",
   "metadata": {},
   "source": [
    "Then:\n",
    "\n",
    "$$ d^T G^{-1}= \\mu^T \\Sigma^{-1} \\left( \\Sigma - \\Sigma A^T (\\Gamma + A \\Sigma A^T)^{-1}A \\Sigma \\right) A^T \\Gamma^{-1} =  $$"
   ]
  },
  {
   "cell_type": "markdown",
   "metadata": {},
   "source": [
    "$$ = \\mu^T (I - A^T G^{-T}A\\Sigma) A^T \\Gamma^{-1} = \\mu^T (A^T \\Gamma^{-1} - A^T G^{-T}A \\Sigma A^T \\Gamma^{-1}) =  \n",
    "\\mu^T A^T G^{-T} ( G^T - A \\Sigma A^T)\\Gamma^{-1} = \\mu^T A^T G^{-T} ( \\Gamma)\\Gamma^{-1} = \\mu^T A^T G^{-T} $$"
   ]
  },
  {
   "cell_type": "markdown",
   "metadata": {},
   "source": [
    "Thus:\n",
    "\n",
    "$$ d = A\\mu $$\n",
    "\n",
    "QED"
   ]
  }
 ],
 "metadata": {
  "kernelspec": {
   "display_name": "Python 3",
   "language": "python",
   "name": "python3"
  },
  "language_info": {
   "codemirror_mode": {
    "name": "ipython",
    "version": 3
   },
   "file_extension": ".py",
   "mimetype": "text/x-python",
   "name": "python",
   "nbconvert_exporter": "python",
   "pygments_lexer": "ipython3",
   "version": "3.5.1"
  }
 },
 "nbformat": 4,
 "nbformat_minor": 0
}
