{
 "cells": [
  {
   "cell_type": "code",
   "execution_count": 2,
   "metadata": {
    "collapsed": false
   },
   "outputs": [],
   "source": [
    "import numpy as np\n",
    "import scipy as sp\n",
    "import scipy.special\n",
    "\n",
    "params = {\n",
    "    'a_min' : 75,\n",
    "    'a_max' : 90,\n",
    "    'b_min' : 500,\n",
    "    'b_max' : 600,\n",
    "    'p1' : 0.1,\n",
    "    'p2' : 0.01,\n",
    "    'p3' : 0.3\n",
    "}\n",
    "\n",
    "def p_uniform(a_min, a_max):\n",
    "    return 1 / (a_max - a_min + 1)\n",
    "\n",
    "def e(p, c):\n",
    "    return p.dot(c)\n",
    "\n",
    "def var(p, c):\n",
    "    return e(p, c**2) - e(p, c)**2\n",
    "\n",
    "def binomln(n, k):\n",
    "    return sp.special.gammaln(n + 1) - sp.special.gammaln(k + 1) - sp.special.gammaln(n - k + 1)"
   ]
  },
  {
   "cell_type": "code",
   "execution_count": 3,
   "metadata": {
    "collapsed": false
   },
   "outputs": [],
   "source": [
    "import matplotlib.pyplot as plt\n",
    "import time\n",
    "\n",
    "%matplotlib inline\n",
    "\n",
    "def run_modeling(generator, params, model, *args):\n",
    "    start = time.time()\n",
    "    p, c = generator(*args, params=params, model=model)\n",
    "    end = time.time()\n",
    "\n",
    "    print('Time elapsed {0}'.format(end - start))    \n",
    "    print('E = {0}, Var = {1}'.format(e(p, c), var(p, c)))\n",
    "    plt.plot(c, p)"
   ]
  },
  {
   "cell_type": "markdown",
   "metadata": {},
   "source": [
    "For discrete uniform random variable X distributed in [a, b] we have:\n",
    "$$ E(x) = \\frac{b + a}{2} $$\n",
    "$$ Var(x) = \\frac{(b - a + 1)^2 - 1}{12} $$"
   ]
  },
  {
   "cell_type": "markdown",
   "metadata": {},
   "source": [
    "So for random variables $a$ and $b$ have the following expectation values and variance:"
   ]
  },
  {
   "cell_type": "markdown",
   "metadata": {},
   "source": [
    "E(a) = $ \\frac{75 + 90}{2} = 82.5 $\n",
    "\n",
    "Var(a) = $ \\frac{(90 - 75 + 1)^2 - 1}{12} = 21.25 $ \n",
    "\n",
    "E(b) = $ \\frac{500 + 600}{2} = 550 $\n",
    "\n",
    "Var(b) = $ \\frac{(600 - 500 + 1)^2 - 1}{12} = 850 $"
   ]
  },
  {
   "cell_type": "code",
   "execution_count": 4,
   "metadata": {
    "collapsed": false
   },
   "outputs": [
    {
     "name": "stdout",
     "output_type": "stream",
     "text": [
      "E(a) = 82.5, Var(a) = 21.25\n",
      "E(b) = 550.0, Var(b) = 850.0\n"
     ]
    }
   ],
   "source": [
    "for param in ['a', 'b']:\n",
    "    p = p_uniform(params['{0}_min'.format(param)],\n",
    "                  params['{0}_max'.format(param)]) * \\\n",
    "        np.ones(params['{0}_max'.format(param)] - params['{0}_min'.format(param)] + 1)\n",
    "    c = np.arange(params['{0}_min'.format(param)], params['{0}_max'.format(param)] + 1)\n",
    "    print('E({0}) = {1}, Var({0}) = {2}'.format(param, e(p, c), var(p, c)))"
   ]
  },
  {
   "cell_type": "markdown",
   "metadata": {
    "collapsed": true
   },
   "source": [
    "$$ p(c) = \\sum_{a, b} p(c | a,b) p(a, b) $$\n",
    "\n",
    "For the first model let us define $x_1 = Bin(a, p_1)$ and $x_2 = Bin(b, p_2)$, then\n",
    "\n",
    "$$ p(c | a, b) = p(x_1 + x_2 = c| a,b) = \\sum_{i = 0}^c Bin(i | ap_1)Bin(c - i|bp_2) $$\n",
    "\n",
    "$$ p(c) = p(a,b) \\frac{p_2}{1 - p_2}^c \\sum_{x=0}^c \\left(\\frac{p_1(1 - p_2)}{p_2(1 - p_1)}\\right)^x \\sum_{a} \\binom{a}{x} (1 - p_1)^a \\sum_{b} \\binom{b}{c - x}(1 - p_2)^b $$\n",
    "\n",
    "For the second model we have:\n",
    "\n",
    "$$ p(c | a, b) = Poison(ap_1 + bp_2) $$"
   ]
  },
  {
   "cell_type": "code",
   "execution_count": 5,
   "metadata": {
    "collapsed": false
   },
   "outputs": [
    {
     "name": "stderr",
     "output_type": "stream",
     "text": [
      "<ipython-input-5-d69d58aa63e4>:8: SyntaxWarning: name 'golden_crutch' is used prior to global declaration\n",
      "  global golden_crutch\n",
      "<ipython-input-5-d69d58aa63e4>:12: SyntaxWarning: name 'golden_crutch' is assigned to before global declaration\n",
      "  global golden_crutch\n"
     ]
    }
   ],
   "source": [
    "import scipy as sp\n",
    "import scipy.stats\n",
    "\n",
    "def pc(params, model):\n",
    "    try:\n",
    "        golden_crutch[model]\n",
    "    except NameError:\n",
    "        global golden_crutch\n",
    "        golden_crutch = {}\n",
    "        golden_crutch[model] = pc__(model, **params)\n",
    "    except KeyError:\n",
    "        global golden_crutch\n",
    "        golden_crutch[model] = pc__(model, **params)\n",
    "        \n",
    "    \n",
    "        \n",
    "    return golden_crutch[model]\n",
    "\n",
    "def pc__(model, a_min, a_max, b_min, b_max, p1, p2, p3):\n",
    "    p_ab = p_uniform(a_min, a_max) * p_uniform(b_min, b_max)\n",
    "    \n",
    "    c_space = np.arange(a_max + b_max + 1)\n",
    "\n",
    "    if model == 1:\n",
    "        p = np.zeros(a_max + b_max + 1)\n",
    "        \n",
    "        x, a = np.meshgrid(np.arange(c_space[-1] + 1), np.arange(a_min, a_max + 1))\n",
    "        mesha = binomln(a, x) + a * np.log(1 - p1)\n",
    "        x, b = np.meshgrid(np.arange(c_space[-1] + 1), np.arange(b_min, b_max + 1))\n",
    "        meshb = binomln(b, c_space[-1] - x) + b * np.log(1 - p2)\n",
    "\n",
    "        for c in c_space:\n",
    "            logsuma = scipy.misc.logsumexp(mesha[:, : c + 1], axis=0)\n",
    "            logsumb = scipy.misc.logsumexp(meshb[:, -c - 1:], axis=0)\n",
    "            \n",
    "            p[c] = np.exp(c * np.log(p2 / (1 - p2)) + \n",
    "                     scipy.misc.logsumexp(logsuma + logsumb + x[0, : c + 1] * np.log(p1 * (1 - p2) / (p2 * (1 - p1))))\n",
    "                   ) * p_ab\n",
    "\n",
    "    elif model == 2:\n",
    "        a, b = np.meshgrid(np.arange(a_min, a_max + 1),\n",
    "                           np.arange(b_min, b_max + 1))\n",
    "        p = sp.stats.poisson.pmf(\n",
    "                                 c_space.reshape(-1, 1),\n",
    "                                 (a * p1 + b * p2).ravel()\n",
    "                                ).sum(axis=1)\n",
    "    \n",
    "        p = p * p_ab\n",
    "\n",
    "    return p, c_space"
   ]
  },
  {
   "cell_type": "code",
   "execution_count": 6,
   "metadata": {
    "collapsed": false
   },
   "outputs": [
    {
     "name": "stdout",
     "output_type": "stream",
     "text": [
      "Time elapsed 0.5738949775695801\n",
      "E = 13.749999999999897, Var = 13.167500000001155\n"
     ]
    },
    {
     "data": {
      "image/png": "[encoded data removed]",
      "text/plain": [
       "<matplotlib.figure.Figure at 0x110655dd8>"
      ]
     },
     "metadata": {},
     "output_type": "display_data"
    }
   ],
   "source": [
    "run_modeling(pc, params, 1)"
   ]
  },
  {
   "cell_type": "code",
   "execution_count": 7,
   "metadata": {
    "collapsed": false
   },
   "outputs": [
    {
     "name": "stdout",
     "output_type": "stream",
     "text": [
      "Time elapsed 0.19994020462036133\n",
      "E = 13.749999999999993, Var = 14.047500000000099\n"
     ]
    },
    {
     "data": {
      "image/png": "[encoded data removed]",
      "text/plain": [
       "<matplotlib.figure.Figure at 0x10e8ef470>"
      ]
     },
     "metadata": {},
     "output_type": "display_data"
    }
   ],
   "source": [
    "run_modeling(pc, params, 2)"
   ]
  },
  {
   "cell_type": "markdown",
   "metadata": {
    "collapsed": false
   },
   "source": [
    "When a and b are known:\n",
    "\n",
    "For the first model let us define $x_1 = Bin(a, p_1)$ and $x_2 = Bin(b, p_2)$, then\n",
    "\n",
    "$$ p(c | a, b) = p(x_1 + x_2 = c| a, b) = \\sum_{i = 0}^c Bin(i | ap_1)Bin(c - i|bp_2) $$\n",
    "\n",
    "For the second model we have:\n",
    "\n",
    "$$ p(c | a, b) = Poison(ap_1 + bp_2) $$"
   ]
  },
  {
   "cell_type": "code",
   "execution_count": 8,
   "metadata": {
    "collapsed": false
   },
   "outputs": [],
   "source": [
    "def pc_ab(a, b, params, model):\n",
    "    return pc_ab__(a, b, model, **params)\n",
    "\n",
    "def pc_ab__(a, b, model, a_min, a_max, b_min, b_max, p1, p2, p3):\n",
    "    c_space = np.arange(a_max + b_max + 1)\n",
    "\n",
    "    if model == 1:\n",
    "        p = np.convolve(sp.stats.binom.pmf(c_space, a, p1), sp.stats.binom.pmf(c_space, b, p2))\n",
    "\n",
    "    elif model == 2:\n",
    "        p = sp.stats.poisson.pmf(c_space, (a * p1 + b * p2))\n",
    "\n",
    "    return p[:a_max + b_max + 1], c_space"
   ]
  },
  {
   "cell_type": "code",
   "execution_count": 9,
   "metadata": {
    "collapsed": false
   },
   "outputs": [
    {
     "name": "stdout",
     "output_type": "stream",
     "text": [
      "Time elapsed 0.0012140274047851562\n",
      "E = 13.800000000000345, Var = 12.914999999995672\n"
     ]
    },
    {
     "data": {
      "image/png": "[encoded data removed]",
      "text/plain": [
       "<matplotlib.figure.Figure at 0x1114819b0>"
      ]
     },
     "metadata": {},
     "output_type": "display_data"
    }
   ],
   "source": [
    "run_modeling(pc_ab, params, 1, 83, 550)"
   ]
  },
  {
   "cell_type": "code",
   "execution_count": 10,
   "metadata": {
    "collapsed": false
   },
   "outputs": [
    {
     "name": "stdout",
     "output_type": "stream",
     "text": [
      "Time elapsed 0.00057220458984375\n",
      "E = 13.800000000000013, Var = 13.79999999999987\n"
     ]
    },
    {
     "data": {
      "image/png": "[encoded data removed]",
      "text/plain": [
       "<matplotlib.figure.Figure at 0x10dd1be80>"
      ]
     },
     "metadata": {},
     "output_type": "display_data"
    }
   ],
   "source": [
    "run_modeling(pc_ab, params, 2, 83, 550)"
   ]
  },
  {
   "cell_type": "markdown",
   "metadata": {},
   "source": [
    "When a is known:\n",
    "\n",
    "For both models we have:\n",
    "\n",
    "$$ p(c | a) = \\sum_{b} p(c | a,b) p(b) $$\n",
    "\n",
    "When b is known:\n",
    "\n",
    "For both models we have:\n",
    "\n",
    "$$ p(c | b) = \\sum_{a} p(c | a,b) p(a) $$"
   ]
  },
  {
   "cell_type": "code",
   "execution_count": 11,
   "metadata": {
    "collapsed": true
   },
   "outputs": [],
   "source": [
    "def pc_a(a, params, model):\n",
    "    c_space = np.arange(params['a_max'] + params['b_max'] + 1)\n",
    "    p = np.zeros(c_space.size)\n",
    "    \n",
    "    for b in range(params['b_min'], params['b_max'] + 1):\n",
    "        p += pc_ab(a, b, params, model)[0]\n",
    "        \n",
    "    return p * p_uniform(params['b_min'], params['b_max']) , c_space"
   ]
  },
  {
   "cell_type": "code",
   "execution_count": 12,
   "metadata": {
    "collapsed": false
   },
   "outputs": [
    {
     "name": "stdout",
     "output_type": "stream",
     "text": [
      "Time elapsed 0.0756838321685791\n",
      "E = 13.799999999999898, Var = 13.000000000000995\n"
     ]
    },
    {
     "data": {
      "image/png": "[encoded data removed]",
      "text/plain": [
       "<matplotlib.figure.Figure at 0x10dcd5c18>"
      ]
     },
     "metadata": {},
     "output_type": "display_data"
    }
   ],
   "source": [
    "run_modeling(pc_a, params, 1, 83)"
   ]
  },
  {
   "cell_type": "code",
   "execution_count": 13,
   "metadata": {
    "collapsed": false
   },
   "outputs": [
    {
     "name": "stdout",
     "output_type": "stream",
     "text": [
      "Time elapsed 0.030625104904174805\n",
      "E = 13.79999999999999, Var = 13.885000000000161\n"
     ]
    },
    {
     "data": {
      "image/png": "[encoded data removed]",
      "text/plain": [
       "<matplotlib.figure.Figure at 0x11122ce48>"
      ]
     },
     "metadata": {},
     "output_type": "display_data"
    }
   ],
   "source": [
    "run_modeling(pc_a, params, 2, 83)"
   ]
  },
  {
   "cell_type": "code",
   "execution_count": 14,
   "metadata": {
    "collapsed": true
   },
   "outputs": [],
   "source": [
    "def pc_b(b, params, model):\n",
    "    c_space = np.arange(params['a_max'] + params['b_max'] + 1)\n",
    "    p = np.zeros(c_space.size)\n",
    "    \n",
    "    for a in range(params['a_min'], params['a_max'] + 1):\n",
    "        p += pc_ab(a, b, params, model)[0]\n",
    "        \n",
    "    return p * p_uniform(params['a_min'], params['a_max']) , c_space"
   ]
  },
  {
   "cell_type": "code",
   "execution_count": 15,
   "metadata": {
    "collapsed": false
   },
   "outputs": [
    {
     "name": "stdout",
     "output_type": "stream",
     "text": [
      "Time elapsed 0.014111042022705078\n",
      "E = 13.750000000000348, Var = 13.082499999995775\n"
     ]
    },
    {
     "data": {
      "image/png": "[encoded data removed]",
      "text/plain": [
       "<matplotlib.figure.Figure at 0x10dd1f7b8>"
      ]
     },
     "metadata": {},
     "output_type": "display_data"
    }
   ],
   "source": [
    "run_modeling(pc_b, params, 1, 550)"
   ]
  },
  {
   "cell_type": "code",
   "execution_count": 16,
   "metadata": {
    "collapsed": false
   },
   "outputs": [
    {
     "name": "stdout",
     "output_type": "stream",
     "text": [
      "Time elapsed 0.00465703010559082\n",
      "E = 13.749999999999988, Var = 13.96250000000012\n"
     ]
    },
    {
     "data": {
      "image/png": "[encoded data removed]",
      "text/plain": [
       "<matplotlib.figure.Figure at 0x11138fd68>"
      ]
     },
     "metadata": {},
     "output_type": "display_data"
    }
   ],
   "source": [
    "run_modeling(pc_b, params, 2, 550)"
   ]
  },
  {
   "cell_type": "markdown",
   "metadata": {},
   "source": [
    "For d we have:\n",
    "\n",
    "$$ p(d) = \\sum_{c} p(d|c) p(c) $$\n",
    "\n",
    "$$ p(d|c) = Pr[c + Bin(c, p3) = d ~ | ~ c] = Pr[Bin(c, p3) = d - c ~ | ~ c] $$"
   ]
  },
  {
   "cell_type": "code",
   "execution_count": 17,
   "metadata": {
    "collapsed": false
   },
   "outputs": [],
   "source": [
    "def pd(params, model):\n",
    "    d_space = np.arange(2 * (params['a_max'] + params['b_max']) + 1)\n",
    "    \n",
    "    p_of_c, c_space = pc(params, model)\n",
    "    \n",
    "    d, c = np.meshgrid(d_space, c_space)\n",
    "    \n",
    "    p = sp.stats.binom.pmf(d - c, c, params['p3']).T.dot(p_of_c)\n",
    "            \n",
    "    return p, d_space"
   ]
  },
  {
   "cell_type": "code",
   "execution_count": 18,
   "metadata": {
    "collapsed": false
   },
   "outputs": [
    {
     "name": "stdout",
     "output_type": "stream",
     "text": [
      "Time elapsed 0.1788339614868164\n",
      "E = 17.874999999999872, Var = 25.140575000001718\n"
     ]
    },
    {
     "data": {
      "image/png": "[encoded data removed]",
      "text/plain": [
       "<matplotlib.figure.Figure at 0x1115de2b0>"
      ]
     },
     "metadata": {},
     "output_type": "display_data"
    }
   ],
   "source": [
    "run_modeling(pd, params, 1)"
   ]
  },
  {
   "cell_type": "code",
   "execution_count": 19,
   "metadata": {
    "collapsed": false
   },
   "outputs": [
    {
     "name": "stdout",
     "output_type": "stream",
     "text": [
      "Time elapsed 0.17160606384277344\n",
      "E = 17.874999999999996, Var = 26.627774999999986\n"
     ]
    },
    {
     "data": {
      "image/png": "[encoded data removed]",
      "text/plain": [
       "<matplotlib.figure.Figure at 0x1112502e8>"
      ]
     },
     "metadata": {},
     "output_type": "display_data"
    }
   ],
   "source": [
    "run_modeling(pd, params, 2)"
   ]
  },
  {
   "cell_type": "markdown",
   "metadata": {},
   "source": [
    "For p(c|d) we have:\n",
    "    \n",
    "$$ p(c|d) = \\frac{p(d|c)p(c)}{p(d)} $$"
   ]
  },
  {
   "cell_type": "code",
   "execution_count": 20,
   "metadata": {
    "collapsed": false
   },
   "outputs": [],
   "source": [
    "def pc_d(d, params, model):\n",
    "    p_of_c, c_space = pc(params, model)\n",
    "    \n",
    "    p = sp.stats.binom.pmf(d - c_space, c_space, params['p3']) * p_of_c\n",
    "    p = p / np.sum(p)\n",
    "    \n",
    "    return p, c_space"
   ]
  },
  {
   "cell_type": "code",
   "execution_count": 21,
   "metadata": {
    "collapsed": false
   },
   "outputs": [
    {
     "name": "stdout",
     "output_type": "stream",
     "text": [
      "Time elapsed 0.0030879974365234375\n",
      "E = 13.895970598988919, Var = 1.533581700672869\n"
     ]
    },
    {
     "data": {
      "image/png": "[encoded data removed]",
      "text/plain": [
       "<matplotlib.figure.Figure at 0x1112571d0>"
      ]
     },
     "metadata": {},
     "output_type": "display_data"
    }
   ],
   "source": [
    "run_modeling(pc_d, params, 1, 18)"
   ]
  },
  {
   "cell_type": "code",
   "execution_count": 22,
   "metadata": {
    "collapsed": false
   },
   "outputs": [
    {
     "name": "stdout",
     "output_type": "stream",
     "text": [
      "Time elapsed 0.0006110668182373047\n",
      "E = 13.893833892236303, Var = 1.5439433290956117\n"
     ]
    },
    {
     "data": {
      "image/png": "[encoded data removed]",
      "text/plain": [
       "<matplotlib.figure.Figure at 0x1113c0d30>"
      ]
     },
     "metadata": {},
     "output_type": "display_data"
    }
   ],
   "source": [
    "run_modeling(pc_d, params, 2, 18)"
   ]
  },
  {
   "cell_type": "markdown",
   "metadata": {},
   "source": [
    "$$ p(c|a,b,d) = \\frac{p(a,b,c,d)}{p(d|ab)p(ab)} = \\frac{p(d|c)p(c|a,b)}{p(d|ab)} $$\n",
    "$$ p(d|ab) = \\sum_{c} p(d|c, a, b) p(c|a,b) = \\sum_{c} p(d|c) p(c|a,b) $$"
   ]
  },
  {
   "cell_type": "code",
   "execution_count": 23,
   "metadata": {
    "collapsed": false
   },
   "outputs": [],
   "source": [
    "def pc_abd(a, b, d, params, model):\n",
    "    p_of_c_ab, c_space = pc_ab(a, b, params, model)\n",
    "    \n",
    "    pd_c = sp.stats.binom.pmf(d - c_space, c_space, params['p3'])\n",
    "    \n",
    "    p = pd_c * p_of_c_ab / pd_c.dot(p_of_c_ab)\n",
    "\n",
    "    return p, c_space"
   ]
  },
  {
   "cell_type": "code",
   "execution_count": 24,
   "metadata": {
    "collapsed": false
   },
   "outputs": [
    {
     "name": "stdout",
     "output_type": "stream",
     "text": [
      "Time elapsed 0.002138853073120117\n",
      "E = 11.146681111745641, Var = 1.2023782109538956\n"
     ]
    },
    {
     "data": {
      "image/png": "[encoded data removed]",
      "text/plain": [
       "<matplotlib.figure.Figure at 0x111570d30>"
      ]
     },
     "metadata": {},
     "output_type": "display_data"
    }
   ],
   "source": [
    "run_modeling(pc_abd, params, 1, 83, 550, 14)"
   ]
  },
  {
   "cell_type": "code",
   "execution_count": 25,
   "metadata": {
    "collapsed": false
   },
   "outputs": [
    {
     "name": "stdout",
     "output_type": "stream",
     "text": [
      "Time elapsed 0.0011069774627685547\n",
      "E = 11.127877449003964, Var = 1.2089770653692113\n"
     ]
    },
    {
     "data": {
      "image/png": "[encoded data removed]",
      "text/plain": [
       "<matplotlib.figure.Figure at 0x1149ac208>"
      ]
     },
     "metadata": {},
     "output_type": "display_data"
    }
   ],
   "source": [
    "run_modeling(pc_abd, params, 2, 83, 550, 14)"
   ]
  },
  {
   "cell_type": "markdown",
   "metadata": {
    "collapsed": false
   },
   "source": [
    "Paramster d contributes most to improving of estimate c (in the sense of the variance of distribution)."
   ]
  },
  {
   "cell_type": "code",
   "execution_count": 26,
   "metadata": {
    "collapsed": false
   },
   "outputs": [],
   "source": [
    "def plot_variances(model):\n",
    "    d_space = np.arange(2 * (params['a_max'] + params['b_max']) + 1)\n",
    "    dc_d = np.zeros(d_space.size)\n",
    "    dc_b = np.zeros(d_space.size)\n",
    "    dc_a = np.zeros(d_space.size)\n",
    "\n",
    "    for d in d_space:\n",
    "        if d >= params['a_min'] and  d <= params['a_max'] + 1:\n",
    "            vara = var(*pc_a(d, params, model))\n",
    "        else:\n",
    "            vara = 0\n",
    "\n",
    "        if d >= params['b_min'] and  d <= params['b_max'] + 1:\n",
    "            varb = var(*pc_b(d, params, model))\n",
    "        else:\n",
    "            varb = 0\n",
    "\n",
    "        p_of_c_d, c_space = pc_d(d, params, model)\n",
    "        vard = var(p_of_c_d, c_space) \n",
    "\n",
    "        dc_d[d] = vard\n",
    "        dc_a[d] = vara\n",
    "        dc_b[d] = varb\n",
    "\n",
    "    plt.plot(dc_d, label='D[c|d]')\n",
    "    plt.plot(dc_a, label='D[c|a]')\n",
    "    plt.plot(dc_b, label='D[c|b]')\n",
    "    plt.legend(loc='best')"
   ]
  },
  {
   "cell_type": "code",
   "execution_count": 27,
   "metadata": {
    "collapsed": false
   },
   "outputs": [
    {
     "name": "stderr",
     "output_type": "stream",
     "text": [
      "/usr/local/lib/python3.5/site-packages/ipykernel/__main__.py:5: RuntimeWarning: invalid value encountered in true_divide\n"
     ]
    },
    {
     "data": {
      "image/png": "[encoded data removed]",
      "text/plain": [
       "<matplotlib.figure.Figure at 0x110582ba8>"
      ]
     },
     "metadata": {},
     "output_type": "display_data"
    }
   ],
   "source": [
    "plot_variances(1)"
   ]
  },
  {
   "cell_type": "code",
   "execution_count": 28,
   "metadata": {
    "collapsed": false
   },
   "outputs": [
    {
     "name": "stderr",
     "output_type": "stream",
     "text": [
      "/usr/local/lib/python3.5/site-packages/ipykernel/__main__.py:5: RuntimeWarning: invalid value encountered in true_divide\n"
     ]
    },
    {
     "data": {
      "image/png": "[encoded data removed]",
      "text/plain": [
       "<matplotlib.figure.Figure at 0x111d24048>"
      ]
     },
     "metadata": {},
     "output_type": "display_data"
    }
   ],
   "source": [
    "plot_variances(2)"
   ]
  },
  {
   "cell_type": "markdown",
   "metadata": {
    "collapsed": false
   },
   "source": [
    "The most significant things, that changes between models are execution time and variance. Regarding the variance, the maximum difference was obtained with the following conditions: p(c|ab). The difference betwen models in variance was about 0.885. The difference for conditions p(c|a), p(c|b), p(c) are very close from 0.83 up to 0.88."
   ]
  }
 ],
 "metadata": {
  "kernelspec": {
   "display_name": "Python 3",
   "language": "python",
   "name": "python3"
  },
  "language_info": {
   "codemirror_mode": {
    "name": "ipython",
    "version": 3
   },
   "file_extension": ".py",
   "mimetype": "text/x-python",
   "name": "python",
   "nbconvert_exporter": "python",
   "pygments_lexer": "ipython3",
   "version": "3.5.0"
  }
 },
 "nbformat": 4,
 "nbformat_minor": 0
}
