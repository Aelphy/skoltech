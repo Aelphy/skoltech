{
 "cells": [
  {
   "cell_type": "markdown",
   "metadata": {},
   "source": [
    "# Theano, Lasagne\n",
    "and why they matter\n",
    "\n",
    "\n",
    "### got no lasagne?\n",
    "Install the __bleeding edge__ version from here: http://lasagne.readthedocs.org/en/latest/user/installation.html"
   ]
  },
  {
   "cell_type": "markdown",
   "metadata": {},
   "source": [
    "# Warming up\n",
    "* Implement a function that computes the sum of squares of numbers from 0 to N\n",
    "* Use numpy or python\n",
    "* An array of numbers 0 to N - numpy.arange(N)"
   ]
  },
  {
   "cell_type": "code",
   "execution_count": 1,
   "metadata": {
    "collapsed": false
   },
   "outputs": [],
   "source": [
    "import numpy as np\n",
    "\n",
    "def sum_squares(N):\n",
    "    return (np.arange(N)**2).sum()"
   ]
  },
  {
   "cell_type": "code",
   "execution_count": 2,
   "metadata": {
    "collapsed": false
   },
   "outputs": [
    {
     "name": "stdout",
     "output_type": "stream",
     "text": [
      "CPU times: user 248 ms, sys: 116 ms, total: 364 ms\n",
      "Wall time: 365 ms\n"
     ]
    },
    {
     "data": {
      "text/plain": [
       "662921401752298880"
      ]
     },
     "execution_count": 2,
     "metadata": {},
     "output_type": "execute_result"
    }
   ],
   "source": [
    "%%time\n",
    "sum_squares(10**8)"
   ]
  },
  {
   "cell_type": "markdown",
   "metadata": {},
   "source": [
    "# theano teaser\n",
    "\n",
    "Doing the very same thing"
   ]
  },
  {
   "cell_type": "code",
   "execution_count": 3,
   "metadata": {
    "collapsed": false
   },
   "outputs": [
    {
     "name": "stderr",
     "output_type": "stream",
     "text": [
      "Using gpu device 0: GeForce GTX 765M (CNMeM is disabled, CuDNN 3007)\n"
     ]
    }
   ],
   "source": [
    "import theano\n",
    "import theano.tensor as T"
   ]
  },
  {
   "cell_type": "code",
   "execution_count": 4,
   "metadata": {
    "collapsed": false
   },
   "outputs": [],
   "source": [
    "#I gonna be function parameter\n",
    "N = T.scalar(\"a dimension\", dtype='int32')\n",
    "\n",
    "#i am a recipe on how to produce sum of squares of arange of N given N\n",
    "result = (T.arange(N)**2).sum()\n",
    "\n",
    "#Compiling the recipe of computing \"result\" given N\n",
    "sum_function = theano.function(inputs = [N],outputs=result)"
   ]
  },
  {
   "cell_type": "code",
   "execution_count": 5,
   "metadata": {
    "collapsed": false
   },
   "outputs": [
    {
     "name": "stdout",
     "output_type": "stream",
     "text": [
      "CPU times: user 252 ms, sys: 84 ms, total: 336 ms\n",
      "Wall time: 336 ms\n"
     ]
    },
    {
     "data": {
      "text/plain": [
       "array(662921401752298880)"
      ]
     },
     "execution_count": 5,
     "metadata": {},
     "output_type": "execute_result"
    }
   ],
   "source": [
    "%%time\n",
    "sum_function(10**8)"
   ]
  },
  {
   "cell_type": "markdown",
   "metadata": {},
   "source": [
    "# How does it work?\n",
    "* 1 You define inputs f your future function;\n",
    "* 2 You write a recipe for some transformation of inputs;\n",
    "* 3 You compile it;\n",
    "* You have just got a function!\n",
    "* The gobbledegooky version: you define a function as symbolic computation graph.\n",
    "\n",
    "\n",
    "* There are two main kinвs of entities: \"Inputs\" and \"Transformations\"\n",
    "* Both can be numbers, vectors, matrices, tensors, etc.\n",
    "* Both can be integers, floats of booleans (uint8) of various size.\n",
    "\n",
    "\n",
    "* An input is a placeholder for function parameters.\n",
    " * N from example above\n",
    "\n",
    "\n",
    "* Transformations are the recipes for computing something given inputs and transformation\n",
    " * (T.arange(N)^2).sum() are 3 sequential transformations of N\n",
    " * Doubles all functions of numpy vector syntax\n",
    " * You can almost always go with replacing \"np.function\" with \"T.function\" aka \"theano.tensor.function\"\n",
    "   * np.mean -> T.mean\n",
    "   * np.arange -> T.arange\n",
    "   * np.cumsum -> T.cumsum\n",
    "   * and so on.\n",
    "   * builtin operations also work that way\n",
    "   * np.arange(10).mean() -> T.arange(10).mean()\n",
    "   * Once upon a blue moon the functions have different names or locations (e.g. T.extra_ops)\n",
    "     * Ask us or google it\n",
    " \n",
    " \n",
    "Still confused? We gonna fix that."
   ]
  },
  {
   "cell_type": "code",
   "execution_count": 6,
   "metadata": {
    "collapsed": false
   },
   "outputs": [],
   "source": [
    "#Inputs\n",
    "example_input_integer = T.scalar(\"scalar input\", dtype='float32')\n",
    "\n",
    "example_input_tensor = T.tensor4(\"four dimensional tensor input\") #dtype = theano.config.floatX by default\n",
    "#не бойся, тензор нам не пригодится\n",
    "\n",
    "input_vector = T.vector(\"\", dtype='int32') # vector of integers"
   ]
  },
  {
   "cell_type": "code",
   "execution_count": 7,
   "metadata": {
    "collapsed": false
   },
   "outputs": [],
   "source": [
    "#Transformations\n",
    "\n",
    "#transofrmation: elementwise multiplication\n",
    "double_the_vector = input_vector*2\n",
    "\n",
    "#elementwise cosine\n",
    "elementwise_cosine = T.cos(input_vector)\n",
    "\n",
    "#difference between squared vector and vector itself\n",
    "vector_squares = input_vector**2 - input_vector"
   ]
  },
  {
   "cell_type": "code",
   "execution_count": 8,
   "metadata": {
    "collapsed": false
   },
   "outputs": [],
   "source": [
    "#Practice time:\n",
    "#create two vectors of size float32\n",
    "my_vector = T.vector(\"scalar input\", dtype='float32')\n",
    "my_vector2 = T.vector(\"scalar input\", dtype='float32')"
   ]
  },
  {
   "cell_type": "code",
   "execution_count": 9,
   "metadata": {
    "collapsed": false
   },
   "outputs": [],
   "source": [
    "#Write a transformation(recipe):\n",
    "#(vec1)*(vec2) / (sin(vec1) +1)\n",
    "my_transformation = my_vector * my_vector2 / (T.sin(my_vector) + 1)"
   ]
  },
  {
   "cell_type": "code",
   "execution_count": 10,
   "metadata": {
    "collapsed": false
   },
   "outputs": [
    {
     "name": "stdout",
     "output_type": "stream",
     "text": [
      "Elemwise{true_div,no_inplace}.0\n"
     ]
    }
   ],
   "source": [
    "print(my_transformation)\n",
    "#it's okay it aint a number"
   ]
  },
  {
   "cell_type": "markdown",
   "metadata": {},
   "source": [
    "# Compiling\n",
    "* So far we were using \"symbolic\" variables and transformations\n",
    " * Defining the recipe for computation, but not computing anything\n",
    "* To use the recipe, one should compile it"
   ]
  },
  {
   "cell_type": "code",
   "execution_count": 11,
   "metadata": {
    "collapsed": false
   },
   "outputs": [],
   "source": [
    "inputs = [my_vector, my_vector2]\n",
    "outputs = [my_transformation]\n",
    "\n",
    "# The next lines compile a function that takes two vectors and computes your transformation\n",
    "my_function = theano.function(\n",
    "    inputs,\n",
    "    outputs,\n",
    "    allow_input_downcast=True #automatic type casting for input parameters (e.g. float64 -> float32)\n",
    ")"
   ]
  },
  {
   "cell_type": "code",
   "execution_count": 12,
   "metadata": {
    "collapsed": false
   },
   "outputs": [
    {
     "name": "stdout",
     "output_type": "stream",
     "text": [
      "using python lists:\n",
      "[array([  2.1721766 ,   5.23752832,  15.77397728], dtype=float32)]\n",
      "\n",
      "using numpy arrays:\n",
      "[array([   0.        ,    2.77555895,    5.47030783,   14.02131271,\n",
      "         89.5477066 ,  676.25805664,   47.183918  ,   24.4084301 ,\n",
      "         23.68156242,   38.24041748], dtype=float32)]\n"
     ]
    }
   ],
   "source": [
    "#using function with, lists:\n",
    "print(\"using python lists:\")\n",
    "print(my_function([1,2,3],[4,5,6]))\n",
    "print()\n",
    "\n",
    "#Or using numpy arrays:\n",
    "#btw, that 'float' dtype is casted to secong parameter dtype which is float32\n",
    "print(\"using numpy arrays:\")\n",
    "print(my_function(np.arange(10),\n",
    "                  np.linspace(5,6,10,dtype='float')))\n"
   ]
  },
  {
   "cell_type": "markdown",
   "metadata": {},
   "source": [
    "# Debugging\n",
    "* Compilation can take a while for big functions\n",
    "* To avoid waiting, one can evaluate transformations without compiling\n",
    "* Without compilation, the code runs slower, so consider reducing input size\n"
   ]
  },
  {
   "cell_type": "code",
   "execution_count": 13,
   "metadata": {
    "collapsed": false
   },
   "outputs": [
    {
     "name": "stdout",
     "output_type": "stream",
     "text": [
      "[  2.1721766    5.23752832  15.77397728]\n",
      "add 2 vectors [ 5.  7.  9.]\n",
      "vector's shape: [3]\n"
     ]
    }
   ],
   "source": [
    "#a dictionary of inputs\n",
    "my_function_inputs = {\n",
    "    my_vector:[1,2,3],\n",
    "    my_vector2:[4,5,6]\n",
    "}\n",
    "\n",
    "# evaluate my_transformation\n",
    "# has to match with compiled function output\n",
    "print(my_transformation.eval(my_function_inputs))\n",
    "\n",
    "# can compute transformations on the fly\n",
    "print(\"add 2 vectors\", (my_vector + my_vector2).eval(my_function_inputs))\n",
    "\n",
    "#!WARNING! if your transformation only depends on some inputs,\n",
    "#do not provide the rest of them\n",
    "print(\"vector's shape:\", my_vector.shape.eval({\n",
    "        my_vector:[1,2,3]\n",
    "    }))"
   ]
  },
  {
   "cell_type": "markdown",
   "metadata": {},
   "source": [
    "* Для отладки желательно уменьшить масштаб задачи. Если вы планировали послать на вход вектор из 10^9 примеров, пошлите 10~100.\n",
    "* Если #ОЧЕНЬ нужно послать большой вектор, быстрее скомпилировать функцию обычным способом"
   ]
  },
  {
   "cell_type": "markdown",
   "metadata": {},
   "source": [
    "# Теперь сам"
   ]
  },
  {
   "cell_type": "code",
   "execution_count": 14,
   "metadata": {
    "collapsed": false
   },
   "outputs": [],
   "source": [
    "# Quest #1 - implement a function that computes a mean squared error of two input vectors\n",
    "# Your function has to take 2 vectors and return a single number\n",
    "\n",
    "v1 = T.vector(dtype='float32')\n",
    "v2 = T.vector(dtype='float32')\n",
    "\n",
    "mse = ((v1 - v2)**2).sum() / v1.shape[0]\n",
    "\n",
    "inputs = [v1, v2]\n",
    "\n",
    "outputs = [mse]\n",
    "\n",
    "compute_mse = theano.function(\n",
    "    inputs,\n",
    "    outputs,\n",
    "    allow_input_downcast=True\n",
    ")"
   ]
  },
  {
   "cell_type": "code",
   "execution_count": 15,
   "metadata": {
    "collapsed": false
   },
   "outputs": [
    {
     "name": "stdout",
     "output_type": "stream",
     "text": [
      "All tests passed\n"
     ]
    }
   ],
   "source": [
    "# Tests\n",
    "from sklearn.metrics import mean_squared_error\n",
    "\n",
    "for n in [1, 5, 10, 10**3]:\n",
    "    elems = [np.arange(n),\n",
    "             np.arange(n, 0, -1),\n",
    "             np.zeros(n),\n",
    "             np.ones(n),\n",
    "             np.random.random(n),\n",
    "             np.random.randint(100, size=n)]\n",
    "    \n",
    "    for el in elems:\n",
    "        for el_2 in elems:\n",
    "            true_mse = np.array(mean_squared_error(el, el_2))\n",
    "            my_mse = compute_mse(el, el_2)\n",
    "            \n",
    "            if not np.allclose(true_mse, my_mse):\n",
    "                print('Wrong result:')\n",
    "                print('mse(%s,%s)'%(el, el_2))\n",
    "                print('should be: {0}, but your function returned {1}'.format(true_mse, my_mse))\n",
    "                raise ValueError('Что-то не так')\n",
    "\n",
    "print('All tests passed')"
   ]
  },
  {
   "cell_type": "markdown",
   "metadata": {},
   "source": [
    "# Shared variables\n",
    "\n",
    "* The inputs and transformations only exist when function is called\n",
    "\n",
    "* Shared variables always stay in memory like global variables\n",
    " * Shared variables can be included into a symbolic graph\n",
    " * They can be set and evaluated using special methods\n",
    "   * but they can't change value arbitrarily during symbolic graph computation\n",
    "   * we'll cover that later;\n",
    " \n",
    " \n",
    "* Hint: such variables are a perfect place to store network parameters\n",
    " * e.g. weights or some metadata"
   ]
  },
  {
   "cell_type": "code",
   "execution_count": 16,
   "metadata": {
    "collapsed": false
   },
   "outputs": [],
   "source": [
    "#creating shared variable\n",
    "shared_vector_1 = theano.shared(np.ones(10, dtype='float64'))"
   ]
  },
  {
   "cell_type": "code",
   "execution_count": 17,
   "metadata": {
    "collapsed": false
   },
   "outputs": [
    {
     "name": "stdout",
     "output_type": "stream",
     "text": [
      "initial value [ 1.  1.  1.  1.  1.  1.  1.  1.  1.  1.]\n"
     ]
    }
   ],
   "source": [
    "#evaluating shared variable (outside symbolicd graph)\n",
    "print('initial value', shared_vector_1.get_value())\n",
    "\n",
    "# within symbolic graph you use them just as any other inout or transformation, not \"get value\" needed"
   ]
  },
  {
   "cell_type": "code",
   "execution_count": 18,
   "metadata": {
    "collapsed": false
   },
   "outputs": [
    {
     "name": "stdout",
     "output_type": "stream",
     "text": [
      "new value [ 0.  1.  2.  3.  4.]\n"
     ]
    }
   ],
   "source": [
    "#setting new value\n",
    "shared_vector_1.set_value( np.arange(5) )\n",
    "\n",
    "#getting that new value\n",
    "print('new value', shared_vector_1.get_value())\n",
    "\n",
    "#Note that the vector changed shape\n",
    "#This is entirely allowed... unless your graph is hard-wired to work with some fixed shape"
   ]
  },
  {
   "cell_type": "markdown",
   "metadata": {},
   "source": [
    "# Your turn"
   ]
  },
  {
   "cell_type": "code",
   "execution_count": 19,
   "metadata": {
    "collapsed": true
   },
   "outputs": [],
   "source": [
    "# Write a recipe (transformation) that computes an elementwise transformation of shared_vector and input_scalar\n",
    "#Compile as a function of input_scalar\n",
    "\n",
    "input_scalar = T.scalar('coefficient', dtype='float32')\n",
    "\n",
    "scalar_times_shared = input_scalar * shared_vector_1\n",
    "\n",
    "inputs = [input_scalar]\n",
    "outputs = [scalar_times_shared]\n",
    "\n",
    "shared_times_n = theano.function(\n",
    "    inputs,\n",
    "    outputs,\n",
    "    allow_input_downcast=True\n",
    ")"
   ]
  },
  {
   "cell_type": "code",
   "execution_count": 20,
   "metadata": {
    "collapsed": false
   },
   "outputs": [
    {
     "name": "stdout",
     "output_type": "stream",
     "text": [
      "shared: [ 0.  1.  2.  3.  4.]\n",
      "shared_times_n(5) [array([  0.,   5.,  10.,  15.,  20.])]\n",
      "shared_times_n(-0.5) [array([-0. , -0.5, -1. , -1.5, -2. ])]\n"
     ]
    }
   ],
   "source": [
    "print(\"shared:\", shared_vector_1.get_value())\n",
    "\n",
    "print(\"shared_times_n(5)\", shared_times_n(5))\n",
    "\n",
    "print(\"shared_times_n(-0.5)\", shared_times_n(-0.5))"
   ]
  },
  {
   "cell_type": "code",
   "execution_count": 21,
   "metadata": {
    "collapsed": false
   },
   "outputs": [
    {
     "name": "stdout",
     "output_type": "stream",
     "text": [
      "shared: [-1.  0.  1.]\n",
      "shared_times_n(5) [array([-5.,  0.,  5.])]\n",
      "shared_times_n(-0.5) [array([ 0.5, -0. , -0.5])]\n"
     ]
    }
   ],
   "source": [
    "#Changing value of vector 1 (output should change)\n",
    "shared_vector_1.set_value([-1,0,1])\n",
    "\n",
    "print(\"shared:\", shared_vector_1.get_value())\n",
    "\n",
    "print(\"shared_times_n(5)\",shared_times_n(5))\n",
    "\n",
    "print(\"shared_times_n(-0.5)\",shared_times_n(-0.5))"
   ]
  },
  {
   "cell_type": "markdown",
   "metadata": {},
   "source": [
    "# T.grad - why theano matters\n",
    "* Theano can compute derivatives and gradients automatically\n",
    "* Derivatives are computed symbolically, not numerically\n",
    "\n",
    "Limitations:\n",
    "* You can only compute a gradient of a __scalar__ transformation over one or several scalar or vector (or tensor) transformations or inputs.\n",
    "* A transformation has to have float32 or float64 dtype throughout the whole computation graph\n",
    " * derivative over an integer has no mathematical sense\n"
   ]
  },
  {
   "cell_type": "code",
   "execution_count": 22,
   "metadata": {
    "collapsed": false
   },
   "outputs": [],
   "source": [
    "my_scalar = T.scalar(name='input',dtype='float64')\n",
    "\n",
    "scalar_squared = T.sum(my_scalar**2)\n",
    "\n",
    "#a derivative of v_squared by my_vector\n",
    "derivative = T.grad(scalar_squared, my_scalar)\n",
    "\n",
    "fun = theano.function([my_scalar],scalar_squared)\n",
    "grad = theano.function([my_scalar],derivative) "
   ]
  },
  {
   "cell_type": "code",
   "execution_count": 23,
   "metadata": {
    "collapsed": false
   },
   "outputs": [
    {
     "data": {
      "text/plain": [
       "<matplotlib.legend.Legend at 0x7fe8422b6208>"
      ]
     },
     "execution_count": 23,
     "metadata": {},
     "output_type": "execute_result"
    },
    {
     "data": {
      "image/png": "[encoded data removed]",
      "text/plain": [
       "<matplotlib.figure.Figure at 0x7fe8473753c8>"
      ]
     },
     "metadata": {},
     "output_type": "display_data"
    }
   ],
   "source": [
    "import matplotlib.pyplot as plt\n",
    "import matplotlib\n",
    "\n",
    "%matplotlib inline\n",
    "\n",
    "matplotlib.style.use('ggplot')\n",
    "\n",
    "x = np.linspace(-3,3)\n",
    "x_squared = list(map(fun, x))\n",
    "x_squared_der = list(map(grad, x))\n",
    "\n",
    "plt.plot(x, x_squared,label=\"x^2\")\n",
    "plt.plot(x, x_squared_der, label=\"derivative\")\n",
    "plt.legend()"
   ]
  },
  {
   "cell_type": "markdown",
   "metadata": {},
   "source": [
    "# Why that rocks"
   ]
  },
  {
   "cell_type": "code",
   "execution_count": 25,
   "metadata": {
    "collapsed": false
   },
   "outputs": [],
   "source": [
    "my_vector = T.vector('float64')\n",
    "\n",
    "#Compute the gradient of the next weird function over my_scalar and my_vector\n",
    "#warning! Trying to understand the meaning of that function may result in permanent brain damage\n",
    "\n",
    "weird_psychotic_function = ((my_vector+my_scalar)**(1+T.var(my_vector)) +1./T.arcsinh(my_scalar)).mean()/(my_scalar**2 +1) + 0.01*T.sin(2*my_scalar**1.5)*(T.sum(my_vector)* my_scalar**2)*T.exp((my_scalar-4)**2)/(1+T.exp((my_scalar-4)**2))*(1.-(T.exp(-(my_scalar-4)**2))/(1+T.exp(-(my_scalar-4)**2)))**2\n",
    "\n",
    "\n",
    "der_by_scalar, der_by_vector = T.grad(weird_psychotic_function, my_scalar), T.grad(weird_psychotic_function, my_vector)\n",
    "\n",
    "\n",
    "compute_weird_function = theano.function([my_scalar,my_vector],weird_psychotic_function)\n",
    "compute_der_by_scalar = theano.function([my_scalar,my_vector],der_by_scalar)"
   ]
  },
  {
   "cell_type": "code",
   "execution_count": 26,
   "metadata": {
    "collapsed": false
   },
   "outputs": [
    {
     "data": {
      "text/plain": [
       "<matplotlib.legend.Legend at 0x7f3d39b50400>"
      ]
     },
     "execution_count": 26,
     "metadata": {},
     "output_type": "execute_result"
    },
    {
     "data": {
      "image/png": "[encoded data removed]",
      "text/plain": [
       "<matplotlib.figure.Figure at 0x7f3d59cb4b38>"
      ]
     },
     "metadata": {},
     "output_type": "display_data"
    }
   ],
   "source": [
    "#Plotting your derivative\n",
    "vector_0 = [1,2,3]\n",
    "\n",
    "scalar_space = np.linspace(0,7)\n",
    "\n",
    "y = [compute_weird_function(x,vector_0) for x in scalar_space]\n",
    "plt.plot(scalar_space,y,label='function')\n",
    "y_der_by_scalar = [compute_der_by_scalar(x,vector_0) for x in scalar_space]\n",
    "plt.plot(scalar_space,y_der_by_scalar, label='derivative')\n",
    "plt.grid()\n",
    "plt.legend(loc='best')"
   ]
  },
  {
   "cell_type": "markdown",
   "metadata": {},
   "source": [
    "# Almost done - Updates\n",
    "\n",
    "* updates are a way of changing shared variables at after function call.\n",
    "\n",
    "* technically it's a dictionary {shared_variable : a recipe for new value} which is has to be provided when function is compiled\n",
    "\n",
    "That's how it works:"
   ]
  },
  {
   "cell_type": "code",
   "execution_count": 27,
   "metadata": {
    "collapsed": false
   },
   "outputs": [],
   "source": [
    "# Multiply shared vector by a number and save the product back into shared vector\n",
    "\n",
    "inputs = [input_scalar]\n",
    "outputs = [scalar_times_shared] #return vector times scalar\n",
    "\n",
    "my_updates = {\n",
    "    shared_vector_1:scalar_times_shared #and write this same result bach into shared_vector_1\n",
    "}\n",
    "\n",
    "compute_and_save = theano.function(inputs, outputs, updates=my_updates)"
   ]
  },
  {
   "cell_type": "code",
   "execution_count": 28,
   "metadata": {
    "collapsed": false
   },
   "outputs": [
    {
     "name": "stdout",
     "output_type": "stream",
     "text": [
      "initial shared value: [ 0.  1.  2.  3.  4.]\n",
      "compute_and_save(2) returns [array([ 0.,  2.,  4.,  6.,  8.])]\n",
      "new shared value: [ 0.  2.  4.  6.  8.]\n"
     ]
    }
   ],
   "source": [
    "shared_vector_1.set_value(np.arange(5))\n",
    "\n",
    "#initial shared_vector_1\n",
    "print(\"initial shared value:\" ,shared_vector_1.get_value())\n",
    "\n",
    "# evaluating the function (shared_vector_1 will be changed)\n",
    "print(\"compute_and_save(2) returns\",compute_and_save(2))\n",
    "\n",
    "#evaluate new shared_vector_1\n",
    "print(\"new shared value:\" ,shared_vector_1.get_value())"
   ]
  },
  {
   "cell_type": "markdown",
   "metadata": {},
   "source": [
    "# Logistic regression example\n",
    "\n",
    "Implement the regular logistic regression training algorithm\n",
    "\n",
    "Tips:\n",
    "* Weights fit in as a shared variable\n",
    "* X and y are potential inputs\n",
    "* Compile 2 functions:\n",
    " * train_function(X,y) - returns error and computes weights' new values __(through updates)__\n",
    " * predict_fun(X) - just computes probabilities (\"y\") given data\n",
    " \n",
    " \n",
    "We shall train on a two-class MNIST dataset\n",
    "* please note that target y are {0,1} and not {-1,1} as in some formulae"
   ]
  },
  {
   "cell_type": "code",
   "execution_count": 10,
   "metadata": {
    "collapsed": false
   },
   "outputs": [
    {
     "name": "stdout",
     "output_type": "stream",
     "text": [
      "y [shape - (360,)]: [0 1 0 1 0 1 0 0 1 1]\n",
      "X [shape - (360, 64)]:\n",
      "[[  0.   0.   5.  13.   9.   1.   0.   0.   0.   0.  13.  15.  10.  15.\n",
      "    5.   0.   0.   3.  15.   2.   0.  11.   8.   0.   0.   4.  12.   0.\n",
      "    0.   8.   8.   0.   0.   5.   8.   0.   0.   9.   8.   0.   0.   4.\n",
      "   11.   0.   1.  12.   7.   0.   0.   2.  14.   5.  10.  12.   0.   0.\n",
      "    0.   0.   6.  13.  10.   0.   0.   0.]\n",
      " [  0.   0.   0.  12.  13.   5.   0.   0.   0.   0.   0.  11.  16.   9.\n",
      "    0.   0.   0.   0.   3.  15.  16.   6.   0.   0.   0.   7.  15.  16.\n",
      "   16.   2.   0.   0.   0.   0.   1.  16.  16.   3.   0.   0.   0.   0.\n",
      "    1.  16.  16.   6.   0.   0.   0.   0.   1.  16.  16.   6.   0.   0.\n",
      "    0.   0.   0.  11.  16.  10.   0.   0.]\n",
      " [  0.   0.   1.   9.  15.  11.   0.   0.   0.   0.  11.  16.   8.  14.\n",
      "    6.   0.   0.   2.  16.  10.   0.   9.   9.   0.   0.   1.  16.   4.\n",
      "    0.   8.   8.   0.   0.   4.  16.   4.   0.   8.   8.   0.   0.   1.\n",
      "   16.   5.   1.  11.   3.   0.   0.   0.  12.  12.  10.  10.   0.   0.\n",
      "    0.   0.   1.  10.  13.   3.   0.   0.]]\n",
      "[0 1 0 1 0 1 0 0 1 1]\n"
     ]
    }
   ],
   "source": [
    "from sklearn.datasets import load_digits\n",
    "mnist = load_digits(2)\n",
    "\n",
    "X,y = mnist.data, mnist.target\n",
    "\n",
    "print(\"y [shape - %s]:\"%(str(y.shape)), y[:10])\n",
    "print(\"X [shape - %s]:\"%(str(X.shape)))\n",
    "print(X[:3])\n",
    "print(y[:10])"
   ]
  },
  {
   "cell_type": "code",
   "execution_count": 14,
   "metadata": {
    "collapsed": false
   },
   "outputs": [],
   "source": [
    "# inputs and shareds\n",
    "shared_weights = theano.shared(np.ones(X.shape[1], dtype='float64'))\n",
    "input_X = T.matrix('X', dtype='float64')\n",
    "input_y = T.vector('y', dtype='float64')"
   ]
  },
  {
   "cell_type": "code",
   "execution_count": 19,
   "metadata": {
    "collapsed": false
   },
   "outputs": [],
   "source": [
    "predicted_y = T.nnet.sigmoid(input_X.dot(shared_weights)).T\n",
    "loss = T.mean(T.log(1 + T.exp(- 4 * (input_y - 0.5) * (input_X.dot(shared_weights) - 0.5))))\n",
    "\n",
    "grad = T.grad(loss, shared_weights)\n",
    "learning_rate = 0.1\n",
    "\n",
    "updates = {\n",
    "    shared_weights: shared_weights - learning_rate * grad\n",
    "}"
   ]
  },
  {
   "cell_type": "code",
   "execution_count": 22,
   "metadata": {
    "collapsed": false
   },
   "outputs": [],
   "source": [
    "train_function = predict_function = theano.function(\n",
    "    inputs=[input_X, input_y],\n",
    "    outputs=loss,\n",
    "    updates = updates\n",
    ")\n",
    "\n",
    "predict_function = theano.function(\n",
    "    [input_X],\n",
    "    predicted_y\n",
    ")"
   ]
  },
  {
   "cell_type": "code",
   "execution_count": 17,
   "metadata": {
    "collapsed": false
   },
   "outputs": [],
   "source": [
    "from sklearn.cross_validation import train_test_split\n",
    "\n",
    "X_train, X_test, y_train, y_test = train_test_split(X, y)"
   ]
  },
  {
   "cell_type": "code",
   "execution_count": 23,
   "metadata": {
    "collapsed": false
   },
   "outputs": [
    {
     "name": "stdout",
     "output_type": "stream",
     "text": [
      "loss at iter 0:318.0741\n",
      "train auc: 0.992647058824\n",
      "test auc: 1.0\n",
      "loss at iter 1:0.8086\n",
      "train auc: 1.0\n",
      "test auc: 1.0\n",
      "loss at iter 2:0.0490\n",
      "train auc: 1.0\n",
      "test auc: 1.0\n",
      "loss at iter 3:0.0275\n",
      "train auc: 1.0\n",
      "test auc: 1.0\n",
      "loss at iter 4:0.0076\n",
      "train auc: 1.0\n",
      "test auc: 1.0\n",
      "resulting weights:\n"
     ]
    },
    {
     "data": {
      "text/plain": [
       "<matplotlib.colorbar.Colorbar at 0x7f95815a1940>"
      ]
     },
     "execution_count": 23,
     "metadata": {},
     "output_type": "execute_result"
    },
    {
     "data": {
      "image/png": "[encoded data removed]",
      "text/plain": [
       "<matplotlib.figure.Figure at 0x7f953fb3f6d8>"
      ]
     },
     "metadata": {},
     "output_type": "display_data"
    }
   ],
   "source": [
    "from sklearn.metrics import roc_auc_score\n",
    "\n",
    "for i in range(5):\n",
    "    loss_i = train_function(X_train, y_train)\n",
    "    print(\"loss at iter %i:%.4f\"%(i, loss_i))\n",
    "    print(\"train auc:\", roc_auc_score(y_train, predict_function(X_train)))\n",
    "    print(\"test auc:\", roc_auc_score(y_test, predict_function(X_test)))\n",
    "    \n",
    "print(\"resulting weights:\")\n",
    "plt.imshow(shared_weights.get_value().reshape(8,-1))\n",
    "plt.colorbar()"
   ]
  },
  {
   "cell_type": "markdown",
   "metadata": {},
   "source": [
    "# lasagne\n",
    "* lasagne is a library for neural network building and training\n",
    "* it's a low-level library with almost seamless integration with theano\n",
    "\n",
    "For a demo we shall solve the same digit recognition problem, but at a different scale\n",
    "* images are now 28x28\n",
    "* 10 different digits\n",
    "* 50k samples"
   ]
  },
  {
   "cell_type": "code",
   "execution_count": 5,
   "metadata": {
    "collapsed": false
   },
   "outputs": [
    {
     "name": "stdout",
     "output_type": "stream",
     "text": [
      "(50000, 1, 28, 28) (50000,)\n"
     ]
    }
   ],
   "source": [
    "from mnist import load_dataset\n",
    "X_train,y_train,X_val,y_val,X_test,y_test = load_dataset()\n",
    "\n",
    "print(X_train.shape,y_train.shape)"
   ]
  },
  {
   "cell_type": "code",
   "execution_count": 4,
   "metadata": {
    "collapsed": false
   },
   "outputs": [],
   "source": [
    "import lasagne\n",
    "\n",
    "input_X = T.tensor4(\"X\")\n",
    "\n",
    "#input dimention (None means \"Arbitrary\" and only works at  the first axes [samples])\n",
    "input_shape = [None,1,28,28]\n",
    "\n",
    "target_y = T.vector(\"target Y integer\",dtype='int32')"
   ]
  },
  {
   "cell_type": "markdown",
   "metadata": {},
   "source": [
    "Defining network architecture"
   ]
  },
  {
   "cell_type": "code",
   "execution_count": 5,
   "metadata": {
    "collapsed": false
   },
   "outputs": [],
   "source": [
    "#Input layer (auxilary)\n",
    "input_layer = lasagne.layers.InputLayer(shape = input_shape,\n",
    "                                        input_var=input_X)\n",
    "\n",
    "#fully connected layer, that takes input layer and applies 50 neurons to it.\n",
    "# nonlinearity here is sigmoid as in logistic regression\n",
    "# you can give a name to each layer (optional)\n",
    "dense_1 = lasagne.layers.DenseLayer(input_layer,\n",
    "                                    num_units=50,\n",
    "                                    nonlinearity = lasagne.nonlinearities.sigmoid,\n",
    "                                    name = \"hidden_dense_layer\")\n",
    "\n",
    "#fully connected output layer that takes dense_1 as input and has 10 neurons (1 for each digit)\n",
    "#We use softmax nonlinearity to make probabilities add up to 1\n",
    "dense_output = lasagne.layers.DenseLayer(dense_1,\n",
    "                                         num_units = 10,\n",
    "                                         nonlinearity = lasagne.nonlinearities.softmax,\n",
    "                                         name='output')"
   ]
  },
  {
   "cell_type": "code",
   "execution_count": 6,
   "metadata": {
    "collapsed": false
   },
   "outputs": [],
   "source": [
    "#network prediction (theano-transformation)\n",
    "y_predicted = lasagne.layers.get_output(dense_output)"
   ]
  },
  {
   "cell_type": "code",
   "execution_count": 7,
   "metadata": {
    "collapsed": false
   },
   "outputs": [
    {
     "name": "stdout",
     "output_type": "stream",
     "text": [
      "[hidden_dense_layer.W, hidden_dense_layer.b, output.W, output.b]\n"
     ]
    }
   ],
   "source": [
    "#all network weights (shared variables)\n",
    "all_weights = lasagne.layers.get_all_params(dense_output)\n",
    "print(all_weights)"
   ]
  },
  {
   "cell_type": "markdown",
   "metadata": {},
   "source": [
    "### Than you could simply\n",
    "* define loss function manually\n",
    "* compute error gradient over all weights\n",
    "* define updates\n",
    "* But that's a whole lot of work and life's short\n",
    "  * not to mention life's too short to wait for SGD to converge\n",
    "\n",
    "Instead, we shall use Lasagne builtins"
   ]
  },
  {
   "cell_type": "code",
   "execution_count": 8,
   "metadata": {
    "collapsed": false
   },
   "outputs": [],
   "source": [
    "#Mean categorical crossentropy as a loss function - similar to logistic loss but for multiclass targets\n",
    "loss = lasagne.objectives.categorical_crossentropy(y_predicted,target_y).mean()\n",
    "\n",
    "#prediction accuracy\n",
    "accuracy = lasagne.objectives.categorical_accuracy(y_predicted,target_y).mean()\n",
    "\n",
    "#This function computes gradient AND composes weight updates just like you did earlier\n",
    "updates_sgd = lasagne.updates.sgd(loss, all_weights,learning_rate=0.01)"
   ]
  },
  {
   "cell_type": "code",
   "execution_count": 9,
   "metadata": {
    "collapsed": false
   },
   "outputs": [],
   "source": [
    "#function that computes loss and updates weights\n",
    "train_fun = theano.function([input_X,target_y],[loss,accuracy],updates= updates_sgd)\n",
    "\n",
    "#function that just computes accuracy\n",
    "accuracy_fun = theano.function([input_X,target_y],accuracy)"
   ]
  },
  {
   "cell_type": "markdown",
   "metadata": {},
   "source": [
    "### That's all, now let's train it!\n",
    "* We got a lot of data, so it's recommended that you use SGD\n",
    "* So let's implement a function that splits the training sample into minibatches"
   ]
  },
  {
   "cell_type": "code",
   "execution_count": 12,
   "metadata": {
    "collapsed": true
   },
   "outputs": [],
   "source": [
    "# An auxilary function that returns mini-batches for neural network training\n",
    "\n",
    "#Parameters\n",
    "# X - a tensor of images with shape (many, 1, 28, 28), e.g. X_train\n",
    "# y - a vector of answers for corresponding images e.g. Y_train\n",
    "#batch_size - a single number - the intended size of each batches\n",
    "\n",
    "#What do need to implement\n",
    "# 1) Shuffle data\n",
    "# - Gotta shuffle X and y the same way not to break the correspondence between X_i and y_i\n",
    "# 3) Split data into minibatches of batch_size\n",
    "# - If data size is not a multiple of batch_size, make one last batch smaller.\n",
    "# 4) return a list (or an iterator) of pairs\n",
    "# - (подгруппа картинок, ответы из y на эту подгруппу)\n",
    "def iterate_minibatches(X, y, batchsize):\n",
    "    for start_idx in range(0, len(X) - batchsize + 1, batchsize):\n",
    "        excerpt = slice(start_idx, start_idx + batchsize)\n",
    "\n",
    "        yield X[excerpt], y[excerpt]"
   ]
  },
  {
   "cell_type": "markdown",
   "metadata": {},
   "source": [
    "# Training loop"
   ]
  },
  {
   "cell_type": "code",
   "execution_count": 34,
   "metadata": {
    "collapsed": false,
    "scrolled": true
   },
   "outputs": [
    {
     "name": "stdout",
     "output_type": "stream",
     "text": [
      "Epoch 1 of 100 took 0.765s\n",
      "  training loss (in-iteration):\t\t1.875889\n",
      "  train accuracy:\t\t58.73 %\n",
      "  validation accuracy:\t\t75.75 %\n",
      "Epoch 2 of 100 took 0.720s\n",
      "  training loss (in-iteration):\t\t1.202107\n",
      "  train accuracy:\t\t77.30 %\n",
      "  validation accuracy:\t\t82.71 %\n",
      "Epoch 3 of 100 took 0.702s\n",
      "  training loss (in-iteration):\t\t0.870225\n",
      "  train accuracy:\t\t82.20 %\n",
      "  validation accuracy:\t\t85.61 %\n",
      "Epoch 4 of 100 took 1.099s\n",
      "  training loss (in-iteration):\t\t0.703184\n",
      "  train accuracy:\t\t84.52 %\n",
      "  validation accuracy:\t\t87.24 %\n",
      "Epoch 5 of 100 took 0.720s\n",
      "  training loss (in-iteration):\t\t0.605054\n",
      "  train accuracy:\t\t86.00 %\n",
      "  validation accuracy:\t\t88.16 %\n",
      "Epoch 6 of 100 took 1.026s\n",
      "  training loss (in-iteration):\t\t0.540995\n",
      "  train accuracy:\t\t87.02 %\n",
      "  validation accuracy:\t\t88.76 %\n",
      "Epoch 7 of 100 took 1.033s\n",
      "  training loss (in-iteration):\t\t0.496139\n",
      "  train accuracy:\t\t87.71 %\n",
      "  validation accuracy:\t\t89.12 %\n",
      "Epoch 8 of 100 took 0.894s\n",
      "  training loss (in-iteration):\t\t0.463067\n",
      "  train accuracy:\t\t88.25 %\n",
      "  validation accuracy:\t\t89.58 %\n",
      "Epoch 9 of 100 took 0.972s\n",
      "  training loss (in-iteration):\t\t0.437667\n",
      "  train accuracy:\t\t88.69 %\n",
      "  validation accuracy:\t\t89.81 %\n",
      "Epoch 10 of 100 took 0.721s\n",
      "  training loss (in-iteration):\t\t0.417495\n",
      "  train accuracy:\t\t89.02 %\n",
      "  validation accuracy:\t\t90.10 %\n",
      "Epoch 11 of 100 took 0.823s\n",
      "  training loss (in-iteration):\t\t0.401023\n",
      "  train accuracy:\t\t89.28 %\n",
      "  validation accuracy:\t\t90.41 %\n",
      "Epoch 12 of 100 took 1.005s\n",
      "  training loss (in-iteration):\t\t0.387254\n",
      "  train accuracy:\t\t89.54 %\n",
      "  validation accuracy:\t\t90.56 %\n",
      "Epoch 13 of 100 took 0.883s\n",
      "  training loss (in-iteration):\t\t0.375517\n",
      "  train accuracy:\t\t89.76 %\n",
      "  validation accuracy:\t\t90.77 %\n",
      "Epoch 14 of 100 took 0.748s\n",
      "  training loss (in-iteration):\t\t0.365343\n",
      "  train accuracy:\t\t89.96 %\n",
      "  validation accuracy:\t\t90.87 %\n",
      "Epoch 15 of 100 took 0.746s\n",
      "  training loss (in-iteration):\t\t0.356399\n",
      "  train accuracy:\t\t90.11 %\n",
      "  validation accuracy:\t\t91.01 %\n",
      "Epoch 16 of 100 took 0.794s\n",
      "  training loss (in-iteration):\t\t0.348439\n",
      "  train accuracy:\t\t90.27 %\n",
      "  validation accuracy:\t\t91.13 %\n",
      "Epoch 17 of 100 took 0.843s\n",
      "  training loss (in-iteration):\t\t0.341279\n",
      "  train accuracy:\t\t90.43 %\n",
      "  validation accuracy:\t\t91.27 %\n",
      "Epoch 18 of 100 took 0.764s\n",
      "  training loss (in-iteration):\t\t0.334778\n",
      "  train accuracy:\t\t90.60 %\n",
      "  validation accuracy:\t\t91.39 %\n",
      "Epoch 19 of 100 took 0.912s\n",
      "  training loss (in-iteration):\t\t0.328827\n",
      "  train accuracy:\t\t90.75 %\n",
      "  validation accuracy:\t\t91.47 %\n",
      "Epoch 20 of 100 took 0.990s\n",
      "  training loss (in-iteration):\t\t0.323341\n",
      "  train accuracy:\t\t90.92 %\n",
      "  validation accuracy:\t\t91.60 %\n",
      "Epoch 21 of 100 took 0.717s\n",
      "  training loss (in-iteration):\t\t0.318249\n",
      "  train accuracy:\t\t91.03 %\n",
      "  validation accuracy:\t\t91.66 %\n",
      "Epoch 22 of 100 took 0.718s\n",
      "  training loss (in-iteration):\t\t0.313496\n",
      "  train accuracy:\t\t91.15 %\n",
      "  validation accuracy:\t\t91.74 %\n",
      "Epoch 23 of 100 took 0.721s\n",
      "  training loss (in-iteration):\t\t0.309037\n",
      "  train accuracy:\t\t91.24 %\n",
      "  validation accuracy:\t\t91.84 %\n",
      "Epoch 24 of 100 took 0.719s\n",
      "  training loss (in-iteration):\t\t0.304833\n",
      "  train accuracy:\t\t91.35 %\n",
      "  validation accuracy:\t\t91.98 %\n",
      "Epoch 25 of 100 took 0.708s\n",
      "  training loss (in-iteration):\t\t0.300854\n",
      "  train accuracy:\t\t91.44 %\n",
      "  validation accuracy:\t\t92.06 %\n",
      "Epoch 26 of 100 took 1.493s\n",
      "  training loss (in-iteration):\t\t0.297074\n",
      "  train accuracy:\t\t91.56 %\n",
      "  validation accuracy:\t\t92.11 %\n",
      "Epoch 27 of 100 took 0.864s\n",
      "  training loss (in-iteration):\t\t0.293469\n",
      "  train accuracy:\t\t91.66 %\n",
      "  validation accuracy:\t\t92.20 %\n",
      "Epoch 28 of 100 took 1.565s\n",
      "  training loss (in-iteration):\t\t0.290021\n",
      "  train accuracy:\t\t91.76 %\n",
      "  validation accuracy:\t\t92.32 %\n",
      "Epoch 29 of 100 took 0.859s\n",
      "  training loss (in-iteration):\t\t0.286714\n",
      "  train accuracy:\t\t91.85 %\n",
      "  validation accuracy:\t\t92.40 %\n",
      "Epoch 30 of 100 took 0.834s\n",
      "  training loss (in-iteration):\t\t0.283534\n",
      "  train accuracy:\t\t91.93 %\n",
      "  validation accuracy:\t\t92.45 %\n",
      "Epoch 31 of 100 took 1.055s\n",
      "  training loss (in-iteration):\t\t0.280469\n",
      "  train accuracy:\t\t92.02 %\n",
      "  validation accuracy:\t\t92.51 %\n",
      "Epoch 32 of 100 took 1.171s\n",
      "  training loss (in-iteration):\t\t0.277510\n",
      "  train accuracy:\t\t92.10 %\n",
      "  validation accuracy:\t\t92.54 %\n",
      "Epoch 33 of 100 took 1.039s\n",
      "  training loss (in-iteration):\t\t0.274647\n",
      "  train accuracy:\t\t92.17 %\n",
      "  validation accuracy:\t\t92.59 %\n",
      "Epoch 34 of 100 took 0.725s\n",
      "  training loss (in-iteration):\t\t0.271872\n",
      "  train accuracy:\t\t92.24 %\n",
      "  validation accuracy:\t\t92.67 %\n",
      "Epoch 35 of 100 took 0.725s\n",
      "  training loss (in-iteration):\t\t0.269178\n",
      "  train accuracy:\t\t92.30 %\n",
      "  validation accuracy:\t\t92.73 %\n",
      "Epoch 36 of 100 took 0.709s\n",
      "  training loss (in-iteration):\t\t0.266560\n",
      "  train accuracy:\t\t92.36 %\n",
      "  validation accuracy:\t\t92.84 %\n",
      "Epoch 37 of 100 took 0.731s\n",
      "  training loss (in-iteration):\t\t0.264013\n",
      "  train accuracy:\t\t92.43 %\n",
      "  validation accuracy:\t\t92.87 %\n",
      "Epoch 38 of 100 took 0.991s\n",
      "  training loss (in-iteration):\t\t0.261532\n",
      "  train accuracy:\t\t92.51 %\n",
      "  validation accuracy:\t\t92.93 %\n",
      "Epoch 39 of 100 took 1.212s\n",
      "  training loss (in-iteration):\t\t0.259112\n",
      "  train accuracy:\t\t92.57 %\n",
      "  validation accuracy:\t\t92.99 %\n",
      "Epoch 40 of 100 took 1.151s\n",
      "  training loss (in-iteration):\t\t0.256751\n",
      "  train accuracy:\t\t92.64 %\n",
      "  validation accuracy:\t\t93.04 %\n",
      "Epoch 41 of 100 took 0.867s\n",
      "  training loss (in-iteration):\t\t0.254444\n",
      "  train accuracy:\t\t92.70 %\n",
      "  validation accuracy:\t\t93.08 %\n",
      "Epoch 42 of 100 took 0.733s\n",
      "  training loss (in-iteration):\t\t0.252190\n",
      "  train accuracy:\t\t92.77 %\n",
      "  validation accuracy:\t\t93.16 %\n",
      "Epoch 43 of 100 took 0.728s\n",
      "  training loss (in-iteration):\t\t0.249986\n",
      "  train accuracy:\t\t92.83 %\n",
      "  validation accuracy:\t\t93.22 %\n",
      "Epoch 44 of 100 took 1.019s\n",
      "  training loss (in-iteration):\t\t0.247829\n",
      "  train accuracy:\t\t92.88 %\n",
      "  validation accuracy:\t\t93.29 %\n",
      "Epoch 45 of 100 took 0.744s\n",
      "  training loss (in-iteration):\t\t0.245717\n",
      "  train accuracy:\t\t92.94 %\n",
      "  validation accuracy:\t\t93.33 %\n",
      "Epoch 46 of 100 took 1.064s\n",
      "  training loss (in-iteration):\t\t0.243649\n",
      "  train accuracy:\t\t92.98 %\n",
      "  validation accuracy:\t\t93.34 %\n",
      "Epoch 47 of 100 took 0.961s\n",
      "  training loss (in-iteration):\t\t0.241623\n",
      "  train accuracy:\t\t93.05 %\n",
      "  validation accuracy:\t\t93.39 %\n",
      "Epoch 48 of 100 took 0.854s\n",
      "  training loss (in-iteration):\t\t0.239638\n",
      "  train accuracy:\t\t93.12 %\n",
      "  validation accuracy:\t\t93.46 %\n",
      "Epoch 49 of 100 took 0.723s\n",
      "  training loss (in-iteration):\t\t0.237691\n",
      "  train accuracy:\t\t93.18 %\n",
      "  validation accuracy:\t\t93.56 %\n",
      "Epoch 50 of 100 took 0.733s\n",
      "  training loss (in-iteration):\t\t0.235782\n",
      "  train accuracy:\t\t93.24 %\n",
      "  validation accuracy:\t\t93.63 %\n",
      "Epoch 51 of 100 took 0.719s\n",
      "  training loss (in-iteration):\t\t0.233909\n",
      "  train accuracy:\t\t93.29 %\n",
      "  validation accuracy:\t\t93.70 %\n",
      "Epoch 52 of 100 took 1.312s\n",
      "  training loss (in-iteration):\t\t0.232072\n",
      "  train accuracy:\t\t93.36 %\n",
      "  validation accuracy:\t\t93.82 %\n",
      "Epoch 53 of 100 took 0.817s\n",
      "  training loss (in-iteration):\t\t0.230270\n",
      "  train accuracy:\t\t93.42 %\n",
      "  validation accuracy:\t\t93.90 %\n",
      "Epoch 54 of 100 took 0.706s\n",
      "  training loss (in-iteration):\t\t0.228501\n",
      "  train accuracy:\t\t93.45 %\n",
      "  validation accuracy:\t\t93.96 %\n",
      "Epoch 55 of 100 took 0.963s\n",
      "  training loss (in-iteration):\t\t0.226764\n",
      "  train accuracy:\t\t93.52 %\n",
      "  validation accuracy:\t\t94.00 %\n",
      "Epoch 56 of 100 took 2.526s\n",
      "  training loss (in-iteration):\t\t0.225059\n",
      "  train accuracy:\t\t93.58 %\n",
      "  validation accuracy:\t\t94.06 %\n",
      "Epoch 57 of 100 took 1.567s\n",
      "  training loss (in-iteration):\t\t0.223384\n",
      "  train accuracy:\t\t93.63 %\n",
      "  validation accuracy:\t\t94.09 %\n",
      "Epoch 58 of 100 took 1.231s\n",
      "  training loss (in-iteration):\t\t0.221740\n",
      "  train accuracy:\t\t93.67 %\n",
      "  validation accuracy:\t\t94.11 %\n",
      "Epoch 59 of 100 took 1.066s\n",
      "  training loss (in-iteration):\t\t0.220125\n",
      "  train accuracy:\t\t93.71 %\n",
      "  validation accuracy:\t\t94.14 %\n",
      "Epoch 60 of 100 took 1.283s\n",
      "  training loss (in-iteration):\t\t0.218538\n",
      "  train accuracy:\t\t93.74 %\n",
      "  validation accuracy:\t\t94.15 %\n",
      "Epoch 61 of 100 took 1.226s\n",
      "  training loss (in-iteration):\t\t0.216979\n",
      "  train accuracy:\t\t93.79 %\n",
      "  validation accuracy:\t\t94.22 %\n",
      "Epoch 62 of 100 took 1.463s\n",
      "  training loss (in-iteration):\t\t0.215446\n",
      "  train accuracy:\t\t93.82 %\n",
      "  validation accuracy:\t\t94.25 %\n",
      "Epoch 63 of 100 took 1.693s\n",
      "  training loss (in-iteration):\t\t0.213940\n",
      "  train accuracy:\t\t93.85 %\n",
      "  validation accuracy:\t\t94.29 %\n",
      "Epoch 64 of 100 took 1.727s\n",
      "  training loss (in-iteration):\t\t0.212460\n",
      "  train accuracy:\t\t93.91 %\n",
      "  validation accuracy:\t\t94.33 %\n",
      "Epoch 65 of 100 took 1.454s\n",
      "  training loss (in-iteration):\t\t0.211005\n",
      "  train accuracy:\t\t93.93 %\n",
      "  validation accuracy:\t\t94.34 %\n",
      "Epoch 66 of 100 took 1.724s\n",
      "  training loss (in-iteration):\t\t0.209574\n",
      "  train accuracy:\t\t93.97 %\n",
      "  validation accuracy:\t\t94.40 %\n",
      "Epoch 67 of 100 took 1.685s\n",
      "  training loss (in-iteration):\t\t0.208167\n",
      "  train accuracy:\t\t94.01 %\n",
      "  validation accuracy:\t\t94.43 %\n",
      "Epoch 68 of 100 took 2.450s\n",
      "  training loss (in-iteration):\t\t0.206783\n",
      "  train accuracy:\t\t94.04 %\n",
      "  validation accuracy:\t\t94.48 %\n",
      "Epoch 69 of 100 took 2.034s\n",
      "  training loss (in-iteration):\t\t0.205422\n",
      "  train accuracy:\t\t94.09 %\n",
      "  validation accuracy:\t\t94.53 %\n",
      "Epoch 70 of 100 took 1.568s\n",
      "  training loss (in-iteration):\t\t0.204082\n",
      "  train accuracy:\t\t94.13 %\n",
      "  validation accuracy:\t\t94.58 %\n",
      "Epoch 71 of 100 took 1.454s\n",
      "  training loss (in-iteration):\t\t0.202764\n",
      "  train accuracy:\t\t94.19 %\n",
      "  validation accuracy:\t\t94.62 %\n",
      "Epoch 72 of 100 took 1.772s\n",
      "  training loss (in-iteration):\t\t0.201468\n",
      "  train accuracy:\t\t94.22 %\n",
      "  validation accuracy:\t\t94.64 %\n",
      "Epoch 73 of 100 took 1.509s\n",
      "  training loss (in-iteration):\t\t0.200191\n",
      "  train accuracy:\t\t94.25 %\n",
      "  validation accuracy:\t\t94.67 %\n",
      "Epoch 74 of 100 took 1.516s\n",
      "  training loss (in-iteration):\t\t0.198935\n",
      "  train accuracy:\t\t94.29 %\n",
      "  validation accuracy:\t\t94.70 %\n",
      "Epoch 75 of 100 took 1.499s\n",
      "  training loss (in-iteration):\t\t0.197698\n",
      "  train accuracy:\t\t94.32 %\n",
      "  validation accuracy:\t\t94.76 %\n",
      "Epoch 76 of 100 took 1.574s\n",
      "  training loss (in-iteration):\t\t0.196480\n",
      "  train accuracy:\t\t94.36 %\n",
      "  validation accuracy:\t\t94.80 %\n",
      "Epoch 77 of 100 took 1.474s\n",
      "  training loss (in-iteration):\t\t0.195281\n",
      "  train accuracy:\t\t94.39 %\n",
      "  validation accuracy:\t\t94.81 %\n",
      "Epoch 78 of 100 took 1.700s\n",
      "  training loss (in-iteration):\t\t0.194100\n",
      "  train accuracy:\t\t94.42 %\n",
      "  validation accuracy:\t\t94.81 %\n",
      "Epoch 79 of 100 took 1.499s\n",
      "  training loss (in-iteration):\t\t0.192937\n",
      "  train accuracy:\t\t94.45 %\n",
      "  validation accuracy:\t\t94.86 %\n",
      "Epoch 80 of 100 took 1.451s\n",
      "  training loss (in-iteration):\t\t0.191791\n",
      "  train accuracy:\t\t94.48 %\n",
      "  validation accuracy:\t\t94.88 %\n",
      "Epoch 81 of 100 took 1.449s\n",
      "  training loss (in-iteration):\t\t0.190662\n",
      "  train accuracy:\t\t94.51 %\n",
      "  validation accuracy:\t\t94.87 %\n",
      "Epoch 82 of 100 took 1.441s\n",
      "  training loss (in-iteration):\t\t0.189549\n",
      "  train accuracy:\t\t94.54 %\n",
      "  validation accuracy:\t\t94.91 %\n",
      "Epoch 83 of 100 took 1.502s\n",
      "  training loss (in-iteration):\t\t0.188453\n",
      "  train accuracy:\t\t94.58 %\n",
      "  validation accuracy:\t\t94.96 %\n",
      "Epoch 84 of 100 took 2.169s\n",
      "  training loss (in-iteration):\t\t0.187372\n",
      "  train accuracy:\t\t94.62 %\n",
      "  validation accuracy:\t\t94.99 %\n",
      "Epoch 85 of 100 took 1.714s\n",
      "  training loss (in-iteration):\t\t0.186306\n",
      "  train accuracy:\t\t94.65 %\n",
      "  validation accuracy:\t\t95.02 %\n",
      "Epoch 86 of 100 took 1.340s\n",
      "  training loss (in-iteration):\t\t0.185256\n",
      "  train accuracy:\t\t94.68 %\n",
      "  validation accuracy:\t\t95.06 %\n",
      "Epoch 87 of 100 took 1.337s\n",
      "  training loss (in-iteration):\t\t0.184220\n",
      "  train accuracy:\t\t94.71 %\n",
      "  validation accuracy:\t\t95.11 %\n",
      "Epoch 88 of 100 took 1.325s\n",
      "  training loss (in-iteration):\t\t0.183199\n",
      "  train accuracy:\t\t94.74 %\n",
      "  validation accuracy:\t\t95.14 %\n",
      "Epoch 89 of 100 took 1.716s\n",
      "  training loss (in-iteration):\t\t0.182192\n",
      "  train accuracy:\t\t94.77 %\n",
      "  validation accuracy:\t\t95.17 %\n",
      "Epoch 90 of 100 took 1.505s\n",
      "  training loss (in-iteration):\t\t0.181199\n",
      "  train accuracy:\t\t94.81 %\n",
      "  validation accuracy:\t\t95.19 %\n",
      "Epoch 91 of 100 took 1.569s\n",
      "  training loss (in-iteration):\t\t0.180218\n",
      "  train accuracy:\t\t94.83 %\n",
      "  validation accuracy:\t\t95.21 %\n",
      "Epoch 92 of 100 took 1.476s\n",
      "  training loss (in-iteration):\t\t0.179252\n",
      "  train accuracy:\t\t94.86 %\n",
      "  validation accuracy:\t\t95.24 %\n",
      "Epoch 93 of 100 took 1.901s\n",
      "  training loss (in-iteration):\t\t0.178298\n",
      "  train accuracy:\t\t94.91 %\n",
      "  validation accuracy:\t\t95.29 %\n",
      "Epoch 94 of 100 took 1.592s\n",
      "  training loss (in-iteration):\t\t0.177356\n",
      "  train accuracy:\t\t94.94 %\n",
      "  validation accuracy:\t\t95.34 %\n",
      "Epoch 95 of 100 took 2.420s\n",
      "  training loss (in-iteration):\t\t0.176427\n",
      "  train accuracy:\t\t94.95 %\n",
      "  validation accuracy:\t\t95.33 %\n",
      "Epoch 96 of 100 took 2.139s\n",
      "  training loss (in-iteration):\t\t0.175510\n",
      "  train accuracy:\t\t94.98 %\n",
      "  validation accuracy:\t\t95.35 %\n",
      "Epoch 97 of 100 took 1.997s\n",
      "  training loss (in-iteration):\t\t0.174605\n",
      "  train accuracy:\t\t95.01 %\n",
      "  validation accuracy:\t\t95.35 %\n",
      "Epoch 98 of 100 took 1.597s\n",
      "  training loss (in-iteration):\t\t0.173711\n",
      "  train accuracy:\t\t95.05 %\n",
      "  validation accuracy:\t\t95.35 %\n",
      "Epoch 99 of 100 took 1.861s\n",
      "  training loss (in-iteration):\t\t0.172828\n",
      "  train accuracy:\t\t95.06 %\n",
      "  validation accuracy:\t\t95.37 %\n",
      "Epoch 100 of 100 took 1.941s\n",
      "  training loss (in-iteration):\t\t0.171957\n",
      "  train accuracy:\t\t95.08 %\n",
      "  validation accuracy:\t\t95.40 %\n"
     ]
    }
   ],
   "source": [
    "import time\n",
    "\n",
    "num_epochs = 100 #amount of passes through the data\n",
    "\n",
    "batch_size = 50 #number of samples processed at each function call\n",
    "\n",
    "for epoch in range(num_epochs):\n",
    "    # In each epoch, we do a full pass over the training data:\n",
    "    train_err = 0\n",
    "    train_acc = 0\n",
    "    train_batches = 0\n",
    "    start_time = time.time()\n",
    "    for batch in iterate_minibatches(X_train, y_train,batch_size):\n",
    "        inputs, targets = batch\n",
    "        train_err_batch, train_acc_batch= train_fun(inputs, targets)\n",
    "        train_err += train_err_batch\n",
    "        train_acc += train_acc_batch\n",
    "        train_batches += 1\n",
    "\n",
    "    # And a full pass over the validation data:\n",
    "    val_acc = 0\n",
    "    val_batches = 0\n",
    "    for batch in iterate_minibatches(X_val, y_val, batch_size):\n",
    "        inputs, targets = batch\n",
    "        val_acc += accuracy_fun(inputs, targets)\n",
    "        val_batches += 1\n",
    "\n",
    "    \n",
    "    # Then we print the results for this epoch:\n",
    "    print(\"Epoch {} of {} took {:.3f}s\".format(\n",
    "        epoch + 1, num_epochs, time.time() - start_time))\n",
    "\n",
    "    print(\"  training loss (in-iteration):\\t\\t{:.6f}\".format(train_err / train_batches))\n",
    "    print(\"  train accuracy:\\t\\t{:.2f} %\".format(\n",
    "        train_acc / train_batches * 100))\n",
    "    print(\"  validation accuracy:\\t\\t{:.2f} %\".format(\n",
    "        val_acc / val_batches * 100))"
   ]
  },
  {
   "cell_type": "code",
   "execution_count": 36,
   "metadata": {
    "collapsed": false
   },
   "outputs": [
    {
     "name": "stdout",
     "output_type": "stream",
     "text": [
      "Final results:\n",
      "  test accuracy:\t\t94.91 %\n",
      "We need more magic!\n"
     ]
    }
   ],
   "source": [
    "test_acc = 0\n",
    "test_batches = 0\n",
    "for batch in iterate_minibatches(X_test, y_test, 500):\n",
    "    inputs, targets = batch\n",
    "    acc = accuracy_fun(inputs, targets)\n",
    "    test_acc += acc\n",
    "    test_batches += 1\n",
    "print(\"Final results:\")\n",
    "print(\"  test accuracy:\\t\\t{:.2f} %\".format(\n",
    "    test_acc / test_batches * 100))\n",
    "\n",
    "if test_acc / test_batches * 100 > 99:\n",
    "    print(\"Achievement unlocked: 80lvl Warlock!\")\n",
    "else:\n",
    "    print(\"We need more magic!\")"
   ]
  },
  {
   "cell_type": "markdown",
   "metadata": {},
   "source": [
    "# A better network\n",
    "\n",
    "\n",
    "* The quest is to create a network that gets at least 99% at test set\n",
    " * In case you tried several architectures and have a __detailed__ report - 97.5% \"is fine too\". \n",
    " \n",
    "__ There is a mini-report at the end that you will have to fill in. We recommend to read it first and fill in while you are iterating. __\n",
    " \n",
    "\n",
    "## Tips on what can be done:\n",
    "\n",
    "\n",
    "\n",
    " * Network size\n",
    "   * MOAR neurons, \n",
    "   * MOAR layers, \n",
    "   * Пх'нглуи мглв'нафх Ктулху Р'льех вгах'нагл фхтагн! \n",
    "   \n",
    "   \n",
    "   \n",
    " * Regularize to prevent overfitting\n",
    "   * Add some L2 weight norm to the loss function, theano will do the rest\n",
    "   * Can be done manually or via - http://lasagne.readthedocs.org/en/latest/modules/regularization.html\n",
    "   \n",
    "   \n",
    "   \n",
    " * Better optimization - rmsprop, nesterov_momentum, adadelta, adagrad and so on.\n",
    "   * Converge faster and sometimes reach better optima\n",
    "   * It might make sense to tweak learning rate, other learning parameters, batch size and number of epochs\n",
    "   \n",
    "   \n",
    "   \n",
    " * Dropout - to prevent overfitting\n",
    "   * `lasagne.layers.DropoutLayer(prev_layer, p=probability_to_zero_out)`\n",
    "   \n",
    "   \n",
    "   \n",
    " * Convolution layers\n",
    "   * `network = lasagne.layers.Conv2DLayer(prev_layer,`\n",
    "    `                       num_filters = n_neurons,`\n",
    "    `                        filter_size = (filter width, filter height),`\n",
    "    `                        nonlinearity = some_nonlinearity)`\n",
    "   * Warning! Training convolutional networks can take long without GPU.\n",
    "     * If you are CPU-only, we still recomment to try a simple convolutional architecture\n",
    "     * a perfect option is if you can set it up to run at nighttime and check it up at the morning.\n",
    " \n",
    " * Plenty other layers and architectures\n",
    "   * http://lasagne.readthedocs.org/en/latest/modules/layers.html\n",
    "   * batch normalization, pooling, etc\n",
    "   \n",
    "   \n",
    " * Nonlinearities in the hidden layers\n",
    "   * tanh, relu, leaky relu, etc\n",
    "   \n",
    " \n",
    " \n",
    "   \n",
    "There is a template for your solution below that you can opt to use or throw away and write it your way"
   ]
  },
  {
   "cell_type": "code",
   "execution_count": 4,
   "metadata": {
    "collapsed": false
   },
   "outputs": [
    {
     "name": "stdout",
     "output_type": "stream",
     "text": [
      "(50000, 1, 28, 28) (50000,)\n"
     ]
    }
   ],
   "source": [
    "from mnist import load_dataset\n",
    "X_train,y_train,X_val,y_val,X_test,y_test = load_dataset()\n",
    "\n",
    "print(X_train.shape, y_train.shape)"
   ]
  },
  {
   "cell_type": "code",
   "execution_count": 5,
   "metadata": {
    "collapsed": true
   },
   "outputs": [],
   "source": [
    "import lasagne\n",
    "\n",
    "input_X = T.tensor4(\"X\")\n",
    "\n",
    "#input dimention (None means \"Arbitrary\" and only works at  the first axes [samples])\n",
    "input_shape = [None,1,28,28]\n",
    "\n",
    "target_y = T.vector(\"target Y integer\",dtype='int32')"
   ]
  },
  {
   "cell_type": "code",
   "execution_count": 93,
   "metadata": {
    "collapsed": false
   },
   "outputs": [],
   "source": [
    "#Input layer (auxilary)\n",
    "input_layer = lasagne.layers.InputLayer(shape = input_shape, input_var=input_X)\n",
    "\n",
    "conv_1 = lasagne.layers.Conv2DLayer(input_layer,\n",
    "                                    num_filters=24,\n",
    "                                    filter_size=(5, 5),\n",
    "                                    nonlinearity=lasagne.nonlinearities.elu)\n",
    "\n",
    "max_pool1 = lasagne.layers.MaxPool2DLayer(incoming=conv_1,\n",
    "                                          pool_size=(4, 4),\n",
    "                                          ignore_border=True\n",
    "                                         )\n",
    "\n",
    "dense_1 = lasagne.layers.DenseLayer(max_pool1,\n",
    "                                    num_units=100,\n",
    "                                    nonlinearity = lasagne.nonlinearities.elu,\n",
    "                                    name = \"hidden_dense_layer\")\n",
    "\n",
    "dense_output = lasagne.layers.DenseLayer(dense_1,\n",
    "                                         num_units = 10,\n",
    "                                         nonlinearity = lasagne.nonlinearities.softmax,\n",
    "                                         name='output')"
   ]
  },
  {
   "cell_type": "code",
   "execution_count": 94,
   "metadata": {
    "collapsed": false
   },
   "outputs": [],
   "source": [
    "# Network predictions (theano-transformation)\n",
    "y_predicted = lasagne.layers.get_output(dense_output)"
   ]
  },
  {
   "cell_type": "code",
   "execution_count": 95,
   "metadata": {
    "collapsed": false
   },
   "outputs": [
    {
     "name": "stdout",
     "output_type": "stream",
     "text": [
      "[W, b, hidden_dense_layer.W, hidden_dense_layer.b, output.W, output.b]\n"
     ]
    }
   ],
   "source": [
    "#All weights (shared-varaibles)\n",
    "# \"trainable\" flag means not to return auxilary params like batch mean (for batch normalization)\n",
    "all_weights = lasagne.layers.get_all_params(dense_output,trainable=True)\n",
    "print(all_weights)"
   ]
  },
  {
   "cell_type": "code",
   "execution_count": 96,
   "metadata": {
    "collapsed": false
   },
   "outputs": [],
   "source": [
    "#loss function\n",
    "loss = lasagne.objectives.categorical_crossentropy(y_predicted, target_y).mean()\n",
    "\n",
    "loss +=  1e-4 * lasagne.regularization.regularize_network_params(dense_output, lasagne.regularization.l2)\n",
    "\n",
    "#<optionally add regularization>\n",
    "\n",
    "accuracy = lasagne.objectives.categorical_accuracy(y_predicted, target_y).mean()\n",
    "\n",
    "#weight updates\n",
    "updates = lasagne.updates.nesterov_momentum(loss, all_weights, learning_rate=0.01, momentum=0.9)"
   ]
  },
  {
   "cell_type": "code",
   "execution_count": 97,
   "metadata": {
    "collapsed": false
   },
   "outputs": [],
   "source": [
    "#A function that accepts X and y, returns loss functions and performs weight updates\n",
    "train_fun = theano.function([input_X, target_y],\n",
    "                            [loss,accuracy],\n",
    "                            updates=updates)\n",
    "\n",
    "#A function that just computes accuracy given X and y\n",
    "accuracy_fun = theano.function([input_X, target_y], accuracy)"
   ]
  },
  {
   "cell_type": "code",
   "execution_count": 100,
   "metadata": {
    "collapsed": false
   },
   "outputs": [
    {
     "name": "stdout",
     "output_type": "stream",
     "text": [
      "Epoch 1 of 150 took 14.624s\n",
      "  training loss (in-iteration):\t\t0.085202\n",
      "  train accuracy:\t\t98.18 %\n",
      "  validation accuracy:\t\t98.31 %\n",
      "Epoch 2 of 150 took 14.501s\n",
      "  training loss (in-iteration):\t\t0.063924\n",
      "  train accuracy:\t\t98.96 %\n",
      "  validation accuracy:\t\t98.58 %\n",
      "Epoch 3 of 150 took 14.263s\n",
      "  training loss (in-iteration):\t\t0.055506\n",
      "  train accuracy:\t\t99.27 %\n",
      "  validation accuracy:\t\t98.81 %\n",
      "Epoch 4 of 150 took 14.329s\n",
      "  training loss (in-iteration):\t\t0.050217\n",
      "  train accuracy:\t\t99.41 %\n",
      "  validation accuracy:\t\t98.80 %\n",
      "Epoch 5 of 150 took 14.575s\n",
      "  training loss (in-iteration):\t\t0.047206\n",
      "  train accuracy:\t\t99.54 %\n",
      "  validation accuracy:\t\t98.53 %\n",
      "Epoch 6 of 150 took 14.697s\n",
      "  training loss (in-iteration):\t\t0.043985\n",
      "  train accuracy:\t\t99.63 %\n",
      "  validation accuracy:\t\t98.74 %\n",
      "Epoch 7 of 150 took 14.683s\n",
      "  training loss (in-iteration):\t\t0.041583\n",
      "  train accuracy:\t\t99.68 %\n",
      "  validation accuracy:\t\t98.89 %\n",
      "Epoch 8 of 150 took 14.755s\n",
      "  training loss (in-iteration):\t\t0.039282\n",
      "  train accuracy:\t\t99.72 %\n",
      "  validation accuracy:\t\t98.91 %\n",
      "Epoch 9 of 150 took 14.589s\n",
      "  training loss (in-iteration):\t\t0.038744\n",
      "  train accuracy:\t\t99.75 %\n",
      "  validation accuracy:\t\t98.75 %\n",
      "Epoch 10 of 150 took 14.641s\n",
      "  training loss (in-iteration):\t\t0.036419\n",
      "  train accuracy:\t\t99.82 %\n",
      "  validation accuracy:\t\t98.96 %\n",
      "Epoch 11 of 150 took 14.574s\n",
      "  training loss (in-iteration):\t\t0.036021\n",
      "  train accuracy:\t\t99.79 %\n",
      "  validation accuracy:\t\t98.92 %\n",
      "Epoch 12 of 150 took 14.695s\n",
      "  training loss (in-iteration):\t\t0.036113\n",
      "  train accuracy:\t\t99.77 %\n",
      "  validation accuracy:\t\t98.97 %\n",
      "Epoch 13 of 150 took 14.663s\n",
      "  training loss (in-iteration):\t\t0.035621\n",
      "  train accuracy:\t\t99.79 %\n",
      "  validation accuracy:\t\t99.01 %\n",
      "Epoch 14 of 150 took 14.653s\n",
      "  training loss (in-iteration):\t\t0.035306\n",
      "  train accuracy:\t\t99.79 %\n",
      "  validation accuracy:\t\t98.97 %\n",
      "Epoch 15 of 150 took 14.644s\n",
      "  training loss (in-iteration):\t\t0.034276\n",
      "  train accuracy:\t\t99.82 %\n",
      "  validation accuracy:\t\t98.96 %\n",
      "Epoch 16 of 150 took 14.614s\n",
      "  training loss (in-iteration):\t\t0.033434\n",
      "  train accuracy:\t\t99.84 %\n",
      "  validation accuracy:\t\t98.87 %\n",
      "Epoch 17 of 150 took 14.653s\n",
      "  training loss (in-iteration):\t\t0.033206\n",
      "  train accuracy:\t\t99.83 %\n",
      "  validation accuracy:\t\t98.94 %\n",
      "Epoch 18 of 150 took 15.541s\n",
      "  training loss (in-iteration):\t\t0.031717\n",
      "  train accuracy:\t\t99.87 %\n",
      "  validation accuracy:\t\t98.93 %\n",
      "Epoch 19 of 150 took 15.015s\n",
      "  training loss (in-iteration):\t\t0.033016\n",
      "  train accuracy:\t\t99.81 %\n",
      "  validation accuracy:\t\t98.90 %\n",
      "Epoch 20 of 150 took 14.179s\n",
      "  training loss (in-iteration):\t\t0.034434\n",
      "  train accuracy:\t\t99.76 %\n",
      "  validation accuracy:\t\t98.83 %\n",
      "Epoch 21 of 150 took 14.142s\n",
      "  training loss (in-iteration):\t\t0.035167\n",
      "  train accuracy:\t\t99.74 %\n",
      "  validation accuracy:\t\t99.02 %\n"
     ]
    },
    {
     "ename": "KeyboardInterrupt",
     "evalue": "",
     "output_type": "error",
     "traceback": [
      "\u001b[1;31m---------------------------------------------------------------------------\u001b[0m",
      "\u001b[1;31mKeyboardInterrupt\u001b[0m                         Traceback (most recent call last)",
      "\u001b[1;32m<ipython-input-100-740a9c1e9601>\u001b[0m in \u001b[0;36m<module>\u001b[1;34m()\u001b[0m\n\u001b[0;32m     13\u001b[0m     \u001b[1;32mfor\u001b[0m \u001b[0mbatch\u001b[0m \u001b[1;32min\u001b[0m \u001b[0miterate_minibatches\u001b[0m\u001b[1;33m(\u001b[0m\u001b[0mX_train\u001b[0m\u001b[1;33m,\u001b[0m \u001b[0my_train\u001b[0m\u001b[1;33m,\u001b[0m\u001b[0mbatch_size\u001b[0m\u001b[1;33m)\u001b[0m\u001b[1;33m:\u001b[0m\u001b[1;33m\u001b[0m\u001b[0m\n\u001b[0;32m     14\u001b[0m         \u001b[0minputs\u001b[0m\u001b[1;33m,\u001b[0m \u001b[0mtargets\u001b[0m \u001b[1;33m=\u001b[0m \u001b[0mbatch\u001b[0m\u001b[1;33m\u001b[0m\u001b[0m\n\u001b[1;32m---> 15\u001b[1;33m         \u001b[0mtrain_err_batch\u001b[0m\u001b[1;33m,\u001b[0m \u001b[0mtrain_acc_batch\u001b[0m\u001b[1;33m=\u001b[0m \u001b[0mtrain_fun\u001b[0m\u001b[1;33m(\u001b[0m\u001b[0minputs\u001b[0m\u001b[1;33m,\u001b[0m \u001b[0mtargets\u001b[0m\u001b[1;33m)\u001b[0m\u001b[1;33m\u001b[0m\u001b[0m\n\u001b[0m\u001b[0;32m     16\u001b[0m         \u001b[0mtrain_err\u001b[0m \u001b[1;33m+=\u001b[0m \u001b[0mtrain_err_batch\u001b[0m\u001b[1;33m\u001b[0m\u001b[0m\n\u001b[0;32m     17\u001b[0m         \u001b[0mtrain_acc\u001b[0m \u001b[1;33m+=\u001b[0m \u001b[0mtrain_acc_batch\u001b[0m\u001b[1;33m\u001b[0m\u001b[0m\n",
      "\u001b[1;32m/usr/local/lib/python3.5/dist-packages/theano/compile/function_module.py\u001b[0m in \u001b[0;36m__call__\u001b[1;34m(self, *args, **kwargs)\u001b[0m\n\u001b[0;32m    857\u001b[0m         \u001b[0mt0_fn\u001b[0m \u001b[1;33m=\u001b[0m \u001b[0mtime\u001b[0m\u001b[1;33m.\u001b[0m\u001b[0mtime\u001b[0m\u001b[1;33m(\u001b[0m\u001b[1;33m)\u001b[0m\u001b[1;33m\u001b[0m\u001b[0m\n\u001b[0;32m    858\u001b[0m         \u001b[1;32mtry\u001b[0m\u001b[1;33m:\u001b[0m\u001b[1;33m\u001b[0m\u001b[0m\n\u001b[1;32m--> 859\u001b[1;33m             \u001b[0moutputs\u001b[0m \u001b[1;33m=\u001b[0m \u001b[0mself\u001b[0m\u001b[1;33m.\u001b[0m\u001b[0mfn\u001b[0m\u001b[1;33m(\u001b[0m\u001b[1;33m)\u001b[0m\u001b[1;33m\u001b[0m\u001b[0m\n\u001b[0m\u001b[0;32m    860\u001b[0m         \u001b[1;32mexcept\u001b[0m \u001b[0mException\u001b[0m\u001b[1;33m:\u001b[0m\u001b[1;33m\u001b[0m\u001b[0m\n\u001b[0;32m    861\u001b[0m             \u001b[1;32mif\u001b[0m \u001b[0mhasattr\u001b[0m\u001b[1;33m(\u001b[0m\u001b[0mself\u001b[0m\u001b[1;33m.\u001b[0m\u001b[0mfn\u001b[0m\u001b[1;33m,\u001b[0m \u001b[1;34m'position_of_error'\u001b[0m\u001b[1;33m)\u001b[0m\u001b[1;33m:\u001b[0m\u001b[1;33m\u001b[0m\u001b[0m\n",
      "\u001b[1;31mKeyboardInterrupt\u001b[0m: "
     ]
    }
   ],
   "source": [
    "import time\n",
    "\n",
    "num_epochs = 150\n",
    "\n",
    "batch_size = 10\n",
    "\n",
    "for epoch in range(num_epochs):\n",
    "    # In each epoch, we do a full pass over the training data:\n",
    "    train_err = 0\n",
    "    train_acc = 0\n",
    "    train_batches = 0\n",
    "    start_time = time.time()\n",
    "    for batch in iterate_minibatches(X_train, y_train,batch_size):\n",
    "        inputs, targets = batch\n",
    "        train_err_batch, train_acc_batch= train_fun(inputs, targets)\n",
    "        train_err += train_err_batch\n",
    "        train_acc += train_acc_batch\n",
    "        train_batches += 1\n",
    "\n",
    "    # And a full pass over the validation data:\n",
    "    val_acc = 0\n",
    "    val_batches = 0\n",
    "    for batch in iterate_minibatches(X_val, y_val, batch_size):\n",
    "        inputs, targets = batch\n",
    "        val_acc += accuracy_fun(inputs, targets)\n",
    "        val_batches += 1\n",
    "\n",
    "    \n",
    "    # Then we print the results for this epoch:\n",
    "    print(\"Epoch {} of {} took {:.3f}s\".format(\n",
    "        epoch + 1, num_epochs, time.time() - start_time))\n",
    "\n",
    "    print(\"  training loss (in-iteration):\\t\\t{:.6f}\".format(train_err / train_batches))\n",
    "    print(\"  train accuracy:\\t\\t{:.2f} %\".format(\n",
    "        train_acc / train_batches * 100))\n",
    "    print(\"  validation accuracy:\\t\\t{:.2f} %\".format(\n",
    "        val_acc / val_batches * 100))"
   ]
  },
  {
   "cell_type": "code",
   "execution_count": 101,
   "metadata": {
    "collapsed": false
   },
   "outputs": [
    {
     "name": "stdout",
     "output_type": "stream",
     "text": [
      "Final results:\n",
      "  test accuracy:\t\t99.03 %\n",
      "Achievement unlocked: 80lvl Warlock!\n"
     ]
    }
   ],
   "source": [
    "test_acc = 0\n",
    "test_batches = 0\n",
    "for batch in iterate_minibatches(X_test, y_test, 500):\n",
    "    inputs, targets = batch\n",
    "    acc = accuracy_fun(inputs, targets)\n",
    "    test_acc += acc\n",
    "    test_batches += 1\n",
    "print(\"Final results:\")\n",
    "print(\"  test accuracy:\\t\\t{:.2f} %\".format(\n",
    "    test_acc / test_batches * 100))\n",
    "\n",
    "if test_acc / test_batches * 100 > 99:\n",
    "    print(\"Achievement unlocked: 80lvl Warlock!\")\n",
    "else:\n",
    "    print(\"We need more magic!\")"
   ]
  },
  {
   "cell_type": "markdown",
   "metadata": {},
   "source": [
    "Report\n",
    "\n",
    "All creative approaches are highly welcome, but at the very least it would be great to mention\n",
    "* the idea;\n",
    "* brief history of tweaks and improvements;\n",
    "* what is the final architecture and why?\n",
    "* what is the training method and, again, why?\n",
    "* Any regularizations and other techniques applied and their effects;\n",
    "\n",
    "\n",
    "There is no need to write strict mathematical proofs (unless you want to).\n",
    " * \"I tried this, this and this, and the second one turned out to be better. And i just didn't like the name of that one\" - OK, but can be better\n",
    " * \"I have analized these and these articles|sources|blog posts, tried that and that to adapt them to my problem and the conclusions are such and such\" - the ideal one\n",
    " * \"I took that code that demo without understanding it, but i'll never confess that and instead i'll make up some pseudoscientific explaination\" - __not_ok__"
   ]
  },
  {
   "cell_type": "markdown",
   "metadata": {},
   "source": [
    "### Hi, my name is `Mikhail Usvyatsov`, and here's my story\n",
    "\n",
    "A long ago in a galaxy far far away, when it was still more than an hour before deadline, i got an idea (to be honest, several ideas):\n",
    "\n",
    "First of all I have tried the network with very fat hidden layer(1000 units). It increases the quality of the initial network up to 97%.\n",
    "\n",
    "Then I tried to add more layers. I have tried the network with 3 hidden layers that had 200, 50 and 200 units. The idea behind this was to make it more generalisable. It was nessesary because on previous network there was a problem of overfitting.\n",
    "\n",
    "Next I tried to add a dropout. It helped, but the still the result was on the level of 97% after 50 itterations.\n",
    "\n",
    "\n",
    "Finaly I decided to apply convolutional layer. It really helped. Conv layer + 1 hidden layer + regularization gave me 98 % after 15 itterations. Also I restarted the training with different learning rate.\n",
    "\n",
    "Then I have found LeNet article and decided to add maxPooling.\n",
    "\n",
    "Finally I had to tune the size of the batch and it really helped.\n",
    "\n",
    "That, having wasted 3 hours training, got\n",
    "\n",
    "* accuracy on training: 99.74\n",
    "* accuracy on validation: 99.02\n",
    "* accuracy on test: 99.03\n",
    "\n",
    "When I faced the validation value greater that 99% I felt likeLeCun and stoped the training. \n",
    "\n",
    "We know how NN works given its structure. But we don't know how to build the structure to solve specific problem. I think that the effort should be spent on the methodology of structure definition according to the problem. "
   ]
  },
  {
   "cell_type": "code",
   "execution_count": null,
   "metadata": {
    "collapsed": true
   },
   "outputs": [],
   "source": []
  }
 ],
 "metadata": {
  "kernelspec": {
   "display_name": "Python 3",
   "language": "python",
   "name": "python3"
  },
  "language_info": {
   "codemirror_mode": {
    "name": "ipython",
    "version": 3
   },
   "file_extension": ".py",
   "mimetype": "text/x-python",
   "name": "python",
   "nbconvert_exporter": "python",
   "pygments_lexer": "ipython3",
   "version": "3.5.1"
  }
 },
 "nbformat": 4,
 "nbformat_minor": 0
}
