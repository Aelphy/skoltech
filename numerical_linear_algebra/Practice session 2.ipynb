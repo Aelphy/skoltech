{
 "cells": [
  {
   "cell_type": "code",
   "execution_count": 1,
   "metadata": {
    "collapsed": true
   },
   "outputs": [],
   "source": [
    "import numpy as np\n",
    "import matplotlib.pyplot as plt\n",
    "import time\n",
    "import scipy as sp\n",
    "import scipy.linalg\n",
    "%matplotlib inline"
   ]
  },
  {
   "cell_type": "code",
   "execution_count": 2,
   "metadata": {
    "collapsed": false
   },
   "outputs": [
    {
     "data": {
      "text/plain": [
       "<matplotlib.legend.Legend at 0x1068aab00>"
      ]
     },
     "execution_count": 2,
     "metadata": {},
     "output_type": "execute_result"
    },
    {
     "data": {
      "image/png": "[encoded data removed]",
      "text/plain": [
       "<matplotlib.figure.Figure at 0x1067a4c50>"
      ]
     },
     "metadata": {},
     "output_type": "display_data"
    }
   ],
   "source": [
    "def fft_matrix(n):\n",
    "    i,j = np.meshgrid(np.arange(n), np.arange(n))\n",
    "    Fn = np.exp(-2 * np.pi * 1J * i * j / n) / np.sqrt(n)\n",
    "    return Fn\n",
    "\n",
    "fft_times = []\n",
    "my_own_fft_times = []\n",
    "sizes = [2**i for i in range(10)]\n",
    "\n",
    "for i in sizes:\n",
    "    x = np.random.random(i)\n",
    "    current_time = time.time()\n",
    "    np.fft.fft(x)\n",
    "    fft_times.append(time.time() - current_time)\n",
    "    \n",
    "for i in sizes:\n",
    "    x = np.random.random(i)\n",
    "    m = fft_matrix(i)\n",
    "    current_time = time.time()\n",
    "    m * x\n",
    "    my_own_fft_times.append(time.time() - current_time)\n",
    "    \n",
    "plt.yscale('log')\n",
    "plt.xscale('log')\n",
    "plt.plot(fft_times)\n",
    "plt.plot(my_own_fft_times)\n",
    "plt.legend(['fft', 'my_own_fft'], loc='upper right')"
   ]
  },
  {
   "cell_type": "code",
   "execution_count": 13,
   "metadata": {
    "collapsed": false
   },
   "outputs": [
    {
     "data": {
      "text/plain": [
       "<matplotlib.legend.Legend at 0x108a45f60>"
      ]
     },
     "execution_count": 13,
     "metadata": {},
     "output_type": "execute_result"
    },
    {
     "data": {
      "image/png": "[encoded data removed]",
      "text/plain": [
       "<matplotlib.figure.Figure at 0x1089b05c0>"
      ]
     },
     "metadata": {},
     "output_type": "display_data"
    }
   ],
   "source": [
    "def circulant_matvec(c, x):\n",
    "    return np.fft.ifft(np.fft.fft(c) * np.fft.fft(x))\n",
    "\n",
    "def circulant_matrix(n):\n",
    "    c = np.random.random(n)\n",
    "    return sp.linalg.circulant(c)\n",
    "\n",
    "mul_times = []\n",
    "my_own_mul_times = []\n",
    "sizes = [2**i for i in range(13)]\n",
    "\n",
    "for i in sizes:\n",
    "    x = np.random.random(i)\n",
    "    m = circulant_matrix(i)\n",
    "    current_time = time.time()\n",
    "    m * x\n",
    "    mul_times.append(time.time() - current_time)\n",
    "    \n",
    "for i in sizes:\n",
    "    x = np.random.random(i)\n",
    "    m = circulant_matrix(i)\n",
    "    current_time = time.time()\n",
    "    circulant_matvec(m[:,0], x)\n",
    "    my_own_mul_times.append(time.time() - current_time)\n",
    "\n",
    "plt.yscale('log')\n",
    "plt.xscale('log')\n",
    "plt.plot(sizes, mul_times)\n",
    "plt.plot(sizes, my_own_mul_times)\n",
    "plt.legend(['direct', 'smart'], loc='upper right')"
   ]
  },
  {
   "cell_type": "code",
   "execution_count": 14,
   "metadata": {
    "collapsed": false
   },
   "outputs": [
    {
     "ename": "IndexError",
     "evalue": "index 1 is out of bounds for axis 1 with size 1",
     "output_type": "error",
     "traceback": [
      "\u001b[0;31m---------------------------------------------------------------------------\u001b[0m",
      "\u001b[0;31mIndexError\u001b[0m                                Traceback (most recent call last)",
      "\u001b[0;32m<ipython-input-14-c48adac4e182>\u001b[0m in \u001b[0;36m<module>\u001b[0;34m()\u001b[0m\n\u001b[1;32m     21\u001b[0m     \u001b[0mm\u001b[0m \u001b[0;34m=\u001b[0m \u001b[0mtoeplitz_matrix\u001b[0m\u001b[0;34m(\u001b[0m\u001b[0mi\u001b[0m\u001b[0;34m)\u001b[0m\u001b[0;34m\u001b[0m\u001b[0m\n\u001b[1;32m     22\u001b[0m     \u001b[0mcurrent_time\u001b[0m \u001b[0;34m=\u001b[0m \u001b[0mtime\u001b[0m\u001b[0;34m.\u001b[0m\u001b[0mtime\u001b[0m\u001b[0;34m(\u001b[0m\u001b[0;34m)\u001b[0m\u001b[0;34m\u001b[0m\u001b[0m\n\u001b[0;32m---> 23\u001b[0;31m     \u001b[0mtoeplitz_matvec\u001b[0m\u001b[0;34m(\u001b[0m\u001b[0mm\u001b[0m\u001b[0;34m[\u001b[0m\u001b[0;34m:\u001b[0m\u001b[0;34m,\u001b[0m \u001b[0;36m1\u001b[0m\u001b[0;34m]\u001b[0m\u001b[0;34m,\u001b[0m \u001b[0mx\u001b[0m\u001b[0;34m)\u001b[0m\u001b[0;34m\u001b[0m\u001b[0m\n\u001b[0m\u001b[1;32m     24\u001b[0m     \u001b[0mmy_own_mul_times\u001b[0m\u001b[0;34m.\u001b[0m\u001b[0mappend\u001b[0m\u001b[0;34m(\u001b[0m\u001b[0mtime\u001b[0m\u001b[0;34m.\u001b[0m\u001b[0mtime\u001b[0m\u001b[0;34m(\u001b[0m\u001b[0;34m)\u001b[0m \u001b[0;34m-\u001b[0m \u001b[0mcurrent_time\u001b[0m\u001b[0;34m)\u001b[0m\u001b[0;34m\u001b[0m\u001b[0m\n\u001b[1;32m     25\u001b[0m \u001b[0;34m\u001b[0m\u001b[0m\n",
      "\u001b[0;31mIndexError\u001b[0m: index 1 is out of bounds for axis 1 with size 1"
     ]
    }
   ],
   "source": [
    "def toeplitz_matvec(c, x):\n",
    "    return np.fft.ifft(np.fft.fft(c) * np.fft.fft(x))\n",
    "\n",
    "def toeplitz_matrix(n):\n",
    "    c = np.random.random(n)\n",
    "    return sp.linalg.toeplitz(c)\n",
    "\n",
    "mul_times = []\n",
    "my_own_mul_times = []\n",
    "sizes = [10**i for i in range(4)]\n",
    "\n",
    "for i in sizes:\n",
    "    x = np.random.random(i)\n",
    "    m = toeplitz_matrix(i)\n",
    "    current_time = time.time()\n",
    "    m * x\n",
    "    mul_times.append(time.time() - current_time)\n",
    "    \n",
    "for i in sizes:\n",
    "    x = np.random.random(i)\n",
    "    m = toeplitz_matrix(i)\n",
    "    current_time = time.time()\n",
    "    toeplitz_matvec(m[:, 0], x)\n",
    "    my_own_mul_times.append(time.time() - current_time)\n",
    "\n",
    "plt.yscale('log')\n",
    "plt.xscale('log')\n",
    "plt.plot(mul_times)\n",
    "plt.plot(my_own_mul_times)\n",
    "plt.legend(['direct', 'smart'], loc='upper right')"
   ]
  },
  {
   "cell_type": "code",
   "execution_count": null,
   "metadata": {
    "collapsed": true
   },
   "outputs": [],
   "source": []
  }
 ],
 "metadata": {
  "kernelspec": {
   "display_name": "Python 3",
   "language": "python",
   "name": "python3"
  },
  "language_info": {
   "codemirror_mode": {
    "name": "ipython",
    "version": 3
   },
   "file_extension": ".py",
   "mimetype": "text/x-python",
   "name": "python",
   "nbconvert_exporter": "python",
   "pygments_lexer": "ipython3",
   "version": "3.4.3"
  }
 },
 "nbformat": 4,
 "nbformat_minor": 0
}
