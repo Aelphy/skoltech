{
 "cells": [
  {
   "cell_type": "code",
   "execution_count": null,
   "metadata": {
    "collapsed": false
   },
   "outputs": [],
   "source": [
    "import pyaudio as pa\n",
    "import numpy as np\n",
    "import matplotlib.pyplot as plt\n",
    "import pylab as pl\n",
    "from IPython import display\n",
    "\n",
    "%matplotlib inline\n",
    "\n",
    "CHUNK = 128\n",
    "FORMAT = pa.paFloat32\n",
    "CHANNELS = 1\n",
    "RATE = 48100\n",
    "\n",
    "# print(CHUNK / RATE)\n",
    "\n",
    "papa = pa.PyAudio()\n",
    "\n",
    "stream = papa.open(format=FORMAT, channels=CHANNELS, rate=RATE, input=True, output=True, frames_per_buffer=CHUNK)\n",
    "\n",
    "print(\"* recording\")\n",
    "\n",
    "while True:\n",
    "    data = stream.read(CHUNK)\n",
    "    array_data = np.fromstring(data, np.float32)\n",
    "    \n",
    "    stream.write((-0.05 * array_data).tobytes())\n",
    "    \n",
    "print(\"* done recording\")"
   ]
  },
  {
   "cell_type": "code",
   "execution_count": 14,
   "metadata": {
    "collapsed": false
   },
   "outputs": [],
   "source": [
    "trace1 = Scatter(\n",
    "        x=[],\n",
    "        y=[],\n",
    "        stream=dict(token='g4pu5oxzoq')\n",
    "    )\n",
    "data = Data([trace1])\n",
    "py.plot(data)\n",
    "s = py.Stream('g4pu5oxzoq')\n",
    "s.open()\n",
    "s.write(dict(x=1, y=2))\n",
    "s.close()"
   ]
  },
  {
   "cell_type": "code",
   "execution_count": 15,
   "metadata": {
    "collapsed": false
   },
   "outputs": [
    {
     "name": "stdout",
     "output_type": "stream",
     "text": [
      "0.026235827664399095 0.01927437641723356\n"
     ]
    }
   ],
   "source": [
    "import pyaudio\n",
    "import wave\n",
    "import time\n",
    "import numpy as np\n",
    "CHUNK_SIZE = 5\n",
    "FORMAT = pyaudio.paInt16\n",
    "RATE = 44100\n",
    "\n",
    "p = pyaudio.PyAudio()\n",
    "stream = p.open(format=FORMAT, channels=1, rate=RATE,\n",
    "input=True, output=True,\n",
    "frames_per_buffer=CHUNK_SIZE)\n",
    "print(stream.get_input_latency(), stream.get_output_latency())\n",
    "p.terminate()"
   ]
  },
  {
   "cell_type": "code",
   "execution_count": null,
   "metadata": {
    "collapsed": false
   },
   "outputs": [],
   "source": []
  },
  {
   "cell_type": "code",
   "execution_count": null,
   "metadata": {
    "collapsed": true
   },
   "outputs": [],
   "source": []
  }
 ],
 "metadata": {
  "kernelspec": {
   "display_name": "Python 3",
   "language": "python",
   "name": "python3"
  }
 },
 "nbformat": 4,
 "nbformat_minor": 0
}
