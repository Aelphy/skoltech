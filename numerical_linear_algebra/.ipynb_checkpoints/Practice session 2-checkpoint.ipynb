{
 "cells": [
  {
   "cell_type": "code",
   "execution_count": 1,
   "metadata": {
    "collapsed": true
   },
   "outputs": [],
   "source": [
    "import numpy as np\n",
    "import matplotlib.pyplot as plt\n",
    "import time\n",
    "import scipy as sp\n",
    "import scipy.linalg\n",
    "%matplotlib inline"
   ]
  },
  {
   "cell_type": "code",
   "execution_count": 10,
   "metadata": {
    "collapsed": false
   },
   "outputs": [
    {
     "data": {
      "text/plain": [
       "<matplotlib.legend.Legend at 0x10d36ecf8>"
      ]
     },
     "execution_count": 10,
     "metadata": {},
     "output_type": "execute_result"
    },
    {
     "data": {
      "image/png": "[encoded data removed]",
      "text/plain": [
       "<matplotlib.figure.Figure at 0x10d30b198>"
      ]
     },
     "metadata": {},
     "output_type": "display_data"
    }
   ],
   "source": [
    "def fft_matrix(n):\n",
    "    i,j = np.meshgrid(np.arange(n), np.arange(n))\n",
    "    Fn = np.exp(-2 * np.pi * 1J * i * j / n) / np.sqrt(n)\n",
    "    return Fn\n",
    "\n",
    "fft_times = []\n",
    "my_own_fft_times = []\n",
    "sizes = [10**i for i in range(5)]\n",
    "\n",
    "for i in sizes:\n",
    "    x = np.random.random(i)\n",
    "    current_time = time.time()\n",
    "    np.fft.fft(x)\n",
    "    fft_times.append(time.time() - current_time)\n",
    "    \n",
    "for i in sizes:\n",
    "    x = np.random.random(i)\n",
    "    m = fft_matrix(i)\n",
    "    current_time = time.time()\n",
    "    m * x\n",
    "    my_own_fft_times.append(time.time() - current_time)\n",
    "    \n",
    "plt.yscale('log')\n",
    "plt.xscale('log')\n",
    "plt.plot(fft_times)\n",
    "plt.plot(my_own_fft_times)\n",
    "plt.legend(['fft', 'my_own_fft'], loc='upper right')"
   ]
  },
  {
   "cell_type": "code",
   "execution_count": null,
   "metadata": {
    "collapsed": false
   },
   "outputs": [],
   "source": [
    "def circulant_matvec(c, x):\n",
    "    return np.fft.ifft(np.fft.fft(c) * np.fft.fft(x))\n",
    "\n",
    "def ciculant_matrix(n):\n",
    "    c = np.random.random(n)\n",
    "    return sp.linalg.circulant(c)\n",
    "\n",
    "mul_times = []\n",
    "my_own_mul_times = []\n",
    "sizes = [10**i for i in range(5)]\n",
    "\n",
    "for i in sizes:\n",
    "    x = np.random.random(i)\n",
    "    m = ciculant_matrix(i)\n",
    "    current_time = time.time()\n",
    "    m * x\n",
    "    mul_times.append(time.time() - current_time)\n",
    "    \n",
    "for i in sizes:\n",
    "    x = np.random.random(i)\n",
    "    m = ciculant_matrix(i)\n",
    "    current_time = time.time()\n",
    "    circulant_matvec(m, x)\n",
    "    my_own_mul_times.append(time.time() - current_time)\n",
    "\n",
    "plt.yscale('log')\n",
    "plt.xscale('log')\n",
    "plt.plot(mul_times)\n",
    "plt.plot(my_own_mul_times)\n",
    "plt.legend(['direct', 'smart'], loc='upper right')"
   ]
  },
  {
   "cell_type": "code",
   "execution_count": 2,
   "metadata": {
    "collapsed": false
   },
   "outputs": [
    {
     "data": {
      "text/plain": [
       "<matplotlib.legend.Legend at 0x10b400b00>"
      ]
     },
     "execution_count": 2,
     "metadata": {},
     "output_type": "execute_result"
    },
    {
     "data": {
      "image/png": "[encoded data removed]",
      "text/plain": [
       "<matplotlib.figure.Figure at 0x10674dcf8>"
      ]
     },
     "metadata": {},
     "output_type": "display_data"
    }
   ],
   "source": [
    "def toeplitz_matvec(c, x):\n",
    "    return np.fft.ifft(np.fft.fft(c) * np.fft.fft(x))\n",
    "\n",
    "def toeplitz_matrix(n):\n",
    "    c = np.random.random(n)\n",
    "    return sp.linalg.toeplitz(c)\n",
    "\n",
    "mul_times = []\n",
    "my_own_mul_times = []\n",
    "sizes = [10**i for i in range(4)]\n",
    "\n",
    "for i in sizes:\n",
    "    x = np.random.random(i)\n",
    "    m = toeplitz_matrix(i)\n",
    "    current_time = time.time()\n",
    "    m * x\n",
    "    mul_times.append(time.time() - current_time)\n",
    "    \n",
    "for i in sizes:\n",
    "    x = np.random.random(i)\n",
    "    m = toeplitz_matrix(i)\n",
    "    current_time = time.time()\n",
    "    toeplitz_matvec(m, x)\n",
    "    my_own_mul_times.append(time.time() - current_time)\n",
    "\n",
    "plt.yscale('log')\n",
    "plt.xscale('log')\n",
    "plt.plot(mul_times)\n",
    "plt.plot(my_own_mul_times)\n",
    "plt.legend(['direct', 'smart'], loc='upper right')"
   ]
  },
  {
   "cell_type": "code",
   "execution_count": null,
   "metadata": {
    "collapsed": true
   },
   "outputs": [],
   "source": []
  }
 ],
 "metadata": {
  "kernelspec": {
   "display_name": "Python 3",
   "language": "python",
   "name": "python3"
  },
  "language_info": {
   "codemirror_mode": {
    "name": "ipython",
    "version": 3
   },
   "file_extension": ".py",
   "mimetype": "text/x-python",
   "name": "python",
   "nbconvert_exporter": "python",
   "pygments_lexer": "ipython3",
   "version": "3.4.3"
  }
 },
 "nbformat": 4,
 "nbformat_minor": 0
}
