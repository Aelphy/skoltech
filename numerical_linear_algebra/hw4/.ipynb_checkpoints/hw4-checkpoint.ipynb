{
 "cells": [
  {
   "cell_type": "markdown",
   "metadata": {},
   "source": [
    "## Problem 1 Poisson equation (Sparse matrices)\n",
    "\n",
    "## 50 pts\n",
    "\n",
    "Consider a 2D Poisson equation\n",
    "$$\n",
    "\\Delta u \\equiv \\frac{\\partial^2 u}{\\partial x^2} + \\frac{\\partial^2 u}{\\partial y^2} = f, \\quad (x,y)\\in [0,1]^2\n",
    "$$ \n",
    "with following boundary conditions\n",
    "$$\n",
    "u\\big|_{x=0} = 0, \\quad  u\\big|_{x=1} = 0, \\quad u\\big|_{y=0} = 0, \\quad u\\big|_{y=1} = 0,\n",
    "$$\n",
    "with known function $f(x,y)$ and unknown $u(x,y)$.\n",
    "\n",
    "To find solution of the Poisson equation we will use the **finite difference method**. Standard second order finite difference discretization on a uniform grid $(x_i, y_j) = (ih, jh)$, $i,j = 0,\\dots, N$, $h = \\frac{1}{N}$ leads to the following system of equations:\n",
    "$$\n",
    "\\begin{split}\n",
    "   &\\frac{u_{i+1,j} - 2u_{i,j} + u_{i-1,j}}{h^2} + \\frac{u_{i,j+1} - 2u_{i,j} + u_{i,j-1}}{h^2} = f(ih,jh) \\\\\n",
    "   &u_{0,j} = u_{i,0} = u_{N,j} = u_{i,N} = 0, \\quad i,j = 1,\\dots,N\n",
    "\\end{split}\n",
    "$$\n",
    "\n",
    "* Check that this system can be written in a matrix form\n",
    "$$\n",
    "A_h u_h = f_h,\n",
    "$$\n",
    "where \n",
    "$$u_h = (u_{1,1},\\dots, u_{1,N-1} , u_{2,1},\\dots, u_{2,N-1}, \\dots, u_{N-1,1},\\dots, u_{N-1,N-1})^T$$\n",
    "$$f_h = (f_{1,1},\\dots, f_{1,N-1} , f_{2,1},\\dots, f_{2,N-1}, \\dots, f_{N-1,1},\\dots, f_{N-1,N-1})^T$$\n",
    "and\n",
    "$$ A_h = I\\otimes a_h + a_h \\otimes I, \\quad a_h = \\frac{1}{h^2}\\mathrm{tridiag\\left( 1,-2,1\\right)},$$\n",
    "where $\\otimes$ denotes [Kronecker product](https://en.wikipedia.org/wiki/Kronecker_product).\n",
    "\n",
    "\n",
    "\n",
    "* Choose $f(x,y)$ such that $u(x, y) = \\sin\\pi x \\sin \\pi y$ is a solution (just substitute $u$ in the Poisson equation and find $f$, then pretend as if you do not know the solution $u$ :)).\n",
    "\n",
    "\n",
    "* Assemble matrix $A_h$ in the `CSR` format using functions from the `scipy.sparse` package (functions `scipy.sparse.kron` and `scipy.sparse.spdiags` might be helpful). <font color='red'> Do not use full matrices! Use only sparse arithmetics </font>\n",
    "\n",
    "\n",
    "* Solve the system using the `scipy.sparse.linalg.spsolve` and make sure that you get solution close to the $u(x, y) = \\sin\\pi x \\sin \\pi y$ (the bigger $N$ you take, the closer to the $u(x, y) = \\sin\\pi x \\sin \\pi y$ you must be).\n",
    "\n",
    "\n",
    "* Run `cg`, `minres`, `GMRES`, `BicgStab` iterative methods for this system for $N=256$ and make plots of residual w.r.t. number of iterations on one plot. Do not forget to provide label names. \n",
    "\n",
    "\n",
    "* What is the method of choice among `cg`, `minres`, `GMRES`, `BicgStab` for this problem? Why? Name advantages and disadvantages of these methods.\n",
    "\n",
    "\n",
    "* Solve the system via an appropriate Krylov method with and without ILU preconditioner (play with different ILU preconditioners and find the one with the smallest number of iterations for this particular problem). To illustrate your answer plot residuals for different ILU preconditioners on one plot. Do you think that less iterations will give you reduced calculation time?\n",
    "\n",
    "\n",
    "* **Bonus:** Find analytically eigenvalues of the matrix $A_h$ and prove that $\\text{cond}( A_h )= \\mathcal{O}\\left(\\frac{1}{h^2}\\right)$"
   ]
  },
  {
   "cell_type": "markdown",
   "metadata": {
    "collapsed": false
   },
   "source": [
    "$A_h = I\\otimes a_h + a_h \\otimes I$\n",
    "\n",
    "$A_h = \\left(\\begin{matrix} a_h & 0 & ... & 0\\\\ 0 & a_h & ... & 0\\\\ ... & ... & ... & ... \\\\0 & 0 & ... & a_h\\end{matrix}\\right) + \\left(\\begin{matrix} \\dfrac{-2I}{h^2} & \\dfrac{I}{h^2} & ... & 0\\\\ \\dfrac{I}{h^2} & \\dfrac{-2I}{h^2} & \\dfrac{I}{h^2} & 0\\\\ ... & ... & ... & ... \\\\ 0 & ... & \\dfrac{I}{h^2} & \\dfrac{-2I}{h^2}\\end{matrix}\\right)$\n",
    "\n",
    "We can see that $(I\\otimes a_h) u_h = \\dfrac{u_{i,j+1} - 2u_{i,j} + u_{i,j-1}}{h^2}$ and $(a_h \\otimes I) u_h = \\dfrac{u_{i + 1,j} - 2u_{i,j} + u_{i - 1,j}}{h^2}$\n",
    "\n",
    "So we can see that the system can be written in the given matrix form."
   ]
  },
  {
   "cell_type": "markdown",
   "metadata": {},
   "source": [
    "$u = sin(\\pi x) sin(\\pi y)$\n",
    "\n",
    "$\\frac{\\partial^2 u}{\\partial x^2} + \\frac{\\partial^2 u}{\\partial y^2} = f$\n",
    "\n",
    "$f = -2 \\pi^2 sin(\\pi x) sin(\\pi y)$"
   ]
  },
  {
   "cell_type": "code",
   "execution_count": 1,
   "metadata": {
    "collapsed": false
   },
   "outputs": [
    {
     "name": "stdout",
     "output_type": "stream",
     "text": [
      "[[-64.  16.   0.  16.   0.   0.   0.   0.   0.]\n",
      " [ 16. -64.  16.   0.  16.   0.   0.   0.   0.]\n",
      " [  0.  16. -64.   0.   0.  16.   0.   0.   0.]\n",
      " [ 16.   0.   0. -64.  16.   0.  16.   0.   0.]\n",
      " [  0.  16.   0.  16. -64.  16.   0.  16.   0.]\n",
      " [  0.   0.  16.   0.  16. -64.   0.   0.  16.]\n",
      " [  0.   0.   0.  16.   0.   0. -64.  16.   0.]\n",
      " [  0.   0.   0.   0.  16.   0.  16. -64.  16.]\n",
      " [  0.   0.   0.   0.   0.  16.   0.  16. -64.]]\n"
     ]
    }
   ],
   "source": [
    "import numpy as np\n",
    "import scipy as sp\n",
    "import scipy.linalg\n",
    "import scipy.sparse\n",
    "import scipy.sparse.linalg\n",
    "\n",
    "def build_A(n, f = 'csr'):\n",
    "    diag_rows = np.array([np.ones(n - 1), -2 * np.ones(n - 1), np.ones(n - 1)])\n",
    "    positions = [-1, 0, 1]\n",
    "    a_h = sp.sparse.spdiags(diag_rows, positions, n - 1, n - 1) * (n) ** 2\n",
    "    I = sp.sparse.eye(n - 1)\n",
    "\n",
    "    return sp.sparse.kron(I, a_h, format=f) + sp.sparse.kron(a_h, I, format=f)\n",
    "\n",
    "print(build_A(4).todense())"
   ]
  },
  {
   "cell_type": "code",
   "execution_count": 2,
   "metadata": {
    "collapsed": false
   },
   "outputs": [
    {
     "data": {
      "text/plain": [
       "<matplotlib.legend.Legend at 0x1057009b0>"
      ]
     },
     "execution_count": 2,
     "metadata": {},
     "output_type": "execute_result"
    },
    {
     "data": {
      "image/png": "[encoded data removed]",
      "text/plain": [
       "<matplotlib.figure.Figure at 0x105700860>"
      ]
     },
     "metadata": {},
     "output_type": "display_data"
    }
   ],
   "source": [
    "import matplotlib.pyplot as plt\n",
    "%matplotlib inline\n",
    "\n",
    "def build_f(n):\n",
    "    return -2 * np.pi ** 2 * np.kron(np.sin(np.pi * np.arange(1, n) / n), np.sin(np.pi * np.arange(1, n) / n))\n",
    "\n",
    "def build_u(n):\n",
    "    return build_f(n) / (-2 * np.pi ** 2)\n",
    "\n",
    "N = [2 ** i for i in range(1, 9)]\n",
    "residuals = []\n",
    "\n",
    "for n in N:\n",
    "    b = build_f(n)\n",
    "    A = build_A(n)\n",
    "    u_orig = build_u(n)\n",
    "    u = sp.sparse.linalg.spsolve(A, b)\n",
    "    residuals.append(np.linalg.norm(A.dot(u_orig) - b))\n",
    "    \n",
    "\n",
    "plt.ylabel('Residual')\n",
    "plt.xlabel('N')\n",
    "plt.plot(N, residuals, label='residuals')\n",
    "plt.legend(loc='best')"
   ]
  },
  {
   "cell_type": "code",
   "execution_count": 22,
   "metadata": {
    "collapsed": false
   },
   "outputs": [],
   "source": [
    "n = 256\n",
    "lp = build_A(n)\n",
    "rhs = build_f(n)\n",
    "\n",
    "res_cg = []\n",
    "res_bicg = []\n",
    "res_gmres = []\n",
    "res_minres = []\n",
    "\n",
    "def print_cg(x):\n",
    "    res_cg.append(np.linalg.norm(lp.dot(x) - rhs))\n",
    "\n",
    "\n",
    "def print_minres(x):\n",
    "    res_minres.append(np.linalg.norm(lp.dot(x) - rhs))\n",
    "\n",
    "    \n",
    "def print_gmres(r):\n",
    "    res_gmres.append(r)\n",
    "\n",
    "\n",
    "def print_bicg(x):\n",
    "    res_bicg.append(np.linalg.norm(lp.dot(x) - rhs))\n",
    "    \n",
    "\n",
    "scipy.sparse.linalg.gmres(lp, rhs, x0=np.random.random((n - 1) ** 2), restart=n, callback=print_gmres)\n",
    "scipy.sparse.linalg.cg(lp, rhs, x0=np.random.random((n - 1) ** 2), callback=print_cg)\n",
    "scipy.sparse.linalg.minres(lp, rhs, x0=np.random.random((n - 1) ** 2), callback=print_minres)\n",
    "scipy.sparse.linalg.bicgstab(lp, rhs, x0=np.random.random((n - 1) ** 2), callback=print_bicg)\n",
    "res_bicg = np.array(res_bicg) / res_bicg[0]\n",
    "res_minres = np.array(res_minres) / res_minres[0]\n",
    "res_cg = np.array(res_cg) / res_cg[0]"
   ]
  },
  {
   "cell_type": "code",
   "execution_count": 4,
   "metadata": {
    "collapsed": false
   },
   "outputs": [
    {
     "data": {
      "text/plain": [
       "<matplotlib.legend.Legend at 0x106262be0>"
      ]
     },
     "execution_count": 4,
     "metadata": {},
     "output_type": "execute_result"
    },
    {
     "data": {
      "image/png": "[encoded data removed]",
      "text/plain": [
       "<matplotlib.figure.Figure at 0x103ccf320>"
      ]
     },
     "metadata": {},
     "output_type": "display_data"
    }
   ],
   "source": [
    "lim = 350\n",
    "plt.semilogy(res_cg[:lim], marker='.', color='k', label='CG')\n",
    "plt.semilogy(res_gmres[:lim], marker='x', color='r', label='GMRES')\n",
    "plt.semilogy(res_minres[:lim], marker='^', color='g', label='minRES')\n",
    "plt.semilogy(res_bicg[:lim], label='BiCGStab', marker='o')\n",
    "\n",
    "plt.xlabel('Iteration number')\n",
    "plt.ylabel('Residual')\n",
    "plt.legend(loc='best')"
   ]
  },
  {
   "cell_type": "markdown",
   "metadata": {},
   "source": [
    "The method of choice among cg, minres, GMRES, BicgStab for this problem is BiCGStab. It has the best convergence. CG only works for SPD matrices, and (sometimes) for symmetric matrices. It completely does not work for the non-symmetric matrices. The main disadvantage of GMRES: we have to store all the vectors, so the memory costs grows with each step. This problem is solved by restarts, generating new Krylov subspace. Minres works only for symmetric systems. Minres converges with one iteration. it is a mistake of the library. Also it was written in the documentation to scipy that minres function is expermental. "
   ]
  },
  {
   "cell_type": "code",
   "execution_count": 23,
   "metadata": {
    "collapsed": false
   },
   "outputs": [
    {
     "data": {
      "text/plain": [
       "<matplotlib.legend.Legend at 0x107ca2400>"
      ]
     },
     "execution_count": 23,
     "metadata": {},
     "output_type": "execute_result"
    },
    {
     "data": {
      "image/png": "[encoded data removed]",
      "text/plain": [
       "<matplotlib.figure.Figure at 0x106f35048>"
      ]
     },
     "metadata": {},
     "output_type": "display_data"
    }
   ],
   "source": [
    "plt.semilogy(res_bicg[:lim], label='BiCGStab no ILU', marker='o')\n",
    "n = 256\n",
    "res_bicg_ilui = []\n",
    "A = build_A(n, 'csc')\n",
    "b = build_f(n)\n",
    "lim = 350\n",
    "parameters = []\n",
    "\n",
    "def print_bicg_ilu1(x):\n",
    "    res_bicg_ilui.append(np.linalg.norm(A.dot(x) - b))\n",
    "\n",
    "for p in parameters:\n",
    "    res_bicg_ilui = []\n",
    "    ilu = scipy.sparse.linalg.spilu(A)\n",
    "    L, U = ilu.L, ilu.U\n",
    "    scipy.sparse.linalg.bicgstab(A, b, x0=np.random.random((n - 1) ** 2), callback=print_bicg_ilui)\n",
    "    res_bicg_ilui = np.array(res_bicg_ilui) / res_bicg_ilui[0]\n",
    "    plt.semilogy(res_bicg_ilui[:lim], label='BiCGStab ILU {0}'.format(p), marker='o')\n",
    "\n",
    "plt.xlabel('Iteration number')\n",
    "plt.ylabel('Residual')\n",
    "plt.legend(loc='best')"
   ]
  },
  {
   "cell_type": "code",
   "execution_count": null,
   "metadata": {
    "collapsed": false
   },
   "outputs": [],
   "source": []
  },
  {
   "cell_type": "code",
   "execution_count": null,
   "metadata": {
    "collapsed": false
   },
   "outputs": [],
   "source": []
  },
  {
   "cell_type": "code",
   "execution_count": null,
   "metadata": {
    "collapsed": true
   },
   "outputs": [],
   "source": []
  },
  {
   "cell_type": "markdown",
   "metadata": {},
   "source": [
    "## Problem 2 Deconvolution (Structured matrices)\n",
    "\n",
    "## 50 pts + 30 pts\n",
    "\n",
    "In the problem set 2 you were asked to find convolution of the Lena image with the following filter\n",
    "$$\n",
    "T_{i_1j_1i_2j_2} \\equiv T_{i_1-j_1,i_2-j_2} = \\frac{\\alpha}{\\pi} e^{-\\alpha \\left[(i_1 - j_1)^2 + (i_2 - j_2)^2 \\right]}, \\quad i_1,j_1, i_2, j_2 = 1,\\dots, n, \\quad \\alpha = \\frac{1}{50}\n",
    "$$\n",
    "\n",
    "* Write matvec function that produces multiplication of $T$ by a given vector $x$. Use `scipy.sparse.linalg.LinearOperator` to create an object that has attribute `.dot()` (this object will be further used in the iterative process). Note that `.dot()` input and output must be 1D vectors, so the function `np.reshape` will be usefull.\n",
    "\n",
    "\n",
    "* Convolve Lena with $T$ for $\\alpha = \\frac{1}{100}$ using the obtained Linear Operator. Plot the result as an image.\n",
    "\n",
    "\n",
    "* Run an appropriate Krylov method with the obtained Linear Operator and try to reconstruct Lena using the right hand side from the previous bullet (smoothed Lena). Plot norm of residual with respect to the number of iterations for different $\\alpha$ and corresponding right hand side. Comment on the results.\n",
    "\n",
    "Find image with your name in the attached to this problem set file. This image is the convolution with $T$ for $\\alpha=\\frac{1}{15}$ with small random noise:\n",
    "<img src='noise.png' width=300>\n",
    "\n",
    "The original image looks like\n",
    "<img src='orig.png'>\n",
    "\n",
    "It contains 3 code lines (e.g. yOu, ArE, aWEs0me).\n",
    "Your goal now is to recognize these 3 codes. Each of them will give you extra 10 pts. Since the problem is very ill-posed you need some regularization techniques, such as Tikhonov regularization. "
   ]
  },
  {
   "cell_type": "code",
   "execution_count": null,
   "metadata": {
    "collapsed": true
   },
   "outputs": [],
   "source": []
  },
  {
   "cell_type": "code",
   "execution_count": null,
   "metadata": {
    "collapsed": true
   },
   "outputs": [],
   "source": []
  }
 ],
 "metadata": {
  "kernelspec": {
   "display_name": "Python 3",
   "language": "python",
   "name": "python3"
  },
  "language_info": {
   "codemirror_mode": {
    "name": "ipython",
    "version": 3
   },
   "file_extension": ".py",
   "mimetype": "text/x-python",
   "name": "python",
   "nbconvert_exporter": "python",
   "pygments_lexer": "ipython3",
   "version": "3.4.3"
  }
 },
 "nbformat": 4,
 "nbformat_minor": 0
}
